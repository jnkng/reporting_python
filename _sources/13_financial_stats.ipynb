{
 "cells": [
  {
   "cell_type": "code",
   "execution_count": 1,
   "metadata": {},
   "outputs": [],
   "source": [
    "import pandas as pd\n",
    "import numpy as np"
   ]
  },
  {
   "cell_type": "markdown",
   "metadata": {},
   "source": [
    "# Introduction to Statistics and Indicators in Finance"
   ]
  },
  {
   "cell_type": "markdown",
   "metadata": {},
   "source": [
    "Most fields in finance rely on some sort of data analysis given their respective objective. For example in fundamental analysis of a business, various numbers from the company itself (i.e. from the balance sheet) and such indicators representing the overall market are used in order to price the companies stock. The results from such analyses are utilised in making decisions regarding for example an investement in said company. There are many well established techniques and statistics for pricing financial products. Yet, the search for indicators or ways in generel to foresee an investement's future performance is ever ongoing. Especially since the dawn of more powerful algorithms and artificial intelligence being more readily available for the public. \n",
    "\n",
    "In this chapter, we will take a look at statistics, that are the very basis of such analyses and examine some examples that would lead the way to more sophisticated procedures.  "
   ]
  },
  {
   "cell_type": "markdown",
   "metadata": {},
   "source": [
    "## Returns\n",
    "\n",
    "In order for an investment to be profitable, the money it yields must be higher than the inital investment made (plus some transaction costs which is the amount paid to make the investment, e.g. the money you'd pay a bank so that they buy some stocks for you). If we want to assess how much the value of an investment increased (or decreased), we look at the so called return. The usual, i.e. discrete, return is defined as the relative change in value $S$. In mathematical terms, we look at the ratio of the past and the present value and subtract one:\n",
    "\n",
    "$$ r_t = \\frac{S_t - S_{t-1}}{S_{t-1}} =\\frac{S_t}{S_{t-1}} - 1 $$ \n",
    "\n",
    "Note here that one time step $t$ is of arbitrary length. Two examples: daily returns imply that the price of two successive days are used. Monthly returns would be calculated by using prices that are separated by the time span of one month.\n"
   ]
  },
  {
   "cell_type": "markdown",
   "metadata": {},
   "source": [
    "### Additivity\n",
    "\n",
    "One may be confronted with returns based on different time spans, that need to be taken into account or that somehow need to be compared to each other. This could require a means of aggregating these returns in order to bring them to the same time scale. The property we are looking for is called addititvity, i.e. the sum of the shorter-scale returns should be equal to the larger-scale return. Working with the example above, we could face the need to aggregate the daily returns to get monthly returns. We thus wish to be able to add all daily returns of one month in order to get the monthly return. Note while this is possible, as explained in the following, we can't just split monthly returns into daily returns without making assumptions on the distribution of these artificial daily returns.  \n",
    "We'll now choose a slightly different example of daily and weekly returns (in this example, we assume seven trading days). To calculate weekly returns from daily returns, we mustn't use the daily return as is.  \n",
    "Let's consider the following values:\n",
    "\n",
    "\n",
    "time $t$       |  0   |   1  |   2   |   3    |   4   |   5   |   6   |   7   \n",
    "-------------|------|------|-------|--------|-------|-------|-------|----------\n",
    "prices $S_t$  |  100 |  110 |  121  |  110   |  132  |  105  |  112  |   105  \n",
    "return $r_t$ |  --- | 0.10 |  0.10 |  -0.09 |  0.2  |  -0.20 |  0.07 | -0.06\n",
    "\n",
    "If we simply added all returns, we'd find a weekly return of $r_{0,7} = 0.12$. However, using the correct formula from above, we find that\n",
    "\n",
    "$$ r_{0,7} = \\frac{S_7}{S_{0}} - 1 = \\frac{105}{100} - 1  = 0.05 $$\n",
    "\n",
    "and conclude that indeed daily returns cannot simply be added up in order to yield the weekly return.\n",
    "\n",
    "#### log-returns\n",
    "\n",
    "With a single transformation however, we can can establish the desired additivity over time. The transformation needed is taking the logarithm. There are basically two ways of seeing the calculation of these so called log returns, which are equivalent. Either logarithmise the (daily) **prices** and simply get the difference between sucessive values. Or logarithmise the ratio of the past and current price:  \n",
    "\n",
    "$$ r_t^{log} = \\log{\\frac{S_t}{S_{t-1}}} $$  \n",
    "\n",
    "$$ \\downarrow(\\log{\\frac{x}{y}} = \\log{x}- \\log{y})$$  \n",
    "\n",
    "$$ = \\log{S_t} - \\log{S_{t-1}} $$  \n",
    "\n",
    "These log returns, or continuous returns, now exhibit the qualities the discrete returns from the example above lacked.  \n",
    "Let's have a look at the same table after taking the logarithm and try the same aggregation from above.\n",
    "\n",
    "time $t$       |  0   |   1  |   2   |   3    |   4   |   5   |   6   |   7   \n",
    "-------------|------|------|-------|--------|-------|-------|-------|----------\n",
    "prices $S_t$  |  100 |  110 |  121  |  110   |  132  |  105  |  112  |   105  \n",
    "log return $r_t^{log}$ |  --- | 0.10 |  0.10 |  -0.10 |  0.18  |  -0.23 |  0.06 | -0.06\n",
    "\n",
    "Now, we add all log returns up and find the weekly log return to be $ r_{0,7} = 0.05 $. \n",
    "To convert log returns to discrete returns, we simply take the exponent (the inverse of the logarithm) of the log return **and subtract 1**, which will also result in a value of $0.05$.  \n",
    "\n",
    "Having a look at the math with logarithmised prices, we can unveil the characteristics of this additive behaviour:  \n",
    "\n",
    "$$ r_{t=2}^{log} =\\log{\\frac{S_t}{S_{t-1}}} = \\log{S_{t=2} - \\log{S_{t=0}}} $$  \n",
    "\n",
    "$$\\downarrow \\text{\"add zero\": } - \\log{S_{t=1}} + \\log{S_{t=1}} = 0 $$  \n",
    "\n",
    "$$ r_{0, t=2}^{log} =\\log{S_{t=2} + 0 - \\log{S_{t=0}}} $$\n",
    "\n",
    "$$ r_{0, t=2}^{log} = (\\log{S_{t=2} - \\log{S_{t=1}}) + (\\log{S_{t=1}} - \\log{S_{t=0}}}) $$\n",
    "\n",
    "$$ r_{0, t=2}^{log} = r_{1, t=2}^{log} + r_{0, t=1}^{log} $$\n",
    "\n",
    "\n",
    "One may notice that the log returns are very close to the discrete returns. This is due to the fact, the logarithm behaves almost linear for values close to zero. So for small values of the discrete return, the log returns are very similar. Note that this applies almost always for daily returns and even shorter time spans. For a monthly return (or quarterly, yearly) there \"is more time for the value to develop\" and we usually find higher returns for larger time spans.  \n",
    "\n",
    "Let's have a look at what we can achieve in python using the prices from the table above."
   ]
  },
  {
   "cell_type": "code",
   "execution_count": 2,
   "metadata": {},
   "outputs": [
    {
     "data": {
      "text/html": [
       "<div>\n",
       "<style scoped>\n",
       "    .dataframe tbody tr th:only-of-type {\n",
       "        vertical-align: middle;\n",
       "    }\n",
       "\n",
       "    .dataframe tbody tr th {\n",
       "        vertical-align: top;\n",
       "    }\n",
       "\n",
       "    .dataframe thead th {\n",
       "        text-align: right;\n",
       "    }\n",
       "</style>\n",
       "<table border=\"1\" class=\"dataframe\">\n",
       "  <thead>\n",
       "    <tr style=\"text-align: right;\">\n",
       "      <th></th>\n",
       "      <th>S</th>\n",
       "    </tr>\n",
       "  </thead>\n",
       "  <tbody>\n",
       "    <tr>\n",
       "      <th>0</th>\n",
       "      <td>100</td>\n",
       "    </tr>\n",
       "    <tr>\n",
       "      <th>1</th>\n",
       "      <td>110</td>\n",
       "    </tr>\n",
       "    <tr>\n",
       "      <th>2</th>\n",
       "      <td>121</td>\n",
       "    </tr>\n",
       "    <tr>\n",
       "      <th>3</th>\n",
       "      <td>110</td>\n",
       "    </tr>\n",
       "    <tr>\n",
       "      <th>4</th>\n",
       "      <td>132</td>\n",
       "    </tr>\n",
       "    <tr>\n",
       "      <th>5</th>\n",
       "      <td>105</td>\n",
       "    </tr>\n",
       "    <tr>\n",
       "      <th>6</th>\n",
       "      <td>112</td>\n",
       "    </tr>\n",
       "    <tr>\n",
       "      <th>7</th>\n",
       "      <td>105</td>\n",
       "    </tr>\n",
       "  </tbody>\n",
       "</table>\n",
       "</div>"
      ],
      "text/plain": [
       "     S\n",
       "0  100\n",
       "1  110\n",
       "2  121\n",
       "3  110\n",
       "4  132\n",
       "5  105\n",
       "6  112\n",
       "7  105"
      ]
     },
     "execution_count": 2,
     "metadata": {},
     "output_type": "execute_result"
    }
   ],
   "source": [
    "df = pd.DataFrame({\n",
    "    'S': [100, 110, 121, 110, 132, 105, 112, 105],\n",
    "    },\n",
    "index=list(range(8)))\n",
    "df"
   ]
  },
  {
   "cell_type": "markdown",
   "metadata": {},
   "source": [
    "We can calculate discrete returns simply by using a method of a Series object: `.pct_change()`.  \n",
    "Note the `NaN` value for the first line."
   ]
  },
  {
   "cell_type": "code",
   "execution_count": 3,
   "metadata": {},
   "outputs": [
    {
     "data": {
      "text/html": [
       "<div>\n",
       "<style scoped>\n",
       "    .dataframe tbody tr th:only-of-type {\n",
       "        vertical-align: middle;\n",
       "    }\n",
       "\n",
       "    .dataframe tbody tr th {\n",
       "        vertical-align: top;\n",
       "    }\n",
       "\n",
       "    .dataframe thead th {\n",
       "        text-align: right;\n",
       "    }\n",
       "</style>\n",
       "<table border=\"1\" class=\"dataframe\">\n",
       "  <thead>\n",
       "    <tr style=\"text-align: right;\">\n",
       "      <th></th>\n",
       "      <th>S</th>\n",
       "      <th>discrete_returns</th>\n",
       "    </tr>\n",
       "  </thead>\n",
       "  <tbody>\n",
       "    <tr>\n",
       "      <th>0</th>\n",
       "      <td>100</td>\n",
       "      <td>NaN</td>\n",
       "    </tr>\n",
       "    <tr>\n",
       "      <th>1</th>\n",
       "      <td>110</td>\n",
       "      <td>0.100000</td>\n",
       "    </tr>\n",
       "    <tr>\n",
       "      <th>2</th>\n",
       "      <td>121</td>\n",
       "      <td>0.100000</td>\n",
       "    </tr>\n",
       "    <tr>\n",
       "      <th>3</th>\n",
       "      <td>110</td>\n",
       "      <td>-0.090909</td>\n",
       "    </tr>\n",
       "    <tr>\n",
       "      <th>4</th>\n",
       "      <td>132</td>\n",
       "      <td>0.200000</td>\n",
       "    </tr>\n",
       "    <tr>\n",
       "      <th>5</th>\n",
       "      <td>105</td>\n",
       "      <td>-0.204545</td>\n",
       "    </tr>\n",
       "    <tr>\n",
       "      <th>6</th>\n",
       "      <td>112</td>\n",
       "      <td>0.066667</td>\n",
       "    </tr>\n",
       "    <tr>\n",
       "      <th>7</th>\n",
       "      <td>105</td>\n",
       "      <td>-0.062500</td>\n",
       "    </tr>\n",
       "  </tbody>\n",
       "</table>\n",
       "</div>"
      ],
      "text/plain": [
       "     S  discrete_returns\n",
       "0  100               NaN\n",
       "1  110          0.100000\n",
       "2  121          0.100000\n",
       "3  110         -0.090909\n",
       "4  132          0.200000\n",
       "5  105         -0.204545\n",
       "6  112          0.066667\n",
       "7  105         -0.062500"
      ]
     },
     "execution_count": 3,
     "metadata": {},
     "output_type": "execute_result"
    }
   ],
   "source": [
    "df['discrete_returns'] = df.S.pct_change()\n",
    "df"
   ]
  },
  {
   "cell_type": "markdown",
   "metadata": {},
   "source": [
    "To calculate log returns with numpy's `np.log()`, we can either utilise the prices, logarithmise them and calculate the difference using `.diff()` or use the discrete returns by adding one before taking the logarithm.\n",
    "For completeness, we also add a column with discrete returns calculated from the log returns."
   ]
  },
  {
   "cell_type": "code",
   "execution_count": 4,
   "metadata": {},
   "outputs": [
    {
     "data": {
      "text/html": [
       "<div>\n",
       "<style scoped>\n",
       "    .dataframe tbody tr th:only-of-type {\n",
       "        vertical-align: middle;\n",
       "    }\n",
       "\n",
       "    .dataframe tbody tr th {\n",
       "        vertical-align: top;\n",
       "    }\n",
       "\n",
       "    .dataframe thead th {\n",
       "        text-align: right;\n",
       "    }\n",
       "</style>\n",
       "<table border=\"1\" class=\"dataframe\">\n",
       "  <thead>\n",
       "    <tr style=\"text-align: right;\">\n",
       "      <th></th>\n",
       "      <th>S</th>\n",
       "      <th>discrete_returns</th>\n",
       "      <th>log_returns</th>\n",
       "      <th>log_returns_alt</th>\n",
       "      <th>discrete_returns_from_log</th>\n",
       "    </tr>\n",
       "  </thead>\n",
       "  <tbody>\n",
       "    <tr>\n",
       "      <th>0</th>\n",
       "      <td>100</td>\n",
       "      <td>NaN</td>\n",
       "      <td>NaN</td>\n",
       "      <td>NaN</td>\n",
       "      <td>NaN</td>\n",
       "    </tr>\n",
       "    <tr>\n",
       "      <th>1</th>\n",
       "      <td>110</td>\n",
       "      <td>0.100000</td>\n",
       "      <td>0.095310</td>\n",
       "      <td>0.095310</td>\n",
       "      <td>0.100000</td>\n",
       "    </tr>\n",
       "    <tr>\n",
       "      <th>2</th>\n",
       "      <td>121</td>\n",
       "      <td>0.100000</td>\n",
       "      <td>0.095310</td>\n",
       "      <td>0.095310</td>\n",
       "      <td>0.100000</td>\n",
       "    </tr>\n",
       "    <tr>\n",
       "      <th>3</th>\n",
       "      <td>110</td>\n",
       "      <td>-0.090909</td>\n",
       "      <td>-0.095310</td>\n",
       "      <td>-0.095310</td>\n",
       "      <td>-0.090909</td>\n",
       "    </tr>\n",
       "    <tr>\n",
       "      <th>4</th>\n",
       "      <td>132</td>\n",
       "      <td>0.200000</td>\n",
       "      <td>0.182322</td>\n",
       "      <td>0.182322</td>\n",
       "      <td>0.200000</td>\n",
       "    </tr>\n",
       "    <tr>\n",
       "      <th>5</th>\n",
       "      <td>105</td>\n",
       "      <td>-0.204545</td>\n",
       "      <td>-0.228842</td>\n",
       "      <td>-0.228842</td>\n",
       "      <td>-0.204545</td>\n",
       "    </tr>\n",
       "    <tr>\n",
       "      <th>6</th>\n",
       "      <td>112</td>\n",
       "      <td>0.066667</td>\n",
       "      <td>0.064539</td>\n",
       "      <td>0.064539</td>\n",
       "      <td>0.066667</td>\n",
       "    </tr>\n",
       "    <tr>\n",
       "      <th>7</th>\n",
       "      <td>105</td>\n",
       "      <td>-0.062500</td>\n",
       "      <td>-0.064539</td>\n",
       "      <td>-0.064539</td>\n",
       "      <td>-0.062500</td>\n",
       "    </tr>\n",
       "  </tbody>\n",
       "</table>\n",
       "</div>"
      ],
      "text/plain": [
       "     S  discrete_returns  log_returns  log_returns_alt  \\\n",
       "0  100               NaN          NaN              NaN   \n",
       "1  110          0.100000     0.095310         0.095310   \n",
       "2  121          0.100000     0.095310         0.095310   \n",
       "3  110         -0.090909    -0.095310        -0.095310   \n",
       "4  132          0.200000     0.182322         0.182322   \n",
       "5  105         -0.204545    -0.228842        -0.228842   \n",
       "6  112          0.066667     0.064539         0.064539   \n",
       "7  105         -0.062500    -0.064539        -0.064539   \n",
       "\n",
       "   discrete_returns_from_log  \n",
       "0                        NaN  \n",
       "1                   0.100000  \n",
       "2                   0.100000  \n",
       "3                  -0.090909  \n",
       "4                   0.200000  \n",
       "5                  -0.204545  \n",
       "6                   0.066667  \n",
       "7                  -0.062500  "
      ]
     },
     "execution_count": 4,
     "metadata": {},
     "output_type": "execute_result"
    }
   ],
   "source": [
    "# use prices and \n",
    "df['log_returns'] = np.log(df.S).diff()\n",
    "df['log_returns_alt'] = np.log(df.discrete_returns.dropna()+1)\n",
    "df['discrete_returns_from_log'] = np.exp(df.log_returns) - 1\n",
    "df"
   ]
  },
  {
   "cell_type": "markdown",
   "metadata": {},
   "source": [
    "### Portfolios and cross sectional additivity\n",
    "\n",
    "So far, we established a way to track a single investment's performance over time using (log) returns. Now, we would also like to track the performance of a portfolio over time. A portfolio ($PF$) is a collection of investments. So if you had bought one share each from two different companies, these would form your portfolio. Portfolios can in general have different ways of being allocated, i.e. by the criteria the stocks are selected into the portfolio. Without loss of generality, we can describe a portfolio's value by the sum of its constituents. These are defined as the weight (fraction of total capital) of each single stock $w_i$ multiplied by the respective stock's value $S_i$.\n",
    "$$ P_i = w_i \\cdot S_i$$\n",
    "where $i$ indicates the company.\n",
    "\n",
    "Given the returns of the whole portfolio as time series data, we can just apply the methods from above. However, if we are given the prices of the single stocks of which the portfolio consists, we need a way to calculate the portfolio's performance in the cross section. Meaning we would like to calculate the performance from $t=0$ to $t=1$ for the entirety of stocks in our portfolio. To do so, will again resort to calculating returns.\n",
    "For the cross sectional portfolio return, we now **must not use log returns**. Instead, discrete returns already possess the desired cross sectional additivity. Looking at the portfolio return, we'll use the price development of a single stock \n",
    "$$ P_{t+1}^i = P_t^i (1 + r_{t+1}^i) $$\n",
    "\n",
    "It can now be derived, that discrete returns do indeed possess the cross sectional additivity\n",
    "$$ r_{t+1}^{PF} = \\sum_i P^i_t (1 + r_{t+1}^i) $$\n",
    "$$ = \\sum_i{w_i S_t} + \\sum_i{w_i S_t r_{t+1}^i} $$\n",
    "$$ = S_t \\cdot (1 + \\sum_i w_i r_{t+1}^i) $$\n",
    "with $\\sum_i w_i = 1$.  \n",
    " \n",
    "Let's have a look at the following data:\n",
    "   \n",
    "time $t$       |  0   |   1  |   2   |   3    |   4   |   5   |   6   |   7   \n",
    "-------------|------|------|-------|--------|-------|-------|-------|----------\n",
    "company A $A_t$  |  100 |  110 |  121  |  110   |  132  |  105  |  112  |   105  \n",
    "company B $B_t$  |  200 |  180 |  194  |  198   |  197  |  205  |  208  |   215  \n",
    "\n",
    "For simplicity, we will assume to invest the same amount of money in both stocks. This gives $w_1=w_2=0.5$. This would for example mean we bought two shares of company A for a total of 200 monetary units (mu) and and one share of company B for the same amount of mu.  \n",
    "We will now calculate the dauily returns of the portfolio using pandas:"
   ]
  },
  {
   "cell_type": "code",
   "execution_count": 5,
   "metadata": {},
   "outputs": [
    {
     "data": {
      "text/html": [
       "<div>\n",
       "<style scoped>\n",
       "    .dataframe tbody tr th:only-of-type {\n",
       "        vertical-align: middle;\n",
       "    }\n",
       "\n",
       "    .dataframe tbody tr th {\n",
       "        vertical-align: top;\n",
       "    }\n",
       "\n",
       "    .dataframe thead th {\n",
       "        text-align: right;\n",
       "    }\n",
       "</style>\n",
       "<table border=\"1\" class=\"dataframe\">\n",
       "  <thead>\n",
       "    <tr style=\"text-align: right;\">\n",
       "      <th></th>\n",
       "      <th>A</th>\n",
       "      <th>B</th>\n",
       "    </tr>\n",
       "  </thead>\n",
       "  <tbody>\n",
       "    <tr>\n",
       "      <th>0</th>\n",
       "      <td>100</td>\n",
       "      <td>200</td>\n",
       "    </tr>\n",
       "    <tr>\n",
       "      <th>1</th>\n",
       "      <td>110</td>\n",
       "      <td>180</td>\n",
       "    </tr>\n",
       "    <tr>\n",
       "      <th>2</th>\n",
       "      <td>121</td>\n",
       "      <td>194</td>\n",
       "    </tr>\n",
       "    <tr>\n",
       "      <th>3</th>\n",
       "      <td>110</td>\n",
       "      <td>198</td>\n",
       "    </tr>\n",
       "    <tr>\n",
       "      <th>4</th>\n",
       "      <td>132</td>\n",
       "      <td>197</td>\n",
       "    </tr>\n",
       "    <tr>\n",
       "      <th>5</th>\n",
       "      <td>105</td>\n",
       "      <td>205</td>\n",
       "    </tr>\n",
       "    <tr>\n",
       "      <th>6</th>\n",
       "      <td>112</td>\n",
       "      <td>208</td>\n",
       "    </tr>\n",
       "    <tr>\n",
       "      <th>7</th>\n",
       "      <td>105</td>\n",
       "      <td>215</td>\n",
       "    </tr>\n",
       "  </tbody>\n",
       "</table>\n",
       "</div>"
      ],
      "text/plain": [
       "     A    B\n",
       "0  100  200\n",
       "1  110  180\n",
       "2  121  194\n",
       "3  110  198\n",
       "4  132  197\n",
       "5  105  205\n",
       "6  112  208\n",
       "7  105  215"
      ]
     },
     "execution_count": 5,
     "metadata": {},
     "output_type": "execute_result"
    }
   ],
   "source": [
    "df = pd.DataFrame({\n",
    "    'A': [100, 110, 121, 110, 132, 105, 112, 105],\n",
    "    'B': [200, 180, 194, 198, 197, 205, 208, 215],\n",
    "    },\n",
    "index=list(range(8)))\n",
    "df"
   ]
  },
  {
   "cell_type": "code",
   "execution_count": 6,
   "metadata": {},
   "outputs": [],
   "source": [
    "df['A_return'] = df.A.pct_change()\n",
    "df['B_return'] = df.B.pct_change()\n",
    "df['pf_return'] = np.round((2 * df.A.shift()/400) * df.A_return + (df.B.shift()/400) * df.B_return, 4)\n"
   ]
  },
  {
   "cell_type": "code",
   "execution_count": 7,
   "metadata": {
    "scrolled": true
   },
   "outputs": [
    {
     "data": {
      "text/html": [
       "<div>\n",
       "<style scoped>\n",
       "    .dataframe tbody tr th:only-of-type {\n",
       "        vertical-align: middle;\n",
       "    }\n",
       "\n",
       "    .dataframe tbody tr th {\n",
       "        vertical-align: top;\n",
       "    }\n",
       "\n",
       "    .dataframe thead th {\n",
       "        text-align: right;\n",
       "    }\n",
       "</style>\n",
       "<table border=\"1\" class=\"dataframe\">\n",
       "  <thead>\n",
       "    <tr style=\"text-align: right;\">\n",
       "      <th></th>\n",
       "      <th>A</th>\n",
       "      <th>B</th>\n",
       "      <th>A_return</th>\n",
       "      <th>B_return</th>\n",
       "      <th>pf_return</th>\n",
       "    </tr>\n",
       "  </thead>\n",
       "  <tbody>\n",
       "    <tr>\n",
       "      <th>0</th>\n",
       "      <td>100</td>\n",
       "      <td>200</td>\n",
       "      <td>NaN</td>\n",
       "      <td>NaN</td>\n",
       "      <td>NaN</td>\n",
       "    </tr>\n",
       "    <tr>\n",
       "      <th>1</th>\n",
       "      <td>110</td>\n",
       "      <td>180</td>\n",
       "      <td>0.100000</td>\n",
       "      <td>-0.100000</td>\n",
       "      <td>0.0000</td>\n",
       "    </tr>\n",
       "    <tr>\n",
       "      <th>2</th>\n",
       "      <td>121</td>\n",
       "      <td>194</td>\n",
       "      <td>0.100000</td>\n",
       "      <td>0.077778</td>\n",
       "      <td>0.0900</td>\n",
       "    </tr>\n",
       "    <tr>\n",
       "      <th>3</th>\n",
       "      <td>110</td>\n",
       "      <td>198</td>\n",
       "      <td>-0.090909</td>\n",
       "      <td>0.020619</td>\n",
       "      <td>-0.0450</td>\n",
       "    </tr>\n",
       "    <tr>\n",
       "      <th>4</th>\n",
       "      <td>132</td>\n",
       "      <td>197</td>\n",
       "      <td>0.200000</td>\n",
       "      <td>-0.005051</td>\n",
       "      <td>0.1075</td>\n",
       "    </tr>\n",
       "    <tr>\n",
       "      <th>5</th>\n",
       "      <td>105</td>\n",
       "      <td>205</td>\n",
       "      <td>-0.204545</td>\n",
       "      <td>0.040609</td>\n",
       "      <td>-0.1150</td>\n",
       "    </tr>\n",
       "    <tr>\n",
       "      <th>6</th>\n",
       "      <td>112</td>\n",
       "      <td>208</td>\n",
       "      <td>0.066667</td>\n",
       "      <td>0.014634</td>\n",
       "      <td>0.0425</td>\n",
       "    </tr>\n",
       "    <tr>\n",
       "      <th>7</th>\n",
       "      <td>105</td>\n",
       "      <td>215</td>\n",
       "      <td>-0.062500</td>\n",
       "      <td>0.033654</td>\n",
       "      <td>-0.0175</td>\n",
       "    </tr>\n",
       "  </tbody>\n",
       "</table>\n",
       "</div>"
      ],
      "text/plain": [
       "     A    B  A_return  B_return  pf_return\n",
       "0  100  200       NaN       NaN        NaN\n",
       "1  110  180  0.100000 -0.100000     0.0000\n",
       "2  121  194  0.100000  0.077778     0.0900\n",
       "3  110  198 -0.090909  0.020619    -0.0450\n",
       "4  132  197  0.200000 -0.005051     0.1075\n",
       "5  105  205 -0.204545  0.040609    -0.1150\n",
       "6  112  208  0.066667  0.014634     0.0425\n",
       "7  105  215 -0.062500  0.033654    -0.0175"
      ]
     },
     "execution_count": 7,
     "metadata": {},
     "output_type": "execute_result"
    }
   ],
   "source": [
    "df"
   ]
  },
  {
   "cell_type": "markdown",
   "metadata": {},
   "source": [
    "We can take a closer look at the first two daily returns of the stocks and the portfolio:\n",
    "- for $t=1$:\n",
    "    - Our investment of 200 mu (2 shares) in Stock $A$ is now worth 220 mu, i.e. the return is 10 %\n",
    "    - Our investment of 200 mu (1 share) in Stock $B$ is now worth 180 mu, i.e. the return is -10 %  \n",
    "    $\\rightarrow$ the portfolio's value stays the same as for $t=0$ \n",
    "- for $t=2$:\n",
    "    - Our position of 220 mu in Stock $A$ is now worth 242 mu, i.e. the daily return is 10 %  \n",
    "    - Our position of 180 mu in Stock $B$ is now worth 194 mu, i.e. the daily return is 8 %   \n",
    "    $\\rightarrow$ the portfolio's value increases to a total of 436 mu which means the daily return is $\\frac{436}{400} - 1 = 0.09$"
   ]
  },
  {
   "cell_type": "markdown",
   "metadata": {},
   "source": [
    "### Characteristics of returns \n",
    "\n",
    "Usually, returns exhibit the following:\n",
    "- expected returns are close to zero (the shorter the time span, the smaller the expected return)\n",
    "- weakly stationary (i.e. constant expected value and variance over time) **but** usually volatility clustering\n",
    "- skewed distribution\n",
    "\n",
    "From these items alone, we can start an analysis of stock returns by looking at some (standardized) moments of the empirical data:\n",
    "- the average return as an estimate of the expected return\n",
    "- the empirical variance or standard deviation/volatility \n",
    "- skewness (if negative: left skewed)\n",
    "- (excess) kurtosis (larger $\\rightarrow$ fat tails)\n",
    "\n",
    "The average return can be seen as an indicator on how profitable a long term investment may be. The volatility is interpreted as a risk measure, i.e. the higher the volatility, the higher the risk. Skewness, especially left-skewdness, can indicate a higher probability of being exposed to larger losses. Finally, kurtosis means how \"fat tailed\" a distribution is and thus how exposed the investment would be to extreme values, both positive and negative. If we talk about excess kurtosis, we subtract a value of 3. this reference value is the kurtosis of a standard normal distribution.\n",
    "\n",
    "In pandas, we can take a look at these moments by calling the appropriate methods. We will have a look at real-world data, downloading close prices using the yfinance package and calculating the returns. "
   ]
  },
  {
   "cell_type": "code",
   "execution_count": 8,
   "metadata": {},
   "outputs": [],
   "source": [
    "import yfinance as yf\n",
    "\n",
    "msft = yf.Ticker('MSFT').history(start=\"2020-01-01\")"
   ]
  },
  {
   "cell_type": "code",
   "execution_count": 9,
   "metadata": {},
   "outputs": [],
   "source": [
    "msft = msft[['Close']]\n",
    "msft['daily_return'] = msft['Close'].pct_change()\n",
    "msft.dropna(inplace=True)"
   ]
  },
  {
   "cell_type": "code",
   "execution_count": 10,
   "metadata": {},
   "outputs": [
    {
     "name": "stdout",
     "output_type": "stream",
     "text": [
      "average return 0.0008\n",
      "volatility 0.0219\n",
      "skewness 0.0073\n",
      "kurtosis 6.1606\n"
     ]
    }
   ],
   "source": [
    "avg_return = msft.daily_return.mean()\n",
    "vola = msft.daily_return.std()\n",
    "skew = msft.daily_return.skew()\n",
    "kurtis = msft.daily_return.kurt()\n",
    "\n",
    "\n",
    "print(f'average return {np.round(avg_return,4)}')\n",
    "print(f'volatility {np.round(vola, 4)}')\n",
    "print(f'skewness {np.round(skew, 4)}')\n",
    "print(f'kurtosis {np.round(kurtis, 4)}')"
   ]
  },
  {
   "cell_type": "markdown",
   "metadata": {},
   "source": [
    "As we discussed in earlier chapter, it is always recommended to take a look at some charts.  \n",
    "We can plot returns over time as well as look at the distribution."
   ]
  },
  {
   "cell_type": "code",
   "execution_count": 11,
   "metadata": {},
   "outputs": [
    {
     "data": {
      "text/plain": [
       "<AxesSubplot:xlabel='Date'>"
      ]
     },
     "execution_count": 11,
     "metadata": {},
     "output_type": "execute_result"
    },
    {
     "data": {
      "image/png": "[encoded data removed]",
      "text/plain": [
       "<Figure size 432x288 with 1 Axes>"
      ]
     },
     "metadata": {
      "needs_background": "light"
     },
     "output_type": "display_data"
    }
   ],
   "source": [
    "msft.daily_return.plot()"
   ]
  },
  {
   "cell_type": "markdown",
   "metadata": {},
   "source": [
    "Over time, we see that the volatility is far from constant, something that is often knowingly ignored/downplayed. Even though it is found  in almost every time series of returns given a sufficiently long observation period.\n",
    "\n",
    "To look at the distribution, we already know which plot to utilise."
   ]
  },
  {
   "cell_type": "code",
   "execution_count": 12,
   "metadata": {},
   "outputs": [
    {
     "data": {
      "text/plain": [
       "<AxesSubplot:xlabel='daily_return', ylabel='Count'>"
      ]
     },
     "execution_count": 12,
     "metadata": {},
     "output_type": "execute_result"
    },
    {
     "data": {
      "image/png": "[encoded data removed]",
      "text/plain": [
       "<Figure size 432x288 with 1 Axes>"
      ]
     },
     "metadata": {
      "needs_background": "light"
     },
     "output_type": "display_data"
    }
   ],
   "source": [
    "import matplotlib.pyplot as plt\n",
    "import seaborn as sns\n",
    "\n",
    "sns.histplot(msft.daily_return, color='forestgreen', kde = True)"
   ]
  },
  {
   "cell_type": "markdown",
   "metadata": {},
   "source": [
    "From the kernel density estimation (solid line), we can in fact see the left-skewedness of the distribution, meaning we find more negative returns of larger values."
   ]
  },
  {
   "cell_type": "markdown",
   "metadata": {},
   "source": [
    "### Indicators\n",
    "\n",
    "In order to determine the performance, different indicators can be consulted. When it comes to trading, a whole universe of technical indocators exiists, all seeking to predict future performance.\n",
    "\n",
    "A classic example of a performance measure is the Sharpe ratio. It is a rather simple measure to indicate the (excess) return of an investment in relation to the risk to which it was exposed, where the risk is measured by the volatility of the (excess) return.\n",
    "\n",
    "#### Technical indicators \n",
    "\n",
    "Technical indicators are used in technical analysis and calculated using historical stock prices and/or the trading volume. Technical analysis in general aims at forecasting prices or market movements in order to generate revenue by trading. Note however, on average it is not possible to outperform the market using these very commonly known indicators. Technical indicators are usually designed to capture patterns of price movements, like long term development or short term returns. It is these patterns that are then meant to be exploited.\n",
    "\n",
    "Usually, some sort of chart is produced for the indicator in order to identify patterns as the \"rules\"\n",
    "for indicators may vary from trader to trader. These rules are defined as indicator specific signals, e.g. critical values or sub-patterns, which tell the trader to sell or buy the stock. \n",
    "\n",
    "As a simple example, we can have a look at the the golden cross. It is found by comparing the 200 days and 50 days simple moving average of the close price and considering it a buy-signal, if the 50 day (fast) moving average takes on higher values than the (slow) 200 days moving average.\n",
    "\n",
    "Again, there is are methods available for pandas series: `.rolling()` creates an object similar to what we know from `groupby()`. Calling `.mean()` on this object then calculates the mean of the days in this time window."
   ]
  },
  {
   "cell_type": "code",
   "execution_count": 13,
   "metadata": {},
   "outputs": [
    {
     "data": {
      "image/png": "[encoded data removed]",
      "text/plain": [
       "<Figure size 432x288 with 1 Axes>"
      ]
     },
     "metadata": {
      "needs_background": "light"
     },
     "output_type": "display_data"
    }
   ],
   "source": [
    "mmm = yf.Ticker('AMD').history(start=\"2020-01-01\")\n",
    "mmm['SMA_50'] = mmm.Close.rolling(50).mean()\n",
    "mmm['SMA_200'] = mmm.Close.rolling(200).mean()\n",
    "\n",
    "plt.figure()\n",
    "plt.plot(mmm.SMA_50, label='50')\n",
    "plt.plot(mmm.SMA_200, label='200')\n",
    "plt.plot(mmm.Close, label='Close', alpha=.5)\n",
    "plt.legend()\n",
    "plt.show()"
   ]
  },
  {
   "cell_type": "markdown",
   "metadata": {},
   "source": [
    "In the graph, we can see one golden crossing, where the blue line crosses above the orange line (only after a short drop below).\n",
    "This would indicate to buy the stock at the time of the crossing. A strategy that would have worked if for example selling before the lines switch their order again later. "
   ]
  },
  {
   "cell_type": "code",
   "execution_count": 14,
   "metadata": {},
   "outputs": [],
   "source": [
    "import pandas as pd\n",
    "df = yf.Ticker('AAPL').history(start='2021-01-01')\n",
    "df.reset_index(inplace=True, drop=True)\n",
    "\n",
    "def awe_osc(high, low, fast=5, slow=34):\n",
    "    if slow < fast:\n",
    "        fast, slow = slow, fast\n",
    "        \n",
    "    median_price = 0.5 * (high + low)\n",
    "    fast_sma = median_price.rolling(fast).mean()\n",
    "    slow_sma = median_price.rolling(slow).mean()\n",
    "    ao = fast_sma - slow_sma\n",
    "\n",
    "    # Name and Categorize it\n",
    "    ao.name = f\"AO_{fast}_{slow}\"\n",
    "    return pd.DataFrame(ao)\n",
    "\n",
    "ao = awe_osc(df.High, df.Low)"
   ]
  },
  {
   "cell_type": "code",
   "execution_count": 15,
   "metadata": {},
   "outputs": [
    {
     "data": {
      "text/html": [
       "<div>\n",
       "<style scoped>\n",
       "    .dataframe tbody tr th:only-of-type {\n",
       "        vertical-align: middle;\n",
       "    }\n",
       "\n",
       "    .dataframe tbody tr th {\n",
       "        vertical-align: top;\n",
       "    }\n",
       "\n",
       "    .dataframe thead th {\n",
       "        text-align: right;\n",
       "    }\n",
       "</style>\n",
       "<table border=\"1\" class=\"dataframe\">\n",
       "  <thead>\n",
       "    <tr style=\"text-align: right;\">\n",
       "      <th></th>\n",
       "      <th>AO_5_34</th>\n",
       "    </tr>\n",
       "  </thead>\n",
       "  <tbody>\n",
       "    <tr>\n",
       "      <th>30</th>\n",
       "      <td>NaN</td>\n",
       "    </tr>\n",
       "    <tr>\n",
       "      <th>31</th>\n",
       "      <td>NaN</td>\n",
       "    </tr>\n",
       "    <tr>\n",
       "      <th>32</th>\n",
       "      <td>NaN</td>\n",
       "    </tr>\n",
       "    <tr>\n",
       "      <th>33</th>\n",
       "      <td>-2.880096</td>\n",
       "    </tr>\n",
       "    <tr>\n",
       "      <th>34</th>\n",
       "      <td>-5.005664</td>\n",
       "    </tr>\n",
       "  </tbody>\n",
       "</table>\n",
       "</div>"
      ],
      "text/plain": [
       "     AO_5_34\n",
       "30       NaN\n",
       "31       NaN\n",
       "32       NaN\n",
       "33 -2.880096\n",
       "34 -5.005664"
      ]
     },
     "execution_count": 15,
     "metadata": {},
     "output_type": "execute_result"
    }
   ],
   "source": [
    "ao[30:35]"
   ]
  },
  {
   "cell_type": "code",
   "execution_count": 16,
   "metadata": {},
   "outputs": [],
   "source": [
    "ao['shift_diff'] = ao > ao.shift()"
   ]
  },
  {
   "cell_type": "code",
   "execution_count": 17,
   "metadata": {},
   "outputs": [
    {
     "data": {
      "text/plain": [
       "<AxesSubplot:>"
      ]
     },
     "execution_count": 17,
     "metadata": {},
     "output_type": "execute_result"
    },
    {
     "data": {
      "image/png": "[encoded data removed]",
      "text/plain": [
       "<Figure size 432x288 with 1 Axes>"
      ]
     },
     "metadata": {
      "needs_background": "light"
     },
     "output_type": "display_data"
    }
   ],
   "source": [
    "ao.plot()"
   ]
  },
  {
   "cell_type": "markdown",
   "metadata": {},
   "source": [
    "The standard graph for the awesome oscillator is a bar plot in red and green, where the color captures the price movement from one increment to the next: red for a lower price, green for a higher price.\n",
    "\n",
    "We can have a look [here](https://www.ifcm.co.uk/ntx-indicators/awesome-oscillator) for an explanation of the indicator and the rules."
   ]
  },
  {
   "cell_type": "code",
   "execution_count": 18,
   "metadata": {},
   "outputs": [
    {
     "data": {
      "image/png": "[encoded data removed]",
      "text/plain": [
       "<Figure size 1296x360 with 1 Axes>"
      ]
     },
     "metadata": {
      "needs_background": "light"
     },
     "output_type": "display_data"
    }
   ],
   "source": [
    "import matplotlib.pyplot as plt\n",
    "\n",
    "plt.figure(figsize=(18,5))\n",
    "plt.bar(ao[ao.shift_diff==1].index, ao[ao.shift_diff==1].AO_5_34, color='green')\n",
    "plt.bar(ao[ao.shift_diff==0].index, ao[ao.shift_diff==0].AO_5_34, color='red')\n",
    "plt.show()\n",
    "\n",
    "ao['signal'] = ao.shift_diff.astype(int)"
   ]
  }
 ],
 "metadata": {
  "kernelspec": {
   "display_name": "Python 3 (ipykernel)",
   "language": "python",
   "name": "python3"
  },
  "language_info": {
   "codemirror_mode": {
    "name": "ipython",
    "version": 3
   },
   "file_extension": ".py",
   "mimetype": "text/x-python",
   "name": "python",
   "nbconvert_exporter": "python",
   "pygments_lexer": "ipython3",
   "version": "3.8.8"
  },
  "vscode": {
   "interpreter": {
    "hash": "1a1af0ee75eeea9e2e1ee996c87e7a2b11a0bebd85af04bb136d915cefc0abce"
   }
  }
 },
 "nbformat": 4,
 "nbformat_minor": 2
}
