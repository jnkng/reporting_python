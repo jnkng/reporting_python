{
 "cells": [
  {
   "cell_type": "markdown",
   "metadata": {},
   "source": [
    "# First steps\n",
    "\n",
    "This chapter provides an introduction to basic commands and useful built-in libraries.  \n",
    "\n",
    "As mentioned, this course will rely on jupyter notebooks. Code will be written in cells, which can be run independently. \n",
    "To run a cell, one can use the run symbol above the cells by clicking on it. A more convenient way is again using the corresponding keyboard shortcut: holding **shift** and  pressing **enter**.\\\n",
    "This will run the current cell and select the next cell below."
   ]
  },
  {
   "cell_type": "code",
   "execution_count": 1,
   "metadata": {},
   "outputs": [
    {
     "data": {
      "text/plain": [
       "'3.10.6 (main, Oct  7 2022, 15:17:23) [Clang 12.0.0 ]'"
      ]
     },
     "execution_count": 1,
     "metadata": {},
     "output_type": "execute_result"
    }
   ],
   "source": [
    "import sys\n",
    "sys.version"
   ]
  },
  {
   "cell_type": "code",
   "execution_count": 2,
   "metadata": {
    "scrolled": true
   },
   "outputs": [
    {
     "name": "stdout",
     "output_type": "stream",
     "text": [
      "The Zen of Python, by Tim Peters\n",
      "\n",
      "Beautiful is better than ugly.\n",
      "Explicit is better than implicit.\n",
      "Simple is better than complex.\n",
      "Complex is better than complicated.\n",
      "Flat is better than nested.\n",
      "Sparse is better than dense.\n",
      "Readability counts.\n",
      "Special cases aren't special enough to break the rules.\n",
      "Although practicality beats purity.\n",
      "Errors should never pass silently.\n",
      "Unless explicitly silenced.\n",
      "In the face of ambiguity, refuse the temptation to guess.\n",
      "There should be one-- and preferably only one --obvious way to do it.\n",
      "Although that way may not be obvious at first unless you're Dutch.\n",
      "Now is better than never.\n",
      "Although never is often better than *right* now.\n",
      "If the implementation is hard to explain, it's a bad idea.\n",
      "If the implementation is easy to explain, it may be a good idea.\n",
      "Namespaces are one honking great idea -- let's do more of those!\n"
     ]
    }
   ],
   "source": [
    "import this"
   ]
  },
  {
   "cell_type": "markdown",
   "metadata": {},
   "source": [
    "## Basic Python\n",
    "\n",
    "Just starting a jupyter notebook and thus a python kernel already allows several basicoperations. The perhaps most obvious functionality would be to use a cell to calculate a mathematical expression. To do so, just enter the expression and run the cell:"
   ]
  },
  {
   "cell_type": "code",
   "execution_count": 3,
   "metadata": {},
   "outputs": [
    {
     "data": {
      "text/plain": [
       "1000"
      ]
     },
     "execution_count": 3,
     "metadata": {},
     "output_type": "execute_result"
    }
   ],
   "source": [
    "999+1"
   ]
  },
  {
   "cell_type": "code",
   "execution_count": 4,
   "metadata": {},
   "outputs": [
    {
     "data": {
      "text/plain": [
       "4"
      ]
     },
     "execution_count": 4,
     "metadata": {},
     "output_type": "execute_result"
    }
   ],
   "source": [
    "# comments inside the cell, starting with '#' help readers to understand your code. \n",
    "# These lines are not run! \n",
    "2 * (2 + 2) - 4"
   ]
  },
  {
   "cell_type": "markdown",
   "metadata": {},
   "source": [
    "While jupyter will print the result of such one line expressions immediately, writing both expressions in one cell will print only the last computed result:"
   ]
  },
  {
   "cell_type": "code",
   "execution_count": 5,
   "metadata": {},
   "outputs": [
    {
     "data": {
      "text/plain": [
       "4"
      ]
     },
     "execution_count": 5,
     "metadata": {},
     "output_type": "execute_result"
    }
   ],
   "source": [
    "999+1\n",
    "2 * (2 + 2) - 4"
   ]
  },
  {
   "cell_type": "markdown",
   "metadata": {},
   "source": [
    "In the common case, where code inside one cell will exceed one line or will produce more than just on result, the ```print()``` function can be used. Functions in python get their parameters in parentheses (more on functions later):"
   ]
  },
  {
   "cell_type": "code",
   "execution_count": 6,
   "metadata": {},
   "outputs": [
    {
     "name": "stdout",
     "output_type": "stream",
     "text": [
      "1000\n",
      "4\n"
     ]
    }
   ],
   "source": [
    "print(999+1)\n",
    "print(2 * (2 + 2) - 4)"
   ]
  },
  {
   "cell_type": "markdown",
   "metadata": {},
   "source": [
    "Some basic operations and functions are"
   ]
  },
  {
   "cell_type": "code",
   "execution_count": 7,
   "metadata": {},
   "outputs": [
    {
     "name": "stdout",
     "output_type": "stream",
     "text": [
      "Addition: 2\n",
      "Subtraction: 1\n",
      "Division: 0.5\n",
      "Multiplication: 2\n",
      "Modulus: 1\n",
      "Floor division: 2\n",
      "Exponent: 8\n",
      "Minimum: 2\n",
      "Maximum: 5\n"
     ]
    }
   ],
   "source": [
    "print('Addition:',       1 + 1 )      \n",
    "print('Subtraction:',    2 - 1 )      \n",
    "print('Division:',       1 / 2 )      \n",
    "print('Multiplication:', 2 * 1 )      \n",
    "print('Modulus:',        3 % 2 )      \n",
    "print('Floor division:', 5 // 2 )     \n",
    "print('Exponent:',       2 ** 3 )     \n",
    "print('Minimum:',       min(2,5))\n",
    "print('Maximum:',       max(2,5))"
   ]
  },
  {
   "cell_type": "markdown",
   "metadata": {},
   "source": [
    "Autocompletion is a very useful tool for writing code. Not only will it provide already defined variables. It will also show you available methods on different objects (more on objects later).\n",
    "\n",
    "Autocompletion or suggestions for completion will appear when pressing **tab** in code, as long as it is not the beginning of a line (where it will indent the line, see loops, functions).\\\n",
    "For instance, when typing ```pri``` and hitting **tab**, jupyter will complete it to ```print```."
   ]
  },
  {
   "cell_type": "markdown",
   "metadata": {},
   "source": [
    "### Help\n",
    "In order to get information, for example on the ```print()```function, help can be summoned by using yet another function:"
   ]
  },
  {
   "cell_type": "code",
   "execution_count": 8,
   "metadata": {},
   "outputs": [
    {
     "name": "stdout",
     "output_type": "stream",
     "text": [
      "Help on built-in function print in module builtins:\n",
      "\n",
      "print(...)\n",
      "    print(value, ..., sep=' ', end='\\n', file=sys.stdout, flush=False)\n",
      "    \n",
      "    Prints the values to a stream, or to sys.stdout by default.\n",
      "    Optional keyword arguments:\n",
      "    file:  a file-like object (stream); defaults to the current sys.stdout.\n",
      "    sep:   string inserted between values, default a space.\n",
      "    end:   string appended after the last value, default a newline.\n",
      "    flush: whether to forcibly flush the stream.\n",
      "\n"
     ]
    }
   ],
   "source": [
    "help(print)"
   ]
  },
  {
   "cell_type": "markdown",
   "metadata": {},
   "source": [
    "### Data Types\n",
    "\n",
    "The most basic data types in python are numeric, string and boolean. However, there are many, many more. In order for many operations wo work properly, the data types must be compatible with one another. With the ```type()``` function the datatype of an object can be printed. "
   ]
  },
  {
   "cell_type": "code",
   "execution_count": 9,
   "metadata": {},
   "outputs": [
    {
     "name": "stdout",
     "output_type": "stream",
     "text": [
      "a: <class 'int'>\n",
      "b: <class 'float'>\n",
      "c: <class 'str'>\n",
      "d: <class 'bool'>\n"
     ]
    }
   ],
   "source": [
    "a = 1\n",
    "b = 1.0\n",
    "c = 'two'\n",
    "d = True\n",
    "print('a:', type(a))\n",
    "print('b:', type(b))\n",
    "print('c:', type(c))\n",
    "print('d:', type(d))"
   ]
  },
  {
   "cell_type": "markdown",
   "metadata": {},
   "source": [
    "Changing the type of a variable can be achieved by the respective functions:"
   ]
  },
  {
   "cell_type": "code",
   "execution_count": 10,
   "metadata": {},
   "outputs": [
    {
     "name": "stdout",
     "output_type": "stream",
     "text": [
      "3\n",
      "12.5\n"
     ]
    }
   ],
   "source": [
    "print(int(3.14))\n",
    "\n",
    "f = \"2.5\"\n",
    "print(10 + float(f))"
   ]
  },
  {
   "cell_type": "markdown",
   "metadata": {},
   "source": [
    "Some mathematical operations can also be applied to strings/lists:"
   ]
  },
  {
   "cell_type": "code",
   "execution_count": 11,
   "metadata": {},
   "outputs": [
    {
     "name": "stdout",
     "output_type": "stream",
     "text": [
      "Who would have thought?????\n"
     ]
    }
   ],
   "source": [
    "a = 'Who would '\n",
    "b = 'have thought'\n",
    "c = '?'\n",
    "print(a+b+(c*5))"
   ]
  },
  {
   "cell_type": "markdown",
   "metadata": {},
   "source": [
    "## Packages and Modules\n",
    "\n",
    "Python's functionality can be expanded by loading modules to the namespace. A module may be seen as a chunk of python code for a special task someone has already written for you to use while package signifies the inclusion of the underlying file structure to load the modules. \n",
    "\n",
    "In order to make a module's complete functionality available, it has to be loaded to the namespace trailing the ```import``` statement. Calling a module function in this case requires the module name with a dot before the function: ```package.function()```. \n",
    "\n",
    "A module can be imported under an alias, using the ```as``` statement. This can help someone reading your code to know from which module a function is imported while keeping the code shorter and thus better readable.\n",
    "\n",
    ":::{admonition} Tip \n",
    ":class: tip\n",
    "By convention all imports are done at the beginning of the code.\n",
    ":::"
   ]
  },
  {
   "cell_type": "code",
   "execution_count": 12,
   "metadata": {},
   "outputs": [
    {
     "name": "stdout",
     "output_type": "stream",
     "text": [
      "2.0\n",
      "2.0\n"
     ]
    }
   ],
   "source": [
    "import math\n",
    "print(math.sqrt(4))\n",
    "\n",
    "import numpy as np\n",
    "print(np.sqrt(4.0))"
   ]
  },
  {
   "cell_type": "markdown",
   "metadata": {},
   "source": [
    "To import a single function (or class) from a module one calls ```from <module> import <function>```. Here, the module's name does not need to be added when calling the function. Similarly, an asterisk can be used as a wild card, as in ```from <package> import *```, to import all functions (classes) from one module (so not to add the module prefix every time in the code). \\\n",
    "The following examples uses the ```math``` module, which contains functions such as the sine, cosine or square root."
   ]
  },
  {
   "cell_type": "code",
   "execution_count": 13,
   "metadata": {},
   "outputs": [
    {
     "name": "stdout",
     "output_type": "stream",
     "text": [
      "2.0\n"
     ]
    }
   ],
   "source": [
    "from math import sqrt\n",
    "print(sqrt(4))"
   ]
  },
  {
   "cell_type": "markdown",
   "metadata": {},
   "source": [
    ":::{admonition} Note\n",
    "Calling a function which is not imported results in an error.\n",
    "    \n",
    "Usually, python is rather explicit in where to look for your mistake.\n",
    ":::"
   ]
  },
  {
   "cell_type": "code",
   "execution_count": 14,
   "metadata": {
    "scrolled": true
   },
   "outputs": [],
   "source": [
    "#print(cos(0))    # would raise error as cos() function is not imported"
   ]
  },
  {
   "cell_type": "markdown",
   "metadata": {},
   "source": [
    "![](graphics/cos_error.png)"
   ]
  },
  {
   "cell_type": "markdown",
   "metadata": {},
   "source": [
    "With the wild card, all functions from the math module are now loaded to the namespace."
   ]
  },
  {
   "cell_type": "code",
   "execution_count": 15,
   "metadata": {},
   "outputs": [
    {
     "data": {
      "text/plain": [
       "1.0"
      ]
     },
     "execution_count": 15,
     "metadata": {},
     "output_type": "execute_result"
    }
   ],
   "source": [
    "from math import *\n",
    "cos(0)"
   ]
  },
  {
   "cell_type": "markdown",
   "metadata": {},
   "source": [
    "## Variables\n",
    "\n",
    "Objects can be stored in variables by assigning them using ```=```. Since everything in python is an object, anything can be saved in a variable: numbers, strings, lists, etc. Python will automatically recognize the format of a variable to let the user know about incompatibilities. Calling a variable before it is assigned will also throw an error.\\\n",
    "Note that python is case sensitive, meaning that when assigning variables a ≠ A."
   ]
  },
  {
   "cell_type": "code",
   "execution_count": 16,
   "metadata": {},
   "outputs": [
    {
     "name": "stdout",
     "output_type": "stream",
     "text": [
      "25\n",
      "twenty five\n"
     ]
    }
   ],
   "source": [
    "var_1 = 5 ** 2\n",
    "print(var_1)\n",
    "var_2 = 'twenty five'\n",
    "print(var_2)"
   ]
  },
  {
   "cell_type": "markdown",
   "metadata": {},
   "source": [
    ":::{admonition} Caution\n",
    ":class: caution\n",
    "Do not name your variables like built-in python objects!\n",
    ":::\n",
    "In jupyter notebooks, built-in objects are automatically coloured green.\n",
    "For example:"
   ]
  },
  {
   "cell_type": "code",
   "execution_count": 17,
   "metadata": {},
   "outputs": [
    {
     "data": {
      "text/plain": [
       "dict"
      ]
     },
     "execution_count": 17,
     "metadata": {},
     "output_type": "execute_result"
    }
   ],
   "source": [
    "list\n",
    "int\n",
    "dict"
   ]
  },
  {
   "cell_type": "markdown",
   "metadata": {},
   "source": [
    "## Logical Conditions\n",
    "\n",
    "\n",
    "In order to compare values, logical operators can be used. The most common are\n",
    "\n",
    "| Operator   | Meaning |\n",
    "| :--------- | ------: |\n",
    "| ==  | equal  |\n",
    "| 1!=  | not equal  |\n",
    "| >  | greater than |\n",
    "| <  | less than |\n",
    "| >=  | greater than or equal to |\n",
    "| <=  | less than or equal to |\n",
    "\n",
    "The result will be a boolean: either ```True``` or ```False```. \\\n",
    "Comparing statements may also be combined by ```and``` or ```or``` and can be negated by ```not```."
   ]
  },
  {
   "cell_type": "code",
   "execution_count": 18,
   "metadata": {},
   "outputs": [
    {
     "name": "stdout",
     "output_type": "stream",
     "text": [
      "True False\n",
      "False\n",
      "True\n"
     ]
    }
   ],
   "source": [
    "a = (1<2)\n",
    "b = (0 == 1)\n",
    "print(a, b)\n",
    "print(a and b)\n",
    "print(a or b)"
   ]
  },
  {
   "cell_type": "markdown",
   "metadata": {},
   "source": [
    "## Branching\n",
    "\n",
    "In a program, code must often be run conditionally on some input or previous result. The ```if```, ```else``` and ```elif```statement can be used to select which branch of code shall be run. The condition is followed by a colon and the respective code for that condition must be indented (automatically with a line break or by pressing ***tab***).\n",
    "\n",
    ":::{admonition} Caution\n",
    ":class: caution\n",
    "Indentation is not to be used for better readability. \n",
    "    \n",
    "Instead, it has a function and must not be used when not necessary!\n",
    ":::"
   ]
  },
  {
   "cell_type": "code",
   "execution_count": 19,
   "metadata": {},
   "outputs": [
    {
     "name": "stdout",
     "output_type": "stream",
     "text": [
      "a is positive\n"
     ]
    }
   ],
   "source": [
    "a = 4\n",
    "\n",
    "if a < 0:\n",
    "    print('a is negative')\n",
    "elif a > 0:\n",
    "    print('a is positive')\n",
    "else:\n",
    "    print('a equals zero')"
   ]
  },
  {
   "cell_type": "markdown",
   "metadata": {},
   "source": [
    "## Lists and Tuples\n",
    "\n",
    "Lists and tuples are both an ordered collection of objects. While tuples cannot be modified, lists are rather flexible. Objects can be added to a list, removed or replaced. Lists appear in square brackets ```[]```, tuples in parentheses ```()```.  \\\n",
    "Lists and tuples can be nested, meaning elements of a list or tuple can again be a list or tuple. Duplicates are also allowed. (A ```set()``` would not allow duplicates and is not ordered). \\\n",
    "Elements can be accessed by indexing with square brackets behind the list name.\n",
    "\n",
    "\n",
    "\n",
    ":::{admonition} Note\n",
    "Indexing in python starts with zero, so the first element of a list will have index 0.\n",
    ":::"
   ]
  },
  {
   "cell_type": "code",
   "execution_count": 20,
   "metadata": {},
   "outputs": [
    {
     "name": "stdout",
     "output_type": "stream",
     "text": [
      "0. the length of my list is 5 , the length of the word \"list\" 4\n",
      "1. first element from my_list: 1\n",
      "2. second element of my_tuple: b\n",
      "3. changing the third element in my_list: [1, 2, 3, 4, 5]\n",
      "4. first letter in my_str: e\n",
      "5. last element of my_tuple: c\n",
      "6. from element 3 to end of my_list: [3, 4, 5]\n",
      "7. reverse order of my_list and slice: [4, 3, 2, 1]\n",
      "8. add new element: [1, 2, 3, 4]\n"
     ]
    }
   ],
   "source": [
    "my_list = [1,2,0,4,5]\n",
    "my_tuple = ('a', 'b', 'c')\n",
    "\n",
    "# length of object:\n",
    "print('0. the length of my list is', len(my_list),', the length of the word \"list\"', len('list'))\n",
    "\n",
    "# access first element\n",
    "print('1. first element from my_list:', my_list[0])\n",
    "\n",
    "# print variables more conveniently\n",
    "print(f'2. second element of my_tuple: {my_tuple[1]}')\n",
    "\n",
    "# to change an element\n",
    "my_list[2] = 3\n",
    "print(f'3. changing the third element in my_list: {my_list}')\n",
    "\n",
    "# note that strings are lists of characters:\n",
    "my_str = 'expression'\n",
    "print(f'4. first letter in my_str: {my_str[0]}')\n",
    "\n",
    "# last element \n",
    "print(f'5. last element of my_tuple: {my_tuple[-1]}')\n",
    "\n",
    "# slicing\n",
    "print(f'6. from element 3 to end of my_list: {my_list[2:]}')\n",
    "\n",
    "# reverse order\n",
    "print(f'7. reverse order of my_list and slice: {my_list[3::-1]}')\n",
    "\n",
    "# delete element\n",
    "del(my_list[4])\n",
    "print(f'8. add new element: {my_list}')"
   ]
  },
  {
   "cell_type": "markdown",
   "metadata": {},
   "source": [
    "Lists also allow for element checks using ```in``` (negated by ```not```):"
   ]
  },
  {
   "cell_type": "code",
   "execution_count": 21,
   "metadata": {},
   "outputs": [
    {
     "name": "stdout",
     "output_type": "stream",
     "text": [
      "2 is an element of my_list\n"
     ]
    }
   ],
   "source": [
    "my_list = [1,2,3,4]\n",
    "\n",
    "if 2 in my_list:\n",
    "    print('2 is an element of my_list')\n",
    "    \n",
    "if 10 in my_list:\n",
    "    print('10 is an element of my_list')"
   ]
  },
  {
   "cell_type": "markdown",
   "metadata": {},
   "source": [
    "Beside definition by hand, the the functions ```list()``` and ```tuple()``` can be used to transform a suitable object to a list or tuple."
   ]
  },
  {
   "cell_type": "code",
   "execution_count": 22,
   "metadata": {},
   "outputs": [
    {
     "name": "stdout",
     "output_type": "stream",
     "text": [
      "(1, 2, 3, 4)\n",
      "['p', 'y', 't', 'h', 'o', 'n']\n"
     ]
    }
   ],
   "source": [
    "print(tuple(my_list))\n",
    "print(list('python'))"
   ]
  },
  {
   "cell_type": "markdown",
   "metadata": {},
   "source": [
    "## Dictionaries\n",
    "\n",
    "Dictionaries allow to store *key - value* pairs in a kind of named list fashion. By convention the *key* element is of type string, while the *value* can be any object (including dictionaries). To define a dictionary, inside curly braces ```{}```, the *key* element is followed by a colon and the *value*. The *keys* must be unique in a dictionary, since the *value* elements are accessed via the respective *key*: as in lists, one uses square brackets. Yet not with an index number but the desired *key*.\\\n",
    "New key-value pairs can be added to a dict in a similar way as they are accessed. The new *key* in square brackets follows the dict name and a *value* is assigned by an equal sign.\\\n",
    "Dictionaries are not ordered, as can be seen from the way of accessing and adding new k-v pairs."
   ]
  },
  {
   "cell_type": "code",
   "execution_count": 23,
   "metadata": {},
   "outputs": [
    {
     "name": "stdout",
     "output_type": "stream",
     "text": [
      "1\n",
      "{'start': 1, 'end': 20, 'mid': 10}\n"
     ]
    }
   ],
   "source": [
    "my_dict = {'start': 1, 'end': 20}\n",
    "print(my_dict['start'])\n",
    "\n",
    "# new k-v pair\n",
    "my_dict['mid'] = 10\n",
    "print(my_dict)"
   ]
  },
  {
   "cell_type": "markdown",
   "metadata": {},
   "source": [
    "All *keys* and *value* can be accessed with the ```.keys()``` and ```.values()``` method (more on methods later)."
   ]
  },
  {
   "cell_type": "code",
   "execution_count": 24,
   "metadata": {},
   "outputs": [
    {
     "name": "stdout",
     "output_type": "stream",
     "text": [
      "dict_keys(['start', 'end', 'mid']) dict_values([1, 20, 10])\n"
     ]
    }
   ],
   "source": [
    "print(my_dict.keys(), my_dict.values())"
   ]
  },
  {
   "cell_type": "markdown",
   "metadata": {},
   "source": [
    "## (Un)packing\n",
    "\n",
    "Python allows to assign multiple variables at once, called (un)packing. This is most common with tuples but can be expanded to other iterables. The variables to be assigned are separated by a comma. "
   ]
  },
  {
   "cell_type": "code",
   "execution_count": 25,
   "metadata": {},
   "outputs": [
    {
     "name": "stdout",
     "output_type": "stream",
     "text": [
      "one 2 three\n",
      "[1, 2, 3] 4\n"
     ]
    }
   ],
   "source": [
    "my_tuple = ('one', 2, 'three')\n",
    "a, b, c = my_tuple\n",
    "print(a, b, c)\n",
    "\n",
    "# the asterisk assigns all surplus values on the right hand side of the equal sign to a\n",
    "*a, b = 1, 2, 3, 4\n",
    "print(a ,b)"
   ]
  },
  {
   "cell_type": "markdown",
   "metadata": {},
   "source": [
    "## Loops\n",
    "\n",
    "### for-loop\n",
    "\n",
    "A for-loop is used for iteration, if the number of iterations is known prior to execution. A for loop iterates over any sequence like lists, tuples, strings etc. A common way is to loop over a ```range(n)``` object. Caution: indexing starts from 0 and for range objects ends at ```n-1```!\\\n",
    "\n",
    "Note that when iterating a list or tuple it might be worth considering to choose an informative name (especially when nesting loops).\\ \n",
    "\n",
    "To write a loop, ```for``` is followed by the iterating variable, ```in``` and the sequence to iterate before a colon. The code to execute every step begins in the next line and is indented.  "
   ]
  },
  {
   "cell_type": "code",
   "execution_count": 26,
   "metadata": {},
   "outputs": [
    {
     "name": "stdout",
     "output_type": "stream",
     "text": [
      "0 squared is 0\n",
      "1 squared is 1\n",
      "2 squared is 4\n",
      "3 squared is 9\n",
      "4 squared is 16\n",
      "\n",
      "one\n",
      "2\n",
      "three\n",
      "\n",
      "one at position 0\n",
      "2 at position 1\n",
      "three at position 2\n",
      "\n",
      "key: start, value: 1 \n",
      "key: end, value: 20 \n",
      "key: mid, value: 10 \n"
     ]
    }
   ],
   "source": [
    "# range object for iterating numbers\n",
    "for i in range(5):\n",
    "    print(f'{i} squared is {i**2}')  \n",
    "print('')\n",
    "\n",
    "# iterate over a tuple/list\n",
    "for tuple_element in my_tuple:\n",
    "    print(tuple_element)\n",
    "print('')\n",
    "# iterate over tuple/list element and index\n",
    "for i, tup_el in enumerate(my_tuple):\n",
    "    print(f'{tup_el} at position {i}')\n",
    "print('')  \n",
    "# iterate over keys and values in dict\n",
    "for k,v in my_dict.items():\n",
    "    print(f'key: {k}, value: {v} ')"
   ]
  },
  {
   "cell_type": "markdown",
   "metadata": {},
   "source": [
    "### while-loop\n",
    "\n",
    "When the number of iterations for a loop is not knwon beforehand, a while-loop can be used. It will run, until a terminal state is reached or some criterion is satisfied. Usually, an initial state is given which will be altered by some operation and thus lead to termination.\\\n",
    "A while-loop start with ```while``` followed by the condition and a colon. The condition may be negated with ```not```.\\\n",
    ":::{admonition} Warning\n",
    ":class: warning\n",
    "Infinit loops may occur when the terminal criterion is not properly defined or the code is otherwise defective.\n",
    ":::\n"
   ]
  },
  {
   "cell_type": "code",
   "execution_count": 27,
   "metadata": {},
   "outputs": [
    {
     "name": "stdout",
     "output_type": "stream",
     "text": [
      "0\n",
      "1\n",
      "2\n",
      "3\n",
      "5 is greater zero\n",
      "4 is greater zero\n",
      "3 is greater zero\n",
      "2 is greater zero\n",
      "1 is greater zero\n"
     ]
    }
   ],
   "source": [
    "a = 0\n",
    "while a < 4:\n",
    "    print(a)\n",
    "    # use combined operator a += 1, equal to a = a + 1\n",
    "    a += 1      # when not including this line, a will forever stay a = 0 and the loop will not terminate by itself\n",
    "                # What will be printed in this case?\n",
    "    \n",
    "var = 5\n",
    "check = True\n",
    "while check:\n",
    "    print(f'{var} is greater zero')\n",
    "    var -= 1 \n",
    "    check = var > 0\n"
   ]
  },
  {
   "cell_type": "markdown",
   "metadata": {},
   "source": [
    "## List comprehension\n",
    "Python offers a handy way to create lists. It looks like a for-loop in a list and is called list comprehension. It is written in one line instead of indenting as in ordinary for-loops. These expression can also be nested."
   ]
  },
  {
   "cell_type": "code",
   "execution_count": 28,
   "metadata": {},
   "outputs": [
    {
     "name": "stdout",
     "output_type": "stream",
     "text": [
      "list_1: [0, 1, 2, 3, 4]\n",
      "list_2: [[0, 0, 0, 0, 0], [0, 1, 2, 3, 4]]\n"
     ]
    }
   ],
   "source": [
    "list_1 = [i for i in range(5)]\n",
    "print('list_1:', list_1)\n",
    "\n",
    "# a nested expression\n",
    "list_2 = [[i*j for i in list_1] for j in [0,1]]\n",
    "print('list_2:', list_2)"
   ]
  },
  {
   "cell_type": "markdown",
   "metadata": {},
   "source": [
    "## Dict comprehension\n",
    "\n",
    "Analogous to list comprehension, we can create dictionaries with key and value pairs.\n",
    "For example from the list above:"
   ]
  },
  {
   "cell_type": "code",
   "execution_count": 29,
   "metadata": {},
   "outputs": [
    {
     "name": "stdout",
     "output_type": "stream",
     "text": [
      "{'0': 0, '1': 1, '2': 4, '3': 9, '4': 16}\n",
      "9\n"
     ]
    }
   ],
   "source": [
    "dict_1 = {str(k): k**2 for k in list_1}\n",
    "print(dict_1)\n",
    "print(dict_1['3'])"
   ]
  },
  {
   "cell_type": "markdown",
   "metadata": {},
   "source": [
    "### break and continue\n",
    "\n",
    "For more control over a loop, the ```break```and ```continue``` statements can be engaged. Used with a condition, ```break``` will terminate the loop when satisfied while ```continue``` will stop and skip the current iteration to jump to the next."
   ]
  },
  {
   "cell_type": "code",
   "execution_count": 30,
   "metadata": {},
   "outputs": [
    {
     "name": "stdout",
     "output_type": "stream",
     "text": [
      "0 is even\n",
      "2 is even\n",
      "4 is even\n",
      "6 is even\n",
      "8 is even\n"
     ]
    }
   ],
   "source": [
    "for i in range(100):\n",
    "    if i % 2 != 0:    # % is the modulo operator\n",
    "        continue      # continue in the if-statement skips printing for odd i\n",
    "    print(f'{i} is even')\n",
    "    if i == 8:        # when i equals 8, the loop terminates (the print statement for i == 8 is executed before)\n",
    "        break"
   ]
  },
  {
   "cell_type": "markdown",
   "metadata": {},
   "source": [
    "## Functions\n",
    "\n",
    "Python come with many built in functions, some of which have been shown or used before, as well as the option to define new functions.\n",
    "\n",
    "To define a function, use ```def function_name(args):``` before the indented body of the function begins in a new line. ```args``` here means arguments, which are passed to function. \n",
    "\n",
    "Note that a function must not necessarily be defined using arguments."
   ]
  },
  {
   "cell_type": "code",
   "execution_count": 31,
   "metadata": {},
   "outputs": [
    {
     "name": "stdout",
     "output_type": "stream",
     "text": [
      "Greetings\n",
      "hi\n"
     ]
    }
   ],
   "source": [
    "def my_print(word):\n",
    "    print(word)\n",
    "    \n",
    "my_print('Greetings')\n",
    "\n",
    "def print_hi():\n",
    "    print('hi')\n",
    "    \n",
    "print_hi()"
   ]
  },
  {
   "cell_type": "markdown",
   "metadata": {},
   "source": [
    "### Return\n",
    "\n",
    "To assign the result of a function to a variable for further use, the ```return``` keyword is used. If more than one object is to be returned, use commas to separate them.\n",
    "\n",
    "The ```return``` statement is indented at least once from ```def```, even more than once when using branching, for example.\n",
    "With branching, several return statements may appear in one function. \n",
    "\n",
    "The ```return``` command must not be confused with a ```print()``` statement! "
   ]
  },
  {
   "cell_type": "code",
   "execution_count": 32,
   "metadata": {},
   "outputs": [
    {
     "name": "stdout",
     "output_type": "stream",
     "text": [
      "4.0\n",
      "4.0\n"
     ]
    }
   ],
   "source": [
    "import numpy as np\n",
    "\n",
    "data = [1,2,3,4,5,6,7]\n",
    "print(np.mean(data))\n",
    "\n",
    "def my_mean(arg_list):\n",
    "    sum_ = 0\n",
    "    length_count = 0\n",
    "    for el in arg_list:\n",
    "        sum_ += el\n",
    "        length_count += 1\n",
    "    return sum_/length_count\n",
    "\n",
    "print(my_mean(data))"
   ]
  },
  {
   "cell_type": "markdown",
   "metadata": {},
   "source": [
    "### Yield\n",
    "\n",
    "Besides ```return```, another option is ```yield```. The main difference is that ```return``` will do a calculation and send the result back at once, while when using ```yield``` a **generator object** is created and results can be returned sequentially.\n",
    "\n",
    "Comparing the following two examples, the ```return_list``` function stores the complete list in the memory, while the ```yield_list``` function does not. Instead, it returns the values one after another (when using the ```next()``` function or a loop) remembering the current state of the function."
   ]
  },
  {
   "cell_type": "code",
   "execution_count": 33,
   "metadata": {},
   "outputs": [],
   "source": [
    "def return_list(n):\n",
    "    return [i for i in range(n)]\n",
    "\n",
    "def yield_list(n):    # function mimics range()\n",
    "    i = 0\n",
    "    while i < n:\n",
    "        yield i\n",
    "        i += 1"
   ]
  },
  {
   "cell_type": "code",
   "execution_count": 34,
   "metadata": {},
   "outputs": [
    {
     "data": {
      "text/plain": [
       "[0, 1, 2, 3, 4]"
      ]
     },
     "execution_count": 34,
     "metadata": {},
     "output_type": "execute_result"
    }
   ],
   "source": [
    "return_list(5)"
   ]
  },
  {
   "cell_type": "code",
   "execution_count": 35,
   "metadata": {},
   "outputs": [
    {
     "data": {
      "text/plain": [
       "<generator object yield_list at 0x7ff3305dd070>"
      ]
     },
     "execution_count": 35,
     "metadata": {},
     "output_type": "execute_result"
    }
   ],
   "source": [
    "yield_list(5)   # creates a generator object"
   ]
  },
  {
   "cell_type": "code",
   "execution_count": 36,
   "metadata": {},
   "outputs": [],
   "source": [
    "gen = yield_list(5)    # assign generator object to variable"
   ]
  },
  {
   "cell_type": "code",
   "execution_count": 37,
   "metadata": {},
   "outputs": [
    {
     "name": "stdout",
     "output_type": "stream",
     "text": [
      "0\n",
      "1\n",
      "2\n"
     ]
    }
   ],
   "source": [
    "print(next(gen))    # call next() to jump to next 'yield'\n",
    "print(next(gen))    # only one value in memory\n",
    "print(next(gen)) # another next() throws error because the generator is depleted after 4!"
   ]
  },
  {
   "cell_type": "markdown",
   "metadata": {},
   "source": [
    "Since the state of the generator is remembered and we have already moved beyond 2 using ```next()```, the following for loop 'finishes' the generator:"
   ]
  },
  {
   "cell_type": "code",
   "execution_count": 38,
   "metadata": {},
   "outputs": [
    {
     "name": "stdout",
     "output_type": "stream",
     "text": [
      "3\n",
      "4\n"
     ]
    }
   ],
   "source": [
    "for i in gen:\n",
    "    print(i)"
   ]
  },
  {
   "cell_type": "markdown",
   "metadata": {},
   "source": [
    "Generator object can be useful when working with huge files which do not fit into memory."
   ]
  },
  {
   "cell_type": "markdown",
   "metadata": {},
   "source": [
    "For functions with several arguments, the order of inputs is important. They will be read according to the function definition. When the arguments are specified in the function call, the input order does not matter."
   ]
  },
  {
   "cell_type": "code",
   "execution_count": 39,
   "metadata": {},
   "outputs": [
    {
     "name": "stdout",
     "output_type": "stream",
     "text": [
      "5.0\n",
      "0.2\n",
      "5.0\n"
     ]
    }
   ],
   "source": [
    "def divide(numer, denom):\n",
    "    return numer / denom\n",
    "\n",
    "print(divide(10,2))\n",
    "print(divide(2,10))\n",
    "\n",
    "print(divide(denom=2, numer=10))"
   ]
  },
  {
   "cell_type": "markdown",
   "metadata": {},
   "source": [
    "Default values for a function can be set. If an argument is not specified when calling the function, the default value will be used."
   ]
  },
  {
   "cell_type": "code",
   "execution_count": 40,
   "metadata": {},
   "outputs": [
    {
     "name": "stdout",
     "output_type": "stream",
     "text": [
      "10.0\n"
     ]
    }
   ],
   "source": [
    "def divide(numer, denom = 1):\n",
    "    return numer / denom\n",
    "print(divide(numer=10))"
   ]
  },
  {
   "cell_type": "markdown",
   "metadata": {},
   "source": [
    "More advanced function writing involves recursion, meaning python allows a function to call itself."
   ]
  },
  {
   "cell_type": "code",
   "execution_count": 41,
   "metadata": {},
   "outputs": [
    {
     "name": "stdout",
     "output_type": "stream",
     "text": [
      "120\n",
      "120\n"
     ]
    }
   ],
   "source": [
    "import math\n",
    "\n",
    "def my_factorial(n):\n",
    "    if n == 0:\n",
    "        return 1\n",
    "    else:\n",
    "        return n * my_factorial(n-1)\n",
    "    \n",
    "print(my_factorial(5))\n",
    "print(math.factorial(5))"
   ]
  },
  {
   "cell_type": "markdown",
   "metadata": {},
   "source": [
    "### Global and Local Variables\n",
    "\n",
    "Variables can be defined globally, i.e. outside of functions. A variable definded inside a function will only exist inside the scope of the function. Should a local variable be given the same name as a global variable, the function will use the value locally defined!\\\n",
    "Global variables inside functions can be defined using the ```global``` keyword before the respective variables."
   ]
  },
  {
   "cell_type": "code",
   "execution_count": 42,
   "metadata": {},
   "outputs": [
    {
     "name": "stdout",
     "output_type": "stream",
     "text": [
      "calling f_1, x = 7\n",
      "after calling f_2: x = 7\n",
      "calling f_3: x = 10\n",
      "after calling f_3: x = 7\n",
      "after calling f_4: x = 10\n"
     ]
    }
   ],
   "source": [
    "x = 7\n",
    "def f_1():\n",
    "    print('calling f_1, x =',x)\n",
    "\n",
    "f_1()\n",
    "    \n",
    "def f_2():\n",
    "    x = 10\n",
    "\n",
    "f_2()\n",
    "print('after calling f_2: x =', x)\n",
    "    \n",
    "def f_3():\n",
    "    x = 10\n",
    "    print('calling f_3: x =', x)\n",
    "    \n",
    "f_3()\n",
    "print('after calling f_3: x =', x)\n",
    "    \n",
    "def f_4():\n",
    "    global x\n",
    "    x = 10\n",
    "\n",
    "f_4()\n",
    "print('after calling f_4: x =', x)"
   ]
  },
  {
   "cell_type": "markdown",
   "metadata": {},
   "source": [
    "## Lambda functions\n",
    "It might occur that a function is needed which is only needed once and has only a limited functionality. To spare you and the reader of the code from jumping to a block of defining such a function you can use a **lambda function**. They are written in-line by the keyword ```lambda```, followed by the parameters and a colon before the body.\\\n",
    "Arguments are passed in parentheses as usual.\n",
    "\n",
    ":::{admonition} Note\n",
    "The lambda syntax should only be used for simple functions!\n",
    ":::"
   ]
  },
  {
   "cell_type": "code",
   "execution_count": 43,
   "metadata": {},
   "outputs": [
    {
     "name": "stdout",
     "output_type": "stream",
     "text": [
      "0.6065306597126334\n",
      "0.6065306597126334\n",
      "0.6065306597126334\n"
     ]
    }
   ],
   "source": [
    "from math import exp\n",
    "\n",
    "# regular way\n",
    "def reg_func(x):\n",
    "    return 1/exp(x)\n",
    "print(reg_func(.5))\n",
    "\n",
    "#lambda function with identifier \n",
    "l_func = lambda x: 1/exp(x)        # this way, it is hard to find the origin of a function if it is called elewhere\n",
    "print(l_func(.5))                  # in your code. It is not recommended, yet still possible.\n",
    "\n",
    "# for single use, no identifier\n",
    "print((lambda x: 1/exp(x))(.5) )"
   ]
  },
  {
   "cell_type": "markdown",
   "metadata": {},
   "source": [
    "Lambda functions can be easily applied in combination with list comprehension, where the can be defined in place."
   ]
  },
  {
   "cell_type": "code",
   "execution_count": 44,
   "metadata": {},
   "outputs": [
    {
     "name": "stdout",
     "output_type": "stream",
     "text": [
      "[1.0, 0.36787944117144233, 0.1353352832366127, 0.049787068367863944, 0.018315638888734182]\n",
      "[1.0, 0.36787944117144233, 0.1353352832366127, 0.049787068367863944, 0.018315638888734182]\n"
     ]
    }
   ],
   "source": [
    "# with list comprehension\n",
    "l_list = [(lambda x: 1/exp(x))(i) for i in list_1]\n",
    "print(l_list)\n",
    "\n",
    "# always consider doing it without a lambda function\n",
    "print([(1/exp(i)) for i in list_1])"
   ]
  },
  {
   "cell_type": "markdown",
   "metadata": {},
   "source": [
    "## Classes\n",
    "\n",
    "Since almost everything in python is an object, classes are a very important element to its functionality. A class can be seen as a constructor for certain objects. \\\n",
    "\n",
    "To define a class, the ```class``` keyword is followed by the class name. By convention, for class names the CamelCase style is used. "
   ]
  },
  {
   "cell_type": "code",
   "execution_count": 45,
   "metadata": {},
   "outputs": [
    {
     "name": "stdout",
     "output_type": "stream",
     "text": [
      "Uni: Passau\n",
      "Chris' subject: biology\n",
      "class name: Student\n",
      "Tina's subject: biology\n"
     ]
    }
   ],
   "source": [
    "# define class Student\n",
    "\n",
    "class Student():\n",
    "    uni = 'Passau'\n",
    "    subject = 'math'\n",
    "    grades = [1.3, 1.7, 3.0]\n",
    "        \n",
    "# instantiate object  \n",
    "Chris = Student\n",
    "Tina = Student\n",
    "\n",
    "# get uni of student Chris\n",
    "print('Uni:', Chris.uni)\n",
    "\n",
    "# student changes subject\n",
    "Chris.subject = 'biology'\n",
    "\n",
    "print(\"Chris' subject:\", Chris.subject)\n",
    "print('class name:', Chris.__name__)\n",
    "\n",
    "print(\"Tina's subject:\", Tina.subject)"
   ]
  },
  {
   "cell_type": "markdown",
   "metadata": {},
   "source": [
    "Classes can not only store values but also functions, called methods. Methods are defined just like regular functions, but inside the class body. To make a class more useful (compared to the example above), the ```__init__()``` method is needed. As arguments, it takes ```self``` and all other arguments needed as input to build the object. ```self``` is used for instance variables, i.e. variables that belong to an object and not the whole class.\n",
    "\n",
    "Methods and class variables are chained by a ```.``` to the object.\n"
   ]
  },
  {
   "cell_type": "code",
   "execution_count": 46,
   "metadata": {},
   "outputs": [
    {
     "name": "stdout",
     "output_type": "stream",
     "text": [
      "Chris: engineering\n",
      "Tina: Physics\n",
      "2.0\n",
      "2.75\n"
     ]
    }
   ],
   "source": [
    "import numpy as np\n",
    "\n",
    "class Student():\n",
    "    def __init__(self, uni, subject, grades):\n",
    "        self.uni = uni\n",
    "        self.subject = subject\n",
    "        self.grades = grades\n",
    "    \n",
    "    #define method to show average grade\n",
    "    def avg_grade(self):\n",
    "        return np.mean(self.grades)\n",
    "     \n",
    "Chris = Student('Passau', 'Art', [1.3, 1.7, 3.0])\n",
    "Tina = Student('Regensburg', 'Physics', [1.0, 2.0])\n",
    "\n",
    "Chris.subject = 'engineering'\n",
    "print(f'Chris: {Chris.subject}')\n",
    "print(f'Tina: {Tina.subject}')\n",
    "\n",
    "print(Chris.avg_grade())\n",
    "\n",
    "# lists have a built-in method append, which adds items given as arguments to the end of the list (see help(list))\n",
    "Chris.grades.append(5.0)\n",
    "print(Chris.avg_grade())"
   ]
  },
  {
   "cell_type": "markdown",
   "metadata": {},
   "source": [
    "### Inheritance\n",
    "\n",
    "Classes can inherit all properties from other classes by using the ```super()``` function in the constructor. This should be applied, if a new class should expand the functionality of the original class without wanting to change the original class. For example if a Student is also a resident: "
   ]
  },
  {
   "cell_type": "code",
   "execution_count": 47,
   "metadata": {},
   "outputs": [
    {
     "name": "stdout",
     "output_type": "stream",
     "text": [
      " Uni and address: Passau, Innstr. 27\n",
      "<class '__main__.LocalResident'>\n"
     ]
    }
   ],
   "source": [
    "class LocalResident(Student):\n",
    "    def __init__(self, uni, subject, grades, address):\n",
    "        super().__init__(uni, subject, grades)\n",
    "        self.address = address\n",
    "        \n",
    "Chris = LocalResident('Passau', 'Art', [1.3, 1.7, 3.0, 5.0], 'Innstr. 27')\n",
    "\n",
    "print(f\" Uni and address: {Chris.uni}, {Chris.address}\")\n",
    "print(type(Chris))"
   ]
  },
  {
   "cell_type": "markdown",
   "metadata": {},
   "source": [
    "## Files\n",
    "\n",
    "Regular python files end with *.py* and code can be written and read in any text editor. Only the suffix will tell the interpreter how to handle the file, in this case as a python script.\n",
    "\n",
    "Jupyter Notebook files end with *.ipynb*. The special cell-wise structure leads to more formatting effort which is stored in a .json format (see later chapters), meaning that when a *.ipynb* file is opened in an ordinary text editor, the structure will be very different from what is shown in this jupyter interface. \n",
    "\n",
    "Below a jupyter notebook is shown on the left. The formatting is seen on the right, where the *.ipynb* file was openened using a text editor. "
   ]
  },
  {
   "cell_type": "markdown",
   "metadata": {},
   "source": [
    "![](graphics/struc.png)"
   ]
  },
  {
   "cell_type": "markdown",
   "metadata": {},
   "source": [
    "# Second steps\n",
    "\n",
    "In the following, some common operations are shown in order to get used to the python language und its functionality.\n",
    "\n",
    "## NumPy\n",
    "One of the most useful and widely used libraries is **NumPy**. It makes working with arrays, and thus vectors and matrices, very efficient and includes a broad variety of mathematical tools. Because of its powerful implementations, it serves many other packages as a basis.\n",
    "\n",
    "Even though this course will hardly rely on numpy itself, a short introduction is given in the following.\n",
    "\n",
    "We will start with importing as **np**. Information will mainly be given by comments in the code."
   ]
  },
  {
   "cell_type": "code",
   "execution_count": 48,
   "metadata": {},
   "outputs": [
    {
     "name": "stdout",
     "output_type": "stream",
     "text": [
      "sin(pi) =  1.2246467991473532e-16\n"
     ]
    }
   ],
   "source": [
    "import numpy as np\n",
    "\n",
    "# mathematical functions:\n",
    "print('sin(pi) = ',np.sin(np.pi)) \n",
    "# note that the sine of the number pi is defined as zero, yet python returns a small number > 0"
   ]
  },
  {
   "cell_type": "markdown",
   "metadata": {},
   "source": [
    "One of the most useful concepts is that of *arrays*, which can have an arbitrary number of dimensions (yet three should do here). Arrays correspond mainly to what you should know as scalar, vector or matrix. "
   ]
  },
  {
   "cell_type": "code",
   "execution_count": 49,
   "metadata": {},
   "outputs": [
    {
     "name": "stdout",
     "output_type": "stream",
     "text": [
      "0. dimension of array a (5,)\n",
      "1. sum of array a: 15\n",
      "2. variance of array a: 2.0\n",
      "3. one plus array b: [1 1 1 1 2]\n",
      "4. element-wise multiplication of arrays: [0 0 0 0 5]\n",
      "5. scalar by dot product: 5\n",
      "5.1 vector multiplication: \n",
      " [[0 0 0 0 1]\n",
      " [0 0 0 0 2]\n",
      " [0 0 0 0 3]\n",
      " [0 0 0 0 4]\n",
      " [0 0 0 0 5]]\n",
      "5.2 transposed array: (5,) transp. matrix: (5, 1)\n",
      "6. array:     reshaped:           same result:\n",
      " [[0. 0. 0.]\n",
      " [0. 0. 0.]] [0. 0. 0. 0. 0. 0.] [0. 0. 0. 0. 0. 0.]\n"
     ]
    }
   ],
   "source": [
    "arr_a = np.array([1,2,3,4,5])\n",
    "arr_b = np.array([0,0,0,0,1])\n",
    "\n",
    "#dimensions of an array\n",
    "print('0. dimension of array a', arr_a.shape)\n",
    "\n",
    "# operations can be performed by methods and methods chaining on these array objects\n",
    "print('1. sum of array a:',arr_a.sum())\n",
    "print('2. variance of array a:', arr_a.var())\n",
    "\n",
    "# broadcasting a scalar to an array\n",
    "print('3. one plus array b:', 1 + arr_b)\n",
    "print('4. element-wise multiplication of arrays:', arr_a * arr_b)\n",
    "\n",
    "# vector multiplication / dot product\n",
    "print('5. scalar by dot product:', arr_a.transpose().dot(arr_b))   # this should not yield a scalar for vectors!\n",
    "\n",
    "# for real vectors, the inner dimension of the product is crucial -> (5x5)\n",
    "print('5.1 vector multiplication: \\n', np.matrix(arr_a).transpose().dot(np.matrix(arr_b)))\n",
    "\n",
    "# shapes differ for arrays and matrices\n",
    "print('5.2 transposed array:', arr_a.transpose().shape, 'transp. matrix:', np.matrix(arr_a).transpose().shape )\n",
    "\n",
    "# to reshape an array, use the reshape method\n",
    "zero_arr = np.zeros(shape=(2,3))\n",
    "print('6. array:     reshaped:           same result:\\n', \n",
    "      zero_arr, zero_arr.reshape(-1,), zero_arr.reshape(6,))  \n",
    "# -1 is for \"unknown\" dim (like a wildcard)"
   ]
  },
  {
   "cell_type": "code",
   "execution_count": 50,
   "metadata": {},
   "outputs": [
    {
     "name": "stdout",
     "output_type": "stream",
     "text": [
      "[[0.1194889  0.6829476  0.23648928 1.44424618 0.10122779]\n",
      " [0.12316858 0.37261265 0.85100462 0.14549607 0.06787511]\n",
      " [0.72338705 0.07787059 0.90708586 0.17394797 0.77462071]\n",
      " [0.09837251 0.15937295 0.41167526 0.28501857 1.10200409]\n",
      " [0.25143281 1.12593409 0.13024187 0.02516198 1.34170448]]\n"
     ]
    }
   ],
   "source": [
    "# random number generation with np.random module\n",
    "\n",
    "# for a list of probability distributions, the autocomplete function can be used (press tab after the dot)\n",
    "random_expo = np.random.exponential(scale=.5, size=(5,5))\n",
    "print(random_expo)"
   ]
  }
 ],
 "metadata": {
  "kernelspec": {
   "display_name": "Python 3 (ipykernel)",
   "language": "python",
   "name": "python3"
  },
  "language_info": {
   "codemirror_mode": {
    "name": "ipython",
    "version": 3
   },
   "file_extension": ".py",
   "mimetype": "text/x-python",
   "name": "python",
   "nbconvert_exporter": "python",
   "pygments_lexer": "ipython3",
   "version": "3.10.6"
  },
  "metadata": {
   "execution": {
    "allow_errors": true
   }
  }
 },
 "nbformat": 4,
 "nbformat_minor": 4
}
