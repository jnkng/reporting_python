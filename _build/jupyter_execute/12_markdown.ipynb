{
 "cells": [
  {
   "cell_type": "markdown",
   "id": "0a3336fa",
   "metadata": {},
   "source": [
    "# Notebook formatting \n",
    "\n",
    "## Markdown\n",
    "\n",
    "Jupyter notebooks are html based which, beyond other features, enables to work with [**Markdown**](https://jupyter-notebook.readthedocs.io/en/stable/examples/Notebook/Working%20With%20Markdown%20Cells.html) directly inside cells. Markdown in general is a lightweight markup language, designed for easy formatting of plain text (like html is a markup language for browser content).\n",
    "\n",
    "In order to make use of markdown formatting in jupyter notebooks, we need to convert the (standard) code cells to markdown cells. We can do so by selecting a cell (blue cell frame) and pressing *m* on the keyboard. Alternatively, click on *Cell* in the menu bar, navigate to *Cell Type* and select *Markdown*. \n",
    "\n",
    "When a markdown cell is run, the text and styling/formatting commands will be translated to html: the content will be displayed according to applied rules. The formatting commands are added in the text and usually include (a pair of) *special characters* like asterisks, hyphens or underscores. Conveniently, the respective formatting is mostly applied dynamically when typing (or otherwise highlighted by different coloring), not only after the cell is run.\n",
    "\n",
    "This allows for a well structured notebook format, where code and formatted plain text go hand in hand in order to explain the contents of the project. \n",
    "\n",
    "Markdown in general is not proprietary to Python. We can use mostly the same as in this jupyter implementation for example in Dash's `dcc.Markdown()` function to create formatted text. \n",
    "\n",
    "In the following, a collection of useful formatting is provided."
   ]
  },
  {
   "cell_type": "markdown",
   "id": "1eb633b6",
   "metadata": {},
   "source": [
    "<u>**Inline text formatting**</u> like bold or italic can be achieved by using either as asterisk or underscore.\n",
    "\n",
    "A pair of asterisks/underscores enclosing the text will yield an italic font: \n",
    "- *italic with asterisk*: \\*italic with asterisk* \n",
    "- _italic with underscore_: \\_italic with underscore_\n",
    "\n",
    "\n",
    "A pair of double asterisks/underscores enclosing the text will yield a bold font: \n",
    "- **bold with asterisk**: \\*\\*bold with asterisk** \n",
    "- __bold with underscore__: \\_\\_bold with underscore__\n",
    "\n",
    "A pair of three asterisks/underscores on each side enclosing the text will yield a ***bold and italic font***. \n",
    "\n",
    "In order to use either of these symbols safely, *escape* the single character by a prefixed backslash."
   ]
  },
  {
   "cell_type": "markdown",
   "id": "2079096e",
   "metadata": {},
   "source": [
    "<u>**Lists**</u> can be inserted by starting a line with a hyphen. The symbol will be chosen automatically. A two space indent will open a new level of the list.\n",
    "\n",
    "- item 1\n",
    "  - indented item\n",
    "    - further indented item\n",
    "\n",
    "Numbered lists are written by starting a line with a number followed by a dot. The sequence is created automatically: starting every line with `1.` will be translated to a sequence of numbers. The next level, indented by two spaces, will be a sequence of capital letters, then lowercase letters, etc.\n",
    "Note that starting a new list with for example `3.` will indeed start the sequence at 3 (or C/c).\n",
    "\n",
    "1. item 1\n",
    "1. item 2\n",
    "  1. indented item \n",
    "    3. further indented"
   ]
  },
  {
   "cell_type": "markdown",
   "id": "7e039e66",
   "metadata": {},
   "source": [
    "<u>**Hyperlinks**</u> are inserted by enclosing the displayed text in square brackets, followed by the url enclosed in parentheses. The text will be emphasized by coloring and underlining: [Python](https://www.python.org). \n",
    "The text can also be displayed bold or italic with the commands from above inside the square brackets."
   ]
  },
  {
   "cell_type": "markdown",
   "id": "6e75642a",
   "metadata": {},
   "source": [
    "<u>**Headlines**</u> are created using a hash followed by one space in front of the headline text. A single # will create a level one headline, ## will create a level two headline with smaller font etc. The font size will already change while typing the #. \n",
    "\n",
    "Note that when you select a markdown cell containing text already (blue cell frame), you can assign a headline level to the first line using the numbers on your keyboard. Pressing the 1 key, will then insert one # and space in front of the first line.\n",
    "\n",
    "Possible yet not so handy is to 'underline' your headline text with hyphens, i.e. jump to the next line after writing the headline text and inserting 4 or more ----. "
   ]
  },
  {
   "cell_type": "markdown",
   "id": "5859ddd1",
   "metadata": {},
   "source": [
    "<u>**Tables**</u> can be inserted quickly using a sequence of hyphens to separate rows and vertical lines to separate columns. The hyphens appear in the next line after specifying the columns names and must also be separated by vertical lines:\n",
    "\n",
    "Col1 | Col2\n",
    "-----|------\n",
    "A | B\n",
    "\n",
    "This table, before the markdown translation is written as:\n",
    "\n",
    "    Col1 | Col2\n",
    "    -----|------\n",
    "    A | B\n",
    "\n",
    "An exact count of hyphens or spaces is not required."
   ]
  },
  {
   "cell_type": "markdown",
   "id": "9754f356",
   "metadata": {},
   "source": [
    "<u>**Code**</u> is displayed inline using a grave accent \\`. A bit of text inside a pair of these symbols is rendered as `Code`\n",
    "\n",
    "To use python code specifically, we can use a pair of three grave accents. The first triple is followed by 'python' and a line break. This renders code as it would appear inside code cells, i.e. with the same coloring:\n",
    "```python \n",
    "def print_it(string):\n",
    "    print(f\"this is a {string}\")\n",
    "```\n",
    "See the same in a code cell:"
   ]
  },
  {
   "cell_type": "code",
   "execution_count": 1,
   "id": "ddb94bf5",
   "metadata": {},
   "outputs": [],
   "source": [
    "def print_it(string):\n",
    "    print(f\"this is a {string}\")"
   ]
  },
  {
   "cell_type": "markdown",
   "id": "ff5ec237",
   "metadata": {},
   "source": [
    "<u>**$LaTeX**</u> expressions can also be implemented, using a pair of enclosing dollar signs. The expression inside follows standard LaTeX syntax and is especially useful for mathematical expressions:\n",
    "\n",
    "$\\sum_{n=0}^\\infty \\frac{x^n}{n!} \\hspace{1cm}\\hat{=}\\hspace{1cm}$ \\sum_{n=0}^\\infty \\frac{x^n}{n!} "
   ]
  },
  {
   "cell_type": "markdown",
   "id": "604dcf9e",
   "metadata": {},
   "source": [
    "## HTML\n",
    "\n",
    "Working with Markdown is swift but also very limited in formatting options. For advanced customization HTML can be used without altering its syntax inside Markdown cells.\n",
    "We have encountered this equivalence in Dash, where we could decide whether to use `dcc.Markdown('# title')` or `html.H1('title)` to produce the exact same output.\n",
    "\n",
    "See bold font as one example:\n",
    "- using Markdown \\*: **bold**\n",
    "- using html \\<b>: <b>bold</b>\n",
    "\n",
    "However, HTML includes more options including, yet of course not limited to, different fonts.\n",
    "As a last example we use the 'style' argument (which we have already encountered for Dash):\n",
    "<p style=\"font-family:'Copperplate'\">A new font</p>\n",
    "\n",
    "\n",
    "which is \\<p style=\"font-family:'Copperplate'\">A new font\\</p> as raw string."
   ]
  }
 ],
 "metadata": {
  "kernelspec": {
   "display_name": "Python 3 (ipykernel)",
   "language": "python",
   "name": "python3"
  },
  "language_info": {
   "codemirror_mode": {
    "name": "ipython",
    "version": 3
   },
   "file_extension": ".py",
   "mimetype": "text/x-python",
   "name": "python",
   "nbconvert_exporter": "python",
   "pygments_lexer": "ipython3",
   "version": "3.11.0"
  }
 },
 "nbformat": 4,
 "nbformat_minor": 5
}