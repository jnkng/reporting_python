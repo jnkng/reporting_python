{
 "cells": [
  {
   "cell_type": "code",
   "execution_count": 1,
   "id": "612f142f",
   "metadata": {},
   "outputs": [
    {
     "name": "stderr",
     "output_type": "stream",
     "text": [
      "/var/folders/w4/wqf2j639555dgr__2br4lwjr0000gn/T/ipykernel_62563/4130790256.py:2: UserWarning: \n",
      "The dash_core_components package is deprecated. Please replace\n",
      "`import dash_core_components as dcc` with `from dash import dcc`\n",
      "  import dash_core_components as dcc\n",
      "/var/folders/w4/wqf2j639555dgr__2br4lwjr0000gn/T/ipykernel_62563/4130790256.py:3: UserWarning: \n",
      "The dash_html_components package is deprecated. Please replace\n",
      "`import dash_html_components as html` with `from dash import html`\n",
      "  import dash_html_components as html\n"
     ]
    }
   ],
   "source": [
    "from jupyter_dash import JupyterDash \n",
    "import dash_core_components as dcc\n",
    "import dash_html_components as html"
   ]
  },
  {
   "cell_type": "markdown",
   "id": "899dd41b",
   "metadata": {},
   "source": [
    "# Dash - advanced interactivity\n",
    "\n",
    "\n",
    "To provide advanced interactivity and reactivity, that is to let new input trigger modified output, we need to provide the content as the result of a function.\n",
    "We can have several functions, each modifying one specific element of the UI. To reference elements in the UI and the server part, we give a unique **id** to each element. This id is handed to the respective function to tell it that this is the **input** to be used. The same applies in the reversed direction: by specifying the id of the desired UI element as a function's **output**, the created result is passed to the right address to be displayed. \n",
    "The declaration of what is input and output is done using [decorators](Decorators) and callbacks. This decorator takes the input and output ids as arguments.\n",
    "\n",
    "The structure for building an advanced reactive app becomes:\n",
    "\n",
    "- create a JupyterDash object\n",
    "\n",
    "- define the UI by using the `.layout()` method:\n",
    "    - static elements are defined here\n",
    "    - every interactive item gets an unique **id** which will identify the element as it is given to the server/UI. For example: An info text, which will not change during the use of the app would not need an id. A button to alter the content must get an id.\n",
    "\n",
    "- define the server functions for the content and use the `app.callback()` decorator.\n",
    "    - this part will do any calculations or assignments for interactive elements. The output created here also gets an **id** to address it in the UI in order to display it at the desired location. The definition as callback ensures that every time an input changes, the respective function (having this element as input) is run to keep the content of the UI up-to-date, e.g. after clicking a button  \n",
    "    \n",
    "- the app is run using the `.run_server()` method\n",
    "\n",
    " Note that expensive operations like (down)loading a file should be placed outside the reactive environment, if possible. Else, the operation is triggered and run every time the input changes. For example when working with APIs: Place the request and loading of the data once upfront, before starting the app. Otherwise, the request will be sent unnecessarily for every change in input and soon the limit of requests per day is reached. In general, don't change global variables inside the reactive environment."
   ]
  },
  {
   "cell_type": "markdown",
   "id": "182b8719",
   "metadata": {},
   "source": [
    "To use the decorators and link input and output between server and UI, we need to import the functions `Input` and `Output` from `dash.dependencies`. We call these functions (imported from `dash.dependencies`) as arguments of `app.callback()`.\n",
    "\n",
    "Then, as arguments to `Input` and `Output` we need to specify the `component_id` and the `component_property`. The respective ids must be identical to the ones used in the UI. The properties vary, dependent on what the output of the function is:\n",
    "\n",
    "<ins>Output</ins>:\n",
    "- `'children'`: to return text to the `'children'` argument of html elements\n",
    "\n",
    "- `'figure'`: to return a plotly graphic to `dcc.Graph()` \n",
    "\n",
    "- `'value'`: to return a standard value to an interactive element\n",
    "\n",
    "- (`'options'`: to create options for interactive elements like dropdowns, dependent on earlier selection)\n",
    "\n",
    "<ins>Input</ins>:\n",
    "\n",
    "- `'value'`: use the value of an element as argument, e.g. an entered number\n",
    "\n",
    "- `'n_clicks'`: returns the number a `html.Button` has been clicked \n",
    "\n",
    "- (`'options'`: use options from an interactive element)"
   ]
  },
  {
   "cell_type": "markdown",
   "id": "9b814568",
   "metadata": {},
   "source": [
    "Let's look at a first example.\n"
   ]
  },
  {
   "cell_type": "code",
   "execution_count": 2,
   "id": "86b67369",
   "metadata": {},
   "outputs": [
    {
     "data": {
      "text/html": [
       "\n",
       "        <iframe\n",
       "            width=\"100%\"\n",
       "            height=\"650\"\n",
       "            src=\"http://127.0.0.1:8050/\"\n",
       "            frameborder=\"0\"\n",
       "            allowfullscreen\n",
       "            \n",
       "        ></iframe>\n",
       "        "
      ],
      "text/plain": [
       "<IPython.lib.display.IFrame at 0x107c38710>"
      ]
     },
     "metadata": {},
     "output_type": "display_data"
    }
   ],
   "source": [
    "from dash.dependencies import Input, Output\n",
    "\n",
    "app = JupyterDash('myFirstReactive')\n",
    "\n",
    "app.layout = html.Div([\n",
    "    html.P(children=\"Input: \"),\n",
    "    dcc.Input(id='inum', value='', type='number'),\n",
    "    html.P(id='outext')\n",
    "])\n",
    "\n",
    "@app.callback(\n",
    "    Output(component_id='outext', component_property='children'),\n",
    "    Input(component_id='inum', component_property='value')\n",
    ")\n",
    "def div_outext(num):\n",
    "    return f'times two: {num*2}'\n",
    "\n",
    "app.run_server(mode='inline')"
   ]
  },
  {
   "cell_type": "markdown",
   "id": "9697f92b",
   "metadata": {},
   "source": [
    "First, we instantiate the JupyterDash object.\n",
    "\n",
    "Then, we modify the <ins>layout</ins> to contain the following elements inside the main `Div`:\n",
    "\n",
    "- a `P` element saying 'Input:' $\\rightarrow$ static, no need for an **id**\n",
    "\n",
    "- a `dcc.Input()` with a unique id, a default value (empty string, otherwise it would say 'None') and the `type` of the input to create the according field type in the UI\n",
    "\n",
    "- another `P` element with *only* an **id** and no children\n",
    "\n",
    "Then, we define the <ins>server</ins> function to create the output: the function per se takes one argument and creates a string containing it after being multiplied by two.\n",
    "\n",
    "This function, however, gets decorated with `app.callback()`. This is where the linking between the function and the UI happens. \n",
    "`app.callback()` gets `Output()` and `Input()` as arguments. Each of which have arguments `component_id=` and `component_property=`:\n",
    "\n",
    "- to `Output`, we pass the id of the second `P` element, which in the definition of the layout did not have a `children` argument. This omission becomes clearer when we see that we now pass `component_property='children'`. In prose, this means: Take the result of the decorated function and supply it to the UI element with `component_id='outext'` as a `children` element.\n",
    "\n",
    "- to `Input` we pass the `component_id='inum'` and `component_property='value'`. This means, that the value of the input variable 'inum', defined by the input field `dcc.Input()` should be taken as the input to the decorated function, where it can be processed.\n",
    "\n",
    "Every time we change the input by entering a number or clicking the arrows in the input field, the function gets called and the output is updated.\n",
    "\n",
    "Note that when starting an app, dash will run all available callbacks. This is why we omitted the `children` in the definition of the second `P` element when defining the layout: Any value we would enter here, would instantly be overwritten by the callback."
   ]
  },
  {
   "cell_type": "markdown",
   "id": "4849c211",
   "metadata": {},
   "source": [
    "We will slightly alter this first example to demonstrate, that several inputs and outputs can be used by one function. "
   ]
  },
  {
   "cell_type": "code",
   "execution_count": 3,
   "id": "19f160e4",
   "metadata": {},
   "outputs": [
    {
     "name": "stderr",
     "output_type": "stream",
     "text": [
      "Address already in use\n",
      "Port 8050 is in use by another program. Either identify and stop that program, or start the server with a different port.\n"
     ]
    }
   ],
   "source": [
    "from dash.dependencies import Input, Output\n",
    "\n",
    "app = JupyterDash()\n",
    "\n",
    "app.layout = html.Div([\n",
    "    html.Div([\"Enter first and last name: \",\n",
    "    dcc.Input(id='fname_i', value='otto', type='text'),\n",
    "    dcc.Input(id='lname_i', value='renner', type='text')]),\n",
    "    html.Br(),\n",
    "    html.Div([html.P(id='fname_o', style={'float': 'left'}),\n",
    "    html.P(id='lname_o', style={'float': 'left','marginLeft': 4})] )\n",
    "])\n",
    "    \n",
    "@app.callback(\n",
    "    Output(component_id='fname_o', component_property='children'),\n",
    "    Output(component_id='lname_o', component_property='children'),\n",
    "    Input(component_id='fname_i', component_property='value'),\n",
    "    Input(component_id='lname_i', component_property='value')\n",
    ")\n",
    "def div_outext(fname, lname):\n",
    "    if fname:\n",
    "        return fname[::-1], lname[::-1]\n",
    "    \n",
    "app.run_server(mode='inline')"
   ]
  },
  {
   "cell_type": "markdown",
   "id": "3e35483c",
   "metadata": {},
   "source": [
    "To use several Inputs, we need to look at the order of the `Input`s in the callback. It must match the order of the arguments in the decorated function, i.e. the first `Input` will be passed as the first argument to the function. In the example above, `fname_i` is passed to the function as the `fname` argument.\n",
    "\n",
    "For several Outputs, the same applies: the order of `Output`s in the callback must match the order after `return`."
   ]
  },
  {
   "cell_type": "markdown",
   "id": "90b0bdca",
   "metadata": {},
   "source": [
    "Dash includes elements knwon from plotly, like sliders and buttons. They are implemented in `dcc`. Some are also part of `html` like `html.Button` (having the `n_clicks` attribute).\n",
    "\n",
    "To use interactive elements, we must take their input and pass it to a function by the callback decorator. There, we can use the value to return updated content of an element. \n",
    "\n",
    "In the following example, we will use a slider input to filter and return the copy(!) of a global dataframe. "
   ]
  },
  {
   "cell_type": "code",
   "execution_count": 53,
   "id": "0d1d20ed",
   "metadata": {},
   "outputs": [],
   "source": [
    "import pandas as pd\n",
    "import datetime as dt\n",
    "import plotly.express as px\n",
    "df = pd.read_csv('data/dji_100_days.csv', index_col=0)\n",
    "df.date = pd.to_datetime(df.date)\n",
    "df = df[df.date.dt.year == 2021]\n",
    "df['month'] = [el.month for el in df.date]"
   ]
  },
  {
   "cell_type": "code",
   "execution_count": 87,
   "id": "28dff16d",
   "metadata": {},
   "outputs": [
    {
     "data": {
      "text/plain": [
       "'Jan'"
      ]
     },
     "execution_count": 87,
     "metadata": {},
     "output_type": "execute_result"
    }
   ],
   "source": [
    "pd.to_datetime(6).strftime(\"%b\")"
   ]
  },
  {
   "cell_type": "code",
   "execution_count": 86,
   "id": "e7ad28dd",
   "metadata": {},
   "outputs": [
    {
     "data": {
      "text/plain": [
       "{1: 'Jan', 2: 'Jan', 3: 'Jan', 4: 'Jan', 5: 'Jan'}"
      ]
     },
     "execution_count": 86,
     "metadata": {},
     "output_type": "execute_result"
    }
   ],
   "source": [
    "{n+1: pd.to_datetime(n).strftime(\"%b\") for n in range(max(df.month))}"
   ]
  },
  {
   "cell_type": "code",
   "execution_count": 81,
   "id": "705d23d5",
   "metadata": {},
   "outputs": [
    {
     "name": "stderr",
     "output_type": "stream",
     "text": [
      "/Users/jan/anaconda3/lib/python3.8/site-packages/jupyter_dash/jupyter_app.py:139: UserWarning:\n",
      "\n",
      "The 'environ['werkzeug.server.shutdown']' function is deprecated and will be removed in Werkzeug 2.1.\n",
      "\n"
     ]
    },
    {
     "data": {
      "text/html": [
       "\n",
       "        <iframe\n",
       "            width=\"100%\"\n",
       "            height=\"650\"\n",
       "            src=\"http://127.0.0.1:8051/\"\n",
       "            frameborder=\"0\"\n",
       "            allowfullscreen\n",
       "        ></iframe>\n",
       "        "
      ],
      "text/plain": [
       "<IPython.lib.display.IFrame at 0x7fdbf822ccd0>"
      ]
     },
     "metadata": {},
     "output_type": "display_data"
    }
   ],
   "source": [
    "from dash.dependencies import Input, Output\n",
    "\n",
    "app = JupyterDash()\n",
    "\n",
    "months = {}\n",
    "app.layout = html.Div([\n",
    "    dcc.Slider(\n",
    "        id='comp_slider',\n",
    "        min= min(df.month),\n",
    "        max= max(df.month),\n",
    "        marks= {n: str(n) for n in range(max(df.month))},\n",
    "        value=1\n",
    "        ),\n",
    "    dcc.Dropdown(id='company_dd',\n",
    "                options = [{'label': i, 'value': i} for i in df.symbol.unique()], value=df.symbol.unique()[0]),\n",
    "    dcc.Graph(id='outgraph')\n",
    "])\n",
    "\n",
    "@app.callback(\n",
    "    Output('outgraph', 'figure'),\n",
    "    Input('comp_slider', 'value'),\n",
    "    Input('company_dd', 'value')\n",
    ")\n",
    "def make_outgraph(month, sym):\n",
    "    dftemp = df[df.symbol == sym]\n",
    "    dftemp = dftemp[dftemp.month == month]\n",
    "    fig = px.line(dftemp, x='date', y='open')\n",
    "    return fig\n",
    "\n",
    "app.run_server(mode='inline', port=8051)"
   ]
  },
  {
   "cell_type": "code",
   "execution_count": 63,
   "id": "aeafa8fb",
   "metadata": {},
   "outputs": [
    {
     "data": {
      "text/html": [
       "<div>\n",
       "<style scoped>\n",
       "    .dataframe tbody tr th:only-of-type {\n",
       "        vertical-align: middle;\n",
       "    }\n",
       "\n",
       "    .dataframe tbody tr th {\n",
       "        vertical-align: top;\n",
       "    }\n",
       "\n",
       "    .dataframe thead th {\n",
       "        text-align: right;\n",
       "    }\n",
       "</style>\n",
       "<table border=\"1\" class=\"dataframe\">\n",
       "  <thead>\n",
       "    <tr style=\"text-align: right;\">\n",
       "      <th></th>\n",
       "      <th>date</th>\n",
       "      <th>open</th>\n",
       "      <th>high</th>\n",
       "      <th>low</th>\n",
       "      <th>close</th>\n",
       "      <th>adjClose</th>\n",
       "      <th>volume</th>\n",
       "      <th>unadjustedVolume</th>\n",
       "      <th>change</th>\n",
       "      <th>changePercent</th>\n",
       "      <th>vwap</th>\n",
       "      <th>label</th>\n",
       "      <th>changeOverTime</th>\n",
       "      <th>symbol</th>\n",
       "      <th>month</th>\n",
       "    </tr>\n",
       "  </thead>\n",
       "  <tbody>\n",
       "    <tr>\n",
       "      <th>4</th>\n",
       "      <td>2021-04-30</td>\n",
       "      <td>232.800000</td>\n",
       "      <td>234.490000</td>\n",
       "      <td>229.520000</td>\n",
       "      <td>230.320000</td>\n",
       "      <td>230.320000</td>\n",
       "      <td>4555579.0</td>\n",
       "      <td>4555579.0</td>\n",
       "      <td>-2.48000</td>\n",
       "      <td>-1.065</td>\n",
       "      <td>231.44333</td>\n",
       "      <td>April 30, 21</td>\n",
       "      <td>-0.01065</td>\n",
       "      <td>CRM</td>\n",
       "      <td>4</td>\n",
       "    </tr>\n",
       "    <tr>\n",
       "      <th>5</th>\n",
       "      <td>2021-04-29</td>\n",
       "      <td>237.320000</td>\n",
       "      <td>237.670000</td>\n",
       "      <td>232.170000</td>\n",
       "      <td>234.360000</td>\n",
       "      <td>234.360000</td>\n",
       "      <td>4146903.0</td>\n",
       "      <td>4146903.0</td>\n",
       "      <td>-2.96000</td>\n",
       "      <td>-1.247</td>\n",
       "      <td>234.73333</td>\n",
       "      <td>April 29, 21</td>\n",
       "      <td>-0.01247</td>\n",
       "      <td>CRM</td>\n",
       "      <td>4</td>\n",
       "    </tr>\n",
       "    <tr>\n",
       "      <th>6</th>\n",
       "      <td>2021-04-28</td>\n",
       "      <td>235.000000</td>\n",
       "      <td>238.330000</td>\n",
       "      <td>233.630000</td>\n",
       "      <td>236.880000</td>\n",
       "      <td>236.880000</td>\n",
       "      <td>4203282.0</td>\n",
       "      <td>4203282.0</td>\n",
       "      <td>1.88000</td>\n",
       "      <td>0.800</td>\n",
       "      <td>236.28000</td>\n",
       "      <td>April 28, 21</td>\n",
       "      <td>0.00800</td>\n",
       "      <td>CRM</td>\n",
       "      <td>4</td>\n",
       "    </tr>\n",
       "    <tr>\n",
       "      <th>7</th>\n",
       "      <td>2021-04-27</td>\n",
       "      <td>235.460000</td>\n",
       "      <td>235.840000</td>\n",
       "      <td>231.910000</td>\n",
       "      <td>234.210000</td>\n",
       "      <td>234.210000</td>\n",
       "      <td>3477159.0</td>\n",
       "      <td>3477159.0</td>\n",
       "      <td>-1.25000</td>\n",
       "      <td>-0.531</td>\n",
       "      <td>233.98667</td>\n",
       "      <td>April 27, 21</td>\n",
       "      <td>-0.00531</td>\n",
       "      <td>CRM</td>\n",
       "      <td>4</td>\n",
       "    </tr>\n",
       "    <tr>\n",
       "      <th>8</th>\n",
       "      <td>2021-04-26</td>\n",
       "      <td>234.040000</td>\n",
       "      <td>235.800000</td>\n",
       "      <td>232.440000</td>\n",
       "      <td>235.460000</td>\n",
       "      <td>235.460000</td>\n",
       "      <td>3484643.0</td>\n",
       "      <td>3484643.0</td>\n",
       "      <td>1.42000</td>\n",
       "      <td>0.607</td>\n",
       "      <td>234.56667</td>\n",
       "      <td>April 26, 21</td>\n",
       "      <td>0.00607</td>\n",
       "      <td>CRM</td>\n",
       "      <td>4</td>\n",
       "    </tr>\n",
       "    <tr>\n",
       "      <th>...</th>\n",
       "      <td>...</td>\n",
       "      <td>...</td>\n",
       "      <td>...</td>\n",
       "      <td>...</td>\n",
       "      <td>...</td>\n",
       "      <td>...</td>\n",
       "      <td>...</td>\n",
       "      <td>...</td>\n",
       "      <td>...</td>\n",
       "      <td>...</td>\n",
       "      <td>...</td>\n",
       "      <td>...</td>\n",
       "      <td>...</td>\n",
       "      <td>...</td>\n",
       "      <td>...</td>\n",
       "    </tr>\n",
       "    <tr>\n",
       "      <th>2920</th>\n",
       "      <td>2021-04-08</td>\n",
       "      <td>194.419998</td>\n",
       "      <td>196.669998</td>\n",
       "      <td>194.029999</td>\n",
       "      <td>195.720001</td>\n",
       "      <td>195.720001</td>\n",
       "      <td>2391800.0</td>\n",
       "      <td>2391800.0</td>\n",
       "      <td>1.30000</td>\n",
       "      <td>0.669</td>\n",
       "      <td>195.47333</td>\n",
       "      <td>April 08, 21</td>\n",
       "      <td>0.00669</td>\n",
       "      <td>MMM</td>\n",
       "      <td>4</td>\n",
       "    </tr>\n",
       "    <tr>\n",
       "      <th>2921</th>\n",
       "      <td>2021-04-07</td>\n",
       "      <td>194.160004</td>\n",
       "      <td>195.350006</td>\n",
       "      <td>193.919998</td>\n",
       "      <td>194.949997</td>\n",
       "      <td>194.949997</td>\n",
       "      <td>1501500.0</td>\n",
       "      <td>1501500.0</td>\n",
       "      <td>0.78999</td>\n",
       "      <td>0.407</td>\n",
       "      <td>194.74000</td>\n",
       "      <td>April 07, 21</td>\n",
       "      <td>0.00407</td>\n",
       "      <td>MMM</td>\n",
       "      <td>4</td>\n",
       "    </tr>\n",
       "    <tr>\n",
       "      <th>2922</th>\n",
       "      <td>2021-04-06</td>\n",
       "      <td>195.000000</td>\n",
       "      <td>195.610001</td>\n",
       "      <td>193.990005</td>\n",
       "      <td>194.839996</td>\n",
       "      <td>194.839996</td>\n",
       "      <td>1472700.0</td>\n",
       "      <td>1472700.0</td>\n",
       "      <td>-0.16000</td>\n",
       "      <td>-0.082</td>\n",
       "      <td>194.81333</td>\n",
       "      <td>April 06, 21</td>\n",
       "      <td>-0.00082</td>\n",
       "      <td>MMM</td>\n",
       "      <td>4</td>\n",
       "    </tr>\n",
       "    <tr>\n",
       "      <th>2923</th>\n",
       "      <td>2021-04-05</td>\n",
       "      <td>193.889999</td>\n",
       "      <td>195.949997</td>\n",
       "      <td>193.710007</td>\n",
       "      <td>194.970001</td>\n",
       "      <td>194.970001</td>\n",
       "      <td>1963000.0</td>\n",
       "      <td>1963000.0</td>\n",
       "      <td>1.08000</td>\n",
       "      <td>0.557</td>\n",
       "      <td>194.87667</td>\n",
       "      <td>April 05, 21</td>\n",
       "      <td>0.00557</td>\n",
       "      <td>MMM</td>\n",
       "      <td>4</td>\n",
       "    </tr>\n",
       "    <tr>\n",
       "      <th>2924</th>\n",
       "      <td>2021-04-01</td>\n",
       "      <td>193.250000</td>\n",
       "      <td>193.919998</td>\n",
       "      <td>190.839996</td>\n",
       "      <td>192.699997</td>\n",
       "      <td>192.699997</td>\n",
       "      <td>1902100.0</td>\n",
       "      <td>1902100.0</td>\n",
       "      <td>-0.55000</td>\n",
       "      <td>-0.285</td>\n",
       "      <td>192.48666</td>\n",
       "      <td>April 01, 21</td>\n",
       "      <td>-0.00285</td>\n",
       "      <td>MMM</td>\n",
       "      <td>4</td>\n",
       "    </tr>\n",
       "  </tbody>\n",
       "</table>\n",
       "<p>629 rows × 15 columns</p>\n",
       "</div>"
      ],
      "text/plain": [
       "           date        open        high         low       close    adjClose  \\\n",
       "4    2021-04-30  232.800000  234.490000  229.520000  230.320000  230.320000   \n",
       "5    2021-04-29  237.320000  237.670000  232.170000  234.360000  234.360000   \n",
       "6    2021-04-28  235.000000  238.330000  233.630000  236.880000  236.880000   \n",
       "7    2021-04-27  235.460000  235.840000  231.910000  234.210000  234.210000   \n",
       "8    2021-04-26  234.040000  235.800000  232.440000  235.460000  235.460000   \n",
       "...         ...         ...         ...         ...         ...         ...   \n",
       "2920 2021-04-08  194.419998  196.669998  194.029999  195.720001  195.720001   \n",
       "2921 2021-04-07  194.160004  195.350006  193.919998  194.949997  194.949997   \n",
       "2922 2021-04-06  195.000000  195.610001  193.990005  194.839996  194.839996   \n",
       "2923 2021-04-05  193.889999  195.949997  193.710007  194.970001  194.970001   \n",
       "2924 2021-04-01  193.250000  193.919998  190.839996  192.699997  192.699997   \n",
       "\n",
       "         volume  unadjustedVolume   change  changePercent       vwap  \\\n",
       "4     4555579.0         4555579.0 -2.48000         -1.065  231.44333   \n",
       "5     4146903.0         4146903.0 -2.96000         -1.247  234.73333   \n",
       "6     4203282.0         4203282.0  1.88000          0.800  236.28000   \n",
       "7     3477159.0         3477159.0 -1.25000         -0.531  233.98667   \n",
       "8     3484643.0         3484643.0  1.42000          0.607  234.56667   \n",
       "...         ...               ...      ...            ...        ...   \n",
       "2920  2391800.0         2391800.0  1.30000          0.669  195.47333   \n",
       "2921  1501500.0         1501500.0  0.78999          0.407  194.74000   \n",
       "2922  1472700.0         1472700.0 -0.16000         -0.082  194.81333   \n",
       "2923  1963000.0         1963000.0  1.08000          0.557  194.87667   \n",
       "2924  1902100.0         1902100.0 -0.55000         -0.285  192.48666   \n",
       "\n",
       "             label  changeOverTime symbol  month  \n",
       "4     April 30, 21        -0.01065    CRM      4  \n",
       "5     April 29, 21        -0.01247    CRM      4  \n",
       "6     April 28, 21         0.00800    CRM      4  \n",
       "7     April 27, 21        -0.00531    CRM      4  \n",
       "8     April 26, 21         0.00607    CRM      4  \n",
       "...            ...             ...    ...    ...  \n",
       "2920  April 08, 21         0.00669    MMM      4  \n",
       "2921  April 07, 21         0.00407    MMM      4  \n",
       "2922  April 06, 21        -0.00082    MMM      4  \n",
       "2923  April 05, 21         0.00557    MMM      4  \n",
       "2924  April 01, 21        -0.00285    MMM      4  \n",
       "\n",
       "[629 rows x 15 columns]"
      ]
     },
     "execution_count": 63,
     "metadata": {},
     "output_type": "execute_result"
    }
   ],
   "source": [
    "df[df.month==4]"
   ]
  },
  {
   "cell_type": "code",
   "execution_count": null,
   "id": "5e46e4de",
   "metadata": {},
   "outputs": [],
   "source": [
    "    \n",
    "@app.callback(\n",
    "    Output(component_id='fname_o', component_property='children'),\n",
    "    Output(component_id='lname_o', component_property='children'),\n",
    "    Input(component_id='fname_i', component_property='value'),\n",
    "    Input(component_id='lname_i', component_property='value')\n",
    ")\n",
    "def div_outext(fname, lname):\n",
    "    if fname:\n",
    "        return fname[::-1], lname[::-1]\n",
    "    \n",
    "app.run_server(mode='inline')"
   ]
  },
  {
   "cell_type": "code",
   "execution_count": null,
   "id": "17ed700b",
   "metadata": {},
   "outputs": [],
   "source": [
    "app.callback_map"
   ]
  },
  {
   "cell_type": "markdown",
   "id": "4ddfaac4",
   "metadata": {},
   "source": [
    "(Decorators)=\n",
    "## Decorators\n",
    "\n",
    "Functions which expand the functionality of another function are called decorators (or wrappers). However, these decorators do not change the underlying function, i.e. the one that *gets decorated*. \n",
    "\n",
    "This is possible since functions, just like anything in python, are objects and can get passed as arguments to other functions (we have seen this in the context of callbacks). Furthermore, functions may be defined inside other functions, using the the same syntax as usual.\n",
    "\n",
    "Let's look at a simple example of a function and a wrapper/decorator.\n",
    "The initial function `text_to_wrap` simply prints a string. The decorator returns the `wrapper()` function, which adds a line above and below the text, when printing."
   ]
  },
  {
   "cell_type": "code",
   "execution_count": null,
   "id": "b8fd106d",
   "metadata": {},
   "outputs": [],
   "source": [
    "def text_to_wrap():\n",
    "    print('my text')\n",
    "    \n",
    "text_to_wrap()"
   ]
  },
  {
   "cell_type": "code",
   "execution_count": null,
   "id": "9765dc45",
   "metadata": {},
   "outputs": [],
   "source": [
    "def emphasize_decorator(func):\n",
    "    def wrapper():\n",
    "        print('##################')\n",
    "        func()\n",
    "        print('!!!!!!!!!!!!!!!!!!')\n",
    "    return wrapper"
   ]
  },
  {
   "cell_type": "markdown",
   "id": "cb1d3124",
   "metadata": {},
   "source": [
    "To decorate `text_to_wrap`, we can assign the decorator with '`text_to_wrap`' as argument to the initial function name. Note that we pass the function name without parentheses."
   ]
  },
  {
   "cell_type": "code",
   "execution_count": null,
   "id": "ae36e4ff",
   "metadata": {},
   "outputs": [],
   "source": [
    "text_to_wrap = emphasize_decorator(text_to_wrap)"
   ]
  },
  {
   "cell_type": "code",
   "execution_count": null,
   "id": "1d2166f3",
   "metadata": {
    "scrolled": true
   },
   "outputs": [],
   "source": [
    "text_to_wrap()"
   ]
  },
  {
   "cell_type": "markdown",
   "id": "ca584cf8",
   "metadata": {},
   "source": [
    "To shorten this procedure, python includes a special syntax for decorators. With `@emphasize_decorator` (no parentheses!) before the definition of the inner function, we can achieve the same behaviour."
   ]
  },
  {
   "cell_type": "code",
   "execution_count": null,
   "id": "979e79e5",
   "metadata": {},
   "outputs": [],
   "source": [
    "# emphasize_decorator is being treated as already defined\n",
    "\n",
    "@emphasize_decorator\n",
    "def print_greeting():\n",
    "    print('Hello')"
   ]
  },
  {
   "cell_type": "code",
   "execution_count": null,
   "id": "588bdb46",
   "metadata": {},
   "outputs": [],
   "source": [
    "print_greeting()"
   ]
  },
  {
   "cell_type": "markdown",
   "id": "ced5f8a8",
   "metadata": {},
   "source": [
    "We see, that `print_greeting()` has initially been defined to print 'Hello'. With the decorator call using `@`, however, we have decorated it on the fly to add the emphasis lines around the text from `emphasize_decorator()`. Furthermore, decorators may be chained by subsequent calls of the decorator functions with the same `@`-syntax before the definition of the inner function.  "
   ]
  },
  {
   "cell_type": "markdown",
   "id": "9e36b28b",
   "metadata": {},
   "source": [
    "To pass arguments through the decorator, we can use `*args` and `**kwargs` as placeholder for an arbitrary number of positional arguments and keyword arguments. Note that this is not unique for decorators, but can be used for the definition of any function! We will now update the first two examples from above:\n",
    "    - `text_to_wrap` will get two arguments to print\n",
    "    - `wrapper` inside `emphasize_decorator` will get the placeholders in it's definition "
   ]
  },
  {
   "cell_type": "code",
   "execution_count": null,
   "id": "56b2d53a",
   "metadata": {},
   "outputs": [],
   "source": [
    "def emphasize_decorator(func):\n",
    "    def wrapper(*args, **kwargs):\n",
    "        print('##################')\n",
    "        func(*args, **kwargs)\n",
    "        print('!!!!!!!!!!!!!!!!!!')\n",
    "    return wrapper"
   ]
  },
  {
   "cell_type": "code",
   "execution_count": null,
   "id": "2b62dbbd",
   "metadata": {},
   "outputs": [],
   "source": [
    "@emphasize_decorator\n",
    "def text_to_wrap(w1, w2):\n",
    "    print(f\"{w1}\\n{w2}\")"
   ]
  },
  {
   "cell_type": "code",
   "execution_count": null,
   "id": "362fb9dd",
   "metadata": {},
   "outputs": [],
   "source": [
    "text_to_wrap('line1', 'line2')"
   ]
  },
  {
   "cell_type": "markdown",
   "id": "f37d532d",
   "metadata": {},
   "source": [
    "This is what dash does with the functions defined in the server part: These functions get wrapped to be linked automatically to the UI and to get called every time, the respective input changes."
   ]
  },
  {
   "cell_type": "code",
   "execution_count": null,
   "id": "f6918885",
   "metadata": {},
   "outputs": [],
   "source": []
  },
  {
   "cell_type": "code",
   "execution_count": null,
   "id": "f0d1e209",
   "metadata": {},
   "outputs": [],
   "source": []
  },
  {
   "cell_type": "code",
   "execution_count": null,
   "id": "7bae413e",
   "metadata": {},
   "outputs": [],
   "source": []
  },
  {
   "cell_type": "code",
   "execution_count": null,
   "id": "471fcbf9",
   "metadata": {},
   "outputs": [],
   "source": [
    "import dash\n",
    "import numpy as np\n",
    "import pandas as pd\n",
    "import plotly.graph_objects as go\n",
    "import dash_core_components as dcc\n",
    "import dash_html_components as html\n",
    "\n",
    "from dash.dependencies import Input, Output, State\n",
    "\n",
    "cars_df = pd.read_csv('https://raw.githubusercontent.com/plotly/datasets/master/imports-85.csv')\n",
    "# Build parcats dimensions\n",
    "categorical_dimensions = ['body-style', 'drive-wheels', 'fuel-type']\n",
    "dimensions = [dict(values=cars_df[label], label=label) for label in categorical_dimensions]\n",
    "# Build colorscale.\n",
    "color = np.zeros(len(cars_df), dtype='uint8')\n",
    "colorscale = [[0, '#167b7e'], [1, '#4b3268']]\n",
    "\n",
    "\n",
    "def build_figure():\n",
    "    fig = go.Figure(\n",
    "        data=[\n",
    "            go.Scatter(x=cars_df.horsepower, y=cars_df['highway-mpg'],\n",
    "                       marker={'color': 'gray'}, mode='markers', selected={'marker': {'color': 'firebrick'}},\n",
    "                       unselected={'marker': {'opacity': 0.4}}),\n",
    "            go.Parcats(\n",
    "                domain={'y': [0, 0.4]}, dimensions=dimensions,\n",
    "                line={'colorscale': colorscale, 'cmin': 0,\n",
    "                      'cmax': 1, 'color': color, 'shape': 'hspline'})\n",
    "        ])\n",
    "    fig.update_layout(\n",
    "        height=800,\n",
    "        xaxis={'title': 'Horsepower'},\n",
    "        yaxis={'title': 'MPG', 'domain': [0.6, 1]},\n",
    "        dragmode='lasso',\n",
    "        hovermode='closest',\n",
    "        # plot_bgcolor='rgba(0, 0, 0, 0)',\n",
    "        paper_bgcolor='rgba(0, 0, 0, 0)',\n",
    "        autosize=False,\n",
    "        bargap=0.35,\n",
    "        font={\"family\": \"Questrial\", \"size\": 10})\n",
    "    return fig\n",
    "\n",
    "\n",
    "app =JupyterDash(prevent_initial_callbacks=True)\n",
    "app.layout = html.Div([dcc.Graph(figure=build_figure(), id=\"graph\")])\n",
    "\n",
    "\n",
    "@app.callback(Output(\"graph\", \"figure\"), [Input(\"graph\", \"selectedData\"), Input(\"graph\", \"clickData\")],\n",
    "              [State(\"graph\", \"figure\")])\n",
    "def update_color(selectedData, clickData, fig):\n",
    "    selection = None\n",
    "    # Update selection based on which event triggered the update.\n",
    "    trigger = dash.callback_context.triggered[0][\"prop_id\"]\n",
    "    if trigger == 'graph.clickData':\n",
    "        selection = [point[\"pointNumber\"] for point in clickData[\"points\"]]\n",
    "    if trigger == 'graph.selectedData':\n",
    "        selection = [point[\"pointIndex\"] for point in selectedData[\"points\"]]\n",
    "    # Update scatter selection\n",
    "    fig[\"data\"][0][\"selectedpoints\"] = selection\n",
    "    # Update parcats colors\n",
    "    new_color = np.zeros(len(cars_df), dtype='uint8')\n",
    "    new_color[selection] = 1\n",
    "    fig[\"data\"][1][\"line\"][\"color\"] = new_color\n",
    "    return fig\n",
    "\n",
    "\n",
    "\n",
    "app.run_server()"
   ]
  },
  {
   "cell_type": "code",
   "execution_count": null,
   "id": "35d7a65f",
   "metadata": {},
   "outputs": [],
   "source": [
    "say_whee()"
   ]
  },
  {
   "cell_type": "code",
   "execution_count": null,
   "id": "5cdd3083",
   "metadata": {},
   "outputs": [],
   "source": []
  }
 ],
 "metadata": {
  "kernelspec": {
   "display_name": "Python 3",
   "language": "python",
   "name": "python3"
  },
  "language_info": {
   "codemirror_mode": {
    "name": "ipython",
    "version": 3
   },
   "file_extension": ".py",
   "mimetype": "text/x-python",
   "name": "python",
   "nbconvert_exporter": "python",
   "pygments_lexer": "ipython3",
   "version": "3.11.0"
  }
 },
 "nbformat": 4,
 "nbformat_minor": 5
}