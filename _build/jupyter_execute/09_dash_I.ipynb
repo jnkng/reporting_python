{
 "cells": [
  {
   "cell_type": "markdown",
   "id": "b3961823",
   "metadata": {},
   "source": [
    "# Dash - introduction\n",
    "\n",
    "Plotly's [Dash](https://plotly.com/dash/) is a library to build interactive and reactive web-based dashboards/applications for data analysis, more specifically for visualization. The framework allows to build advanced visualization tools, which will react to new inputs or altered preferences. Dash is built upon other languages, but allows to set up apps using only python.\n",
    "\n",
    "Applications usually consist of two parts: a server, that is where the calculations etc. are made, and a user interface (UI). The UI is everything the user can see and interact with and is called **layout** in dash. For very basic dashboards, all one needs to do is integrating an element, like a bit of text or a graphic.\n",
    "\n",
    "## Installation\n",
    "Standard package to install is 'dash'. \n",
    "\n",
    "However, since we are using jupyter in this course, the according package used throughout this chapter is **jupyter-dash**. This package is made specifically for jupyter and lets us view the apps inside notebooks. \n",
    "The syntax is the same for both packages. What you can do in *jupyter_dash*, you can do in any interpreter using *dash*. Also, we need some components of the standard dash, so both need to be installed anyway.\n",
    "\n",
    ":::{admonition} Caution\n",
    ":class: caution\n",
    "jupyter notebook cannot display several apps in one notebook. \n",
    "\n",
    "The book format used here cannot display apps at all. Therefore, instead of the respective apps, sometimes a picture of the app as it would be displayed is shown. In order to view the actual apps, copy the respective code and run in a notebook yourself (uncomment `app.run(...)`).  \n",
    ":::\n",
    "\n",
    "## Basic usage\n",
    "\n",
    "Dash provides predefined elements for creating an UI. They come in open source libraries like the `dcc_core_components` and `dash_html_components` and are called inside the setup of the layout. We will largely limit ourselves to these two here, but it is advised to check all other libraries when you are missing something (e.g. `dash_table` should be fitting for the purpose of this course, too).\n",
    "\n",
    "The following hyperlinks direct you to the dash documentation, providing a list of the included elements. Take a minute to browse them and see what is available, since we will not cover all of them here.\n",
    "\n",
    "The [dash_html_components](https://dash.plotly.com/dash-html-components) (usually imported as `html` enable us to set up a dash app using html. This allows for detailed customizing, since html includes various style preferences. To customize your app, you can use css properties ([see left column here](https://www.w3schools.com/cssref/css3_pr_align-content.asp)). To specify these properties, use the `style=dict()` argument of the html elements, where the dictionary contains the according key-value pairs. Note, that styling keywords differ in dash from standard html, by using a camelCase format: e.g. `columnCount` (dash) instead of `column-count` (html).\\\n",
    "Again, will not go into detail about html, but use it as needed: some of the basic elements we have seen before, like a *div* element to store the contents of a simple app and an occasional use of some style properties. Note however, that you are very much advised to look into the style properties in order to be able to build a well arranged application.\n",
    "\n",
    "The [dash-core-components](https://dash.plotly.com/dash-core-components) (usually imported as dcc) library includes a set of various interactive tools from simple text elements to download buttons. Of special interest, regarding the *html_core_components* could be the `dcc.Markdown()` function, which accepts Markdown strings with formatting and translates it for us. (We will see some basic markdown syntax in the next chapter) \n",
    "\n",
    "The structure for building a basic app is:\n",
    "- create a JupyterDash object\n",
    "\n",
    "- define the UI by modifying the `.layout` attribute:\n",
    "    - add interactive elements or graphics to appear\n",
    "    \n",
    "- the app is run using the `.run_server()` method"
   ]
  },
  {
   "cell_type": "markdown",
   "id": "fa4d5152",
   "metadata": {},
   "source": [
    "Let's have a look at a first simple example. After the necessary imports, we instantiate an *JupyterDash* object.\n",
    "\n",
    "Then, by calling the object's `layout` attribute, we add a title element (`# text` in Markdown is a level one header, equivalent to `html.H1()`, hence the font size and bolt letters) and subtitle.\n",
    "\n",
    "Eventually, we run the app in the `'inline'` mode, to get the output below the respective cell."
   ]
  },
  {
   "cell_type": "code",
   "execution_count": 1,
   "id": "f43a0f40",
   "metadata": {},
   "outputs": [],
   "source": [
    "from jupyter_dash import JupyterDash\n",
    "import dash_core_components as dcc\n",
    "import dash_html_components as html"
   ]
  },
  {
   "cell_type": "code",
   "execution_count": 2,
   "id": "dfd02d02",
   "metadata": {},
   "outputs": [],
   "source": [
    "app = JupyterDash('SimpleExample')\n",
    "\n",
    "app.layout = html.Div([\n",
    "    dcc.Markdown('''# Title'''), \n",
    "    html.H2('subtitle')\n",
    "])\n",
    "# Run app and display result 'inline', i.e. in the notebook\n",
    "# app.run_server(mode='inline')"
   ]
  },
  {
   "cell_type": "markdown",
   "id": "76e092d7",
   "metadata": {},
   "source": [
    "![](graphics/text_app.png)"
   ]
  },
  {
   "cell_type": "markdown",
   "id": "d0b3fe1f",
   "metadata": {},
   "source": [
    "Omitting the `'inline'` specification would start a server and return the address of the app as hyperlink to open in your browser."
   ]
  },
  {
   "cell_type": "code",
   "execution_count": 3,
   "id": "fca5debb",
   "metadata": {},
   "outputs": [],
   "source": [
    "# app.run_server()    \n",
    "\n",
    "# see admonition above, below is a picture of the expected output"
   ]
  },
  {
   "cell_type": "markdown",
   "id": "da959490",
   "metadata": {},
   "source": [
    "![](graphics/app_url.png)"
   ]
  },
  {
   "cell_type": "markdown",
   "id": "5fffdf9f",
   "metadata": {},
   "source": [
    "Now to some more interactive elements: radio buttons.\n",
    "\n",
    "Note that we do not introduce any functionality with these buttons yet! They are just there an can be activated.\n",
    "\n",
    "We instantiate the object, then modify the `layout`:\n",
    "- the options consist of a list of dicts, where we set label and value as key-value pairs, respectively.\n",
    "- `value` selects a default option, by specifying the 'value' of the respective dictionary. Not specifying a standard value will not have any button selected when starting the app.\n"
   ]
  },
  {
   "cell_type": "code",
   "execution_count": 4,
   "id": "91492990",
   "metadata": {},
   "outputs": [],
   "source": [
    "app = JupyterDash('SimpleExample')\n",
    "\n",
    "app.layout = html.Div([\n",
    "    dcc.RadioItems(\n",
    "        options = [{'label' : el, 'value' : el} for el in ['1','2','3']],\n",
    "        value = '2'\n",
    "    )\n",
    "], style=dict(textAlign='center')) \n",
    "\n",
    "#app.run_server(mode='inline')"
   ]
  },
  {
   "cell_type": "markdown",
   "id": "26bc756a",
   "metadata": {},
   "source": [
    "![](graphics/button_app.png)"
   ]
  },
  {
   "cell_type": "markdown",
   "id": "0289f2b9",
   "metadata": {
    "slideshow": {
     "slide_type": "subslide"
    }
   },
   "source": [
    "After having created this rather simplistic app, we can inspect the layout attribute to find what we just added."
   ]
  },
  {
   "cell_type": "code",
   "execution_count": 5,
   "id": "68f16aab",
   "metadata": {},
   "outputs": [
    {
     "name": "stdout",
     "output_type": "stream",
     "text": [
      "Div(children=[RadioItems(options=[{'label': '1', 'value': '1'}, {'label': '2', 'value': '2'}, {'label': '3', 'value': '3'}], value='2')], style={'textAlign': 'center'})\n"
     ]
    }
   ],
   "source": [
    "print(app.layout)"
   ]
  },
  {
   "cell_type": "markdown",
   "id": "673a6eeb",
   "metadata": {},
   "source": [
    "### Interplay with plotly graphics\n",
    "\n",
    "Dash is a part of plotly and works seamlessly with plotly graphics!\n",
    "\n",
    "Graphics from *plotly_express* can directly be passed to `dcc.Graph` to integrate it in an app.\n",
    "\n",
    "To include graphics from plotly's *graph_objects*, we need to define a `go.Figure` object with the plot first. Note the `style` argument to get two columns side by side."
   ]
  },
  {
   "cell_type": "code",
   "execution_count": 6,
   "id": "cbed983b",
   "metadata": {
    "scrolled": true
   },
   "outputs": [],
   "source": [
    "import plotly.express as px\n",
    "import numpy as np\n",
    "import plotly.graph_objects as go\n",
    "x = np.linspace(-2,2,51)\n",
    "y = x**2\n",
    "fig = go.Figure(go.Scatter(x=x,y=y, mode='markers'))\n",
    "fig.update_layout(margin= {'t': 60})\n",
    "\n",
    "app = JupyterDash('SimpleExample')\n",
    "app.layout = html.Div([\n",
    "    dcc.Markdown(''' - plotly_express:'''), \n",
    "    dcc.Graph(id='px', figure= px.scatter(x=x,y=y)),\n",
    "    dcc.Markdown(''' - graph_objects:'''),\n",
    "    dcc.Graph(id='go', figure= fig)\n",
    "], style={'columnCount':2})\n",
    "\n",
    "#app.run_server(mode='inline')"
   ]
  }
 ],
 "metadata": {
  "kernelspec": {
   "display_name": "Python 3",
   "language": "python",
   "name": "python3"
  },
  "language_info": {
   "codemirror_mode": {
    "name": "ipython",
    "version": 3
   },
   "file_extension": ".py",
   "mimetype": "text/x-python",
   "name": "python",
   "nbconvert_exporter": "python",
   "pygments_lexer": "ipython3",
   "version": "3.9.5"
  }
 },
 "nbformat": 4,
 "nbformat_minor": 5
}