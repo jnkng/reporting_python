{
 "cells": [
  {
   "cell_type": "markdown",
   "id": "899dd41b",
   "metadata": {},
   "source": [
    "# Dash - advanced interactivity\n",
    "\n",
    "\n",
    "To provide advanced interactivity and reactivity, that is to let new input trigger modified output, we need to provide the content as the result of a function.\n",
    "We can have several functions, each modifying one specific element of the UI. To reference elements in the UI and the server part, we give a unique **id** to each element. This id is handed to the respective function to tell it that this is the **input** to be used. The same applies in the reversed direction: by specifying the id of the desired UI element as a function's **output**, the created result is passed to the right address to be displayed. \n",
    "The declaration of what is input and output is done using [decorators](Decorators) and callbacks. This decorator takes the input and output ids as arguments.\n",
    "\n",
    "The structure for building an advanced reactive app becomes:\n",
    "\n",
    "- create a JupyterDash object\n",
    "\n",
    "- define the UI by using the `.layout()` method:\n",
    "    - static elements are defined here\n",
    "    - every interactive item gets an unique **id** which will identify the element as it is given to the server/UI. For example: An info text, which will not change during the use of the app would not need an id. A button to alter the content must get an id.\n",
    "\n",
    "- define the server functions for the content and use the `app.callback()` decorator.\n",
    "    - this part will do any calculations or assignments for interactive elements. The output created here also gets an **id** to address it in the UI in order to display it at the desired location. The definition as callback ensures that every time an input changes, the respective function (having this element as input) is run to keep the content of the UI up-to-date, e.g. after clicking a button  \n",
    "    \n",
    "- the app is run using the `.run_server()` method\n",
    "\n",
    " Note that expensive operations like (down)loading a file should be placed outside the reactive environment, if possible. Else, the operation is triggered and run every time the input changes. For example when working with APIs: Place the request and loading of the data once upfront, before starting the app. Otherwise, the request will be sent unnecessarily for every change in input and soon the limit of requests per day is reached. In general, don't change global variables inside the reactive environment."
   ]
  },
  {
   "cell_type": "markdown",
   "id": "182b8719",
   "metadata": {},
   "source": [
    "To use the decorators and link input and output between server and UI, we need to import the functions `Input` and `Output` from `dash.dependencies`. We call these functions as arguments of `app.callback()`.\n",
    "\n",
    "Then, as arguments to `Input` and `Output` we need to specify the `component_id` for the referenced element and the `component_property` to specify what is returned as output.\n",
    "The respective ids must be identical to the ones used in the UI. The properties vary, dependent on what the output of the function is:\n",
    "\n",
    "<ins>Output</ins>:\n",
    "- `'children'`: to return text to the `'children'` argument of html elements\n",
    "\n",
    "- `'figure'`: to return a plotly graphic to `dcc.Graph()` \n",
    "\n",
    "- `'value'`: to return a standard value to an interactive element\n",
    "\n",
    "- (`'options'`: to create options for interactive elements like dropdowns, dependent on earlier selection)\n",
    "\n",
    "<ins>Input</ins>:\n",
    "\n",
    "- `'value'`: use the value of an element as argument, e.g. an entered number\n",
    "\n",
    "- `'n_clicks'`: returns the number a `html.Button` has been clicked \n",
    "\n",
    "- (`'options'`: use options from an interactive element)"
   ]
  },
  {
   "cell_type": "markdown",
   "id": "9b814568",
   "metadata": {},
   "source": [
    "Let's look at a first example.\n",
    "\n",
    ":::{admonition} Caution\n",
    ":class: caution \n",
    "\n",
    "The format used for these notes cannot display Dash apps. \n",
    "\n",
    "To view an app, copy the respective code and run in a notebook yourself (uncomment app.run(...)).\n",
    ":::"
   ]
  },
  {
   "cell_type": "code",
   "execution_count": 1,
   "id": "86b67369",
   "metadata": {},
   "outputs": [],
   "source": [
    "from jupyter_dash import JupyterDash \n",
    "from dash import dcc\n",
    "from dash import html\n",
    "from dash.dependencies import Input, Output\n",
    "\n",
    "app = JupyterDash('myFirstReactive')\n",
    "\n",
    "app.layout = html.Div([\n",
    "    html.P(children=\"Input: \"),\n",
    "    dcc.Input(id='inum', value='', type='number'),\n",
    "    html.P(id='outext')\n",
    "])\n",
    "\n",
    "@app.callback(\n",
    "    Output(component_id='outext', component_property='children'),\n",
    "    Input(component_id='inum', component_property='value')\n",
    ")\n",
    "def div_outext(num):\n",
    "    return f'times two: {num*2}'\n",
    "\n",
    "#app.run_server(mode='inline')"
   ]
  },
  {
   "cell_type": "markdown",
   "id": "9697f92b",
   "metadata": {},
   "source": [
    "First, we instantiate the JupyterDash object.\n",
    "\n",
    "Then, we modify the <ins>layout</ins> to contain the following elements inside the main `Div`:\n",
    "\n",
    "- a `P` element saying 'Input:' $\\rightarrow$ static, no need for an **id**\n",
    "\n",
    "- a `dcc.Input()` with a unique id, a default value (empty string, otherwise it would say 'None') and the `type` of the input to create the according field type in the UI\n",
    "\n",
    "- another `P` element with *only* an **id** and no children\n",
    "\n",
    "Then, we define the <ins>server</ins> function to create the output: the function per se takes one argument and creates a string containing it after being multiplied by two.\n",
    "\n",
    "This function, however, gets decorated with `app.callback()`. This is where the linking between the function and the UI happens. \n",
    "`app.callback()` gets `Output()` and `Input()` as arguments. Each of which have arguments `component_id=` and `component_property=`:\n",
    "\n",
    "- to `Output`, we pass the id of the second `P` element, which in the definition of the layout did not have a `children` argument. This omission becomes clearer when we see that we now pass `component_property='children'`. In prose, this means: Take the result of the decorated function and supply it to the UI element with `component_id='outext'` as a `children` element.\n",
    "\n",
    "- to `Input` we pass the `component_id='inum'` and `component_property='value'`. This means, that the value of the input variable 'inum', defined by the input field `dcc.Input()` should be taken as the input to the decorated function, where it can be processed.\n",
    "\n",
    "Every time we change the input by entering a number or clicking the arrows in the input field, the function gets called and the output is updated.\n",
    "\n",
    "Note that when starting an app, Dash will run all available callbacks. This is why we omitted the `children` in the definition of the second `P` element when defining the layout: Any value we would enter here, would instantly be overwritten by the callback."
   ]
  },
  {
   "cell_type": "markdown",
   "id": "4849c211",
   "metadata": {},
   "source": [
    "## More inputs & outputs\n",
    "We will slightly alter the first example above to demonstrate that several inputs and outputs can be used by one function. The syntax is the same, we just add more `Input()` and `Output()` to the decorator call."
   ]
  },
  {
   "cell_type": "code",
   "execution_count": 2,
   "id": "19f160e4",
   "metadata": {},
   "outputs": [],
   "source": [
    "from dash.dependencies import Input, Output\n",
    "\n",
    "app = JupyterDash()\n",
    "\n",
    "app.layout = html.Div([\n",
    "    html.Div([\"Enter first and last name: \",\n",
    "    dcc.Input(id='fname_i', value='otto', type='text'),\n",
    "    dcc.Input(id='lname_i', value='renner', type='text')]),\n",
    "    html.Br(),\n",
    "    html.Div([html.P(id='fname_o', style={'float': 'left'}),\n",
    "    html.P(id='lname_o', style={'float': 'left','marginLeft': 4})] )\n",
    "])\n",
    "    \n",
    "@app.callback(\n",
    "    Output(component_id='fname_o', component_property='children'),\n",
    "    Output(component_id='lname_o', component_property='children'),\n",
    "    Input(component_id='fname_i', component_property='value'),\n",
    "    Input(component_id='lname_i', component_property='value')\n",
    ")\n",
    "def div_outext(fname, lname):\n",
    "    if fname:\n",
    "        return fname[::-1], lname[::-1]\n",
    "    \n",
    "#app.run_server(mode='inline')"
   ]
  },
  {
   "cell_type": "markdown",
   "id": "3e35483c",
   "metadata": {},
   "source": [
    "To use several Inputs, we need to look at the order of the `Input`s in the callback. It must match the order of the arguments in the decorated function, i.e. the first `Input` will be passed as the first argument to the function. In the example above, `fname_i` is passed to the function as the `fname` argument.\n",
    "\n",
    "For several Outputs, the same applies: the order of `Output`s in the callback must match the order after `return`."
   ]
  },
  {
   "cell_type": "markdown",
   "id": "e6cc6715",
   "metadata": {},
   "source": [
    "## Sliders and buttons\n",
    "\n",
    "Dash includes elements knwon from plotly, like sliders and buttons. They are implemented in `dcc`. Some are also part of `html` like `html.Button` (having the `n_clicks` attribute).\n",
    "\n",
    "To use interactive elements, we must take their input and pass it to a function by the callback decorator. There, we can use the value to return updated content of an element. \n",
    "\n",
    "In the following example, we will use a slider input to filter the copy(!) of a global dataframe, containing the prices of 100 days for all companies listed in the dow jones. The Filtering is done using pandas indexing, as usual. We then use this filtered dataframe to create a figure.\n",
    "\n",
    "In the dataframe, we limit ourselves to the year 2021 and introduce a new variable: month, as a number from 1 (January) to 12 (December)"
   ]
  },
  {
   "cell_type": "code",
   "execution_count": 3,
   "id": "2e6b3640",
   "metadata": {},
   "outputs": [],
   "source": [
    "import pandas as pd\n",
    "import datetime as dt\n",
    "import plotly.express as px\n",
    "df = pd.read_csv('data/dji_sector_prices.csv')\n",
    "df.date = pd.to_datetime(df.date)\n",
    "df = df[df.date.dt.year == 2021]\n",
    "df['month'] = [el.month for el in df.date]"
   ]
  },
  {
   "cell_type": "code",
   "execution_count": 4,
   "id": "cbfd3ece",
   "metadata": {},
   "outputs": [],
   "source": [
    "month_marks = {i+1:str(i+1) for i in range(df.month.max())}"
   ]
  },
  {
   "cell_type": "code",
   "execution_count": 5,
   "id": "c300764e",
   "metadata": {
    "scrolled": true
   },
   "outputs": [],
   "source": [
    "app = JupyterDash()\n",
    "\n",
    "app.layout = html.Div([\n",
    "    dcc.Slider(\n",
    "        id='comp_slider',\n",
    "        min= min(df.month),\n",
    "        max= max(df.month),\n",
    "        marks=month_marks,\n",
    "        value=5\n",
    "        ),\n",
    "    dcc.Dropdown(id='company_dd',\n",
    "                options = [{'label': i, 'value': i} for i in df.symbol.unique()],\n",
    "                value = df.symbol.unique()[0]),\n",
    "    dcc.Graph(id='outgraph')\n",
    "])\n",
    "\n",
    "@app.callback(\n",
    "    Output('outgraph', 'figure'),\n",
    "    Input('comp_slider', 'value'),\n",
    "    Input('company_dd', 'value')\n",
    ")\n",
    "def make_outgraph(month, sym):\n",
    "    dftemp = df[df.symbol == sym]\n",
    "    dftemp = dftemp[dftemp.month == month]\n",
    "    fig = px.line(dftemp, x='date', y='open')\n",
    "    return fig\n",
    "\n",
    "#app.run_server(mode='inline)"
   ]
  },
  {
   "cell_type": "markdown",
   "id": "c99ac767",
   "metadata": {},
   "source": [
    "Every time we change an input, either by changing the slider position or selecting a different company, the function gets called and the graph is created for the respective input. "
   ]
  },
  {
   "cell_type": "markdown",
   "id": "a937a319",
   "metadata": {},
   "source": [
    "## States\n",
    "\n",
    "So far, every time we change an input, the callback is fired and the output is updated. This can be prevented by using `State()` as substitute for `Input()`. `State()` will accept the same two arguments as `Input()`: an id and a property.\n",
    "\n",
    "In contrast to *Input*, elements referenced as input in `State()` will not trigger any updates when changed in the UI. Note that this requires at least one other element (like a 'submit' button) to trigger the updates, else the app would not respond at all to new inputs.\n",
    "\n",
    "The order in the decorator call is `Output()` first, then `Input()` followed by `State()`.\n",
    "\n",
    "We will extend the example above to include an additional update button and let the slider and dropdown input be state inputs. \n",
    "\n",
    "The graphic will only update when a new selection is confirmed by clicking the button."
   ]
  },
  {
   "cell_type": "code",
   "execution_count": 6,
   "id": "2f5a7483",
   "metadata": {
    "scrolled": false
   },
   "outputs": [],
   "source": [
    "from dash.dependencies import State\n",
    "\n",
    "app = JupyterDash()\n",
    "\n",
    "white_button_style = {'background-color': 'grey',\n",
    "                      'color': 'white',\n",
    "                      'height': '50px',\n",
    "                      'width': '100px',\n",
    "                      'margin-top': '5px',\n",
    "                      'margin-left': '5px'}\n",
    "\n",
    "app.layout = html.Div([\n",
    "    dcc.Slider(\n",
    "        id='comp_slider',\n",
    "        min= min(df.month),\n",
    "        max= max(df.month),\n",
    "        marks=month_marks,\n",
    "        value=5\n",
    "        ),\n",
    "    dcc.Dropdown(id='company_dd',\n",
    "                options = [{'label': i, 'value': i} for i in df.symbol.unique()],\n",
    "                value = df.symbol.unique()[0], style=dict(width='400px')),\n",
    "    html.Button('Update', id='update', n_clicks=0, style=white_button_style),\n",
    "    dcc.Graph(id='outgraph')\n",
    "])\n",
    "\n",
    "@app.callback(\n",
    "    Output('outgraph', 'figure'),\n",
    "    Input('update', 'n_clicks'),\n",
    "    State('comp_slider', 'value'),\n",
    "    State('company_dd', 'value')\n",
    ")\n",
    "def make_outgraph(n_clicks, month, sym):\n",
    "    dftemp = df[df.symbol == sym]\n",
    "    dftemp = dftemp[dftemp.month == month]\n",
    "    fig = px.line(dftemp, x='date', y='open')\n",
    "    return fig\n",
    "\n",
    "#app.run_server(mode='inline')"
   ]
  },
  {
   "cell_type": "markdown",
   "id": "78ecd495",
   "metadata": {},
   "source": [
    "## Dynamic conditional input\n",
    "\n",
    "We will use the same dataframe to show an example of an reactive Input element, i.e. the options for one input element are based on the selection of a previous element.\n",
    "\n",
    "This can be achieved using `'options'` as output property to set these for another interactive element, e.g. a button or dropdowns.\n",
    "\n",
    "We also use a chained callback, meaning the output of one callback serves the following one as input. \n",
    "\n",
    "In the case of this dataframe, we have *sectors*, where at least one company per sector. Therefore, we can provide options of a **company dropdown** to select a company based on the previous selection from a **sector dropdown**.\n",
    "\n",
    "We will display two dropdowns, the lower one with conditional options and no further output for simplicity."
   ]
  },
  {
   "cell_type": "code",
   "execution_count": 7,
   "id": "27aa7dde",
   "metadata": {
    "scrolled": true
   },
   "outputs": [],
   "source": [
    "app = JupyterDash()\n",
    "\n",
    "app.layout = html.Div([\n",
    "    dcc.Dropdown(id='sector_dd',\n",
    "                options = [{'label': i, 'value': i} for i in df.sector.unique()],\n",
    "                value = df.sector.unique()[0]),\n",
    "    dcc.Dropdown(id='company_dd',\n",
    "                value = df.symbol.unique()[0])\n",
    "])\n",
    "\n",
    "@app.callback(\n",
    "    Output('company_dd', 'options'),\n",
    "    Input('sector_dd', 'value')\n",
    ")\n",
    "def set_options_company_dd(sector):\n",
    "    return [{'label': i, 'value': i} for i in df[df.sector==sector].symbol.unique()]\n",
    "\n",
    "@app.callback(\n",
    "    Output('company_dd', 'value'),\n",
    "    Input('company_dd', 'options')\n",
    ")\n",
    "def set_default_company_dd(ops):\n",
    "    return ops[0]['value']\n",
    "    \n",
    "#app.run_server(mode='inline')"
   ]
  },
  {
   "cell_type": "markdown",
   "id": "c5c27403",
   "metadata": {},
   "source": [
    "The basic syntax stays the same as in the examples before. It is crucial here, however, to provide the right format when returning the options in `set_options_company_dd` as a list of dictionaries. Note also the filtering by *sector*.\n",
    "\n",
    "To set the default value in `set_default_company_dd`, we take all options (they are returned by the function before) as input and return the `'value'` of the first element (at index 0)."
   ]
  },
  {
   "cell_type": "markdown",
   "id": "467d5702",
   "metadata": {},
   "source": [
    "## Selecting points from a graph\n",
    "\n",
    "As we have seen in the chapter on plotly, the graphics include selection tools in the tool bar. Using Dash, we can interactively work with these selections. We can for example show a more detailed analysis of these data points only or show some of their characteristics in a second graph.\n",
    "\n",
    "The plotly figure attributes of interest to work with selected data points are `'selectedData'` and `'clickData'`, which we provide as input to the callback.\n",
    "\n",
    "In the following example, we use only one company for simplicity. We create a graph with `build_figure()` where we set the default operation to the lasso selection. The box selection and all other tools from the tool bar are still available. \n",
    "\n",
    "Below the graph, we display an empty table, i.e. only the column names. \n",
    "\n",
    "Note that the callback includes a `print()` statement. This is merely for showing what format the click or lasso selection takes on inside the callback:\n",
    "- starting the app, `callback_context` is empty.\n",
    "\n",
    "- after clicking on one point, `'prop_id'` gets a value of `'graph.clickData',`, which we can use as condition for a single line of output in the table. We do so by accessing the point's index in the dataframe using a list comprehension for the callback context.\n",
    "\n",
    "- after using the lasso selection with at least on point included,`'prop_id'` gets a value of `'graph.selectedData',`. in the callback context, the list *'points'* now has more than one element and we use the same list comprehension as before to extract a list of indices to pass it to the dataframe to filter for the output."
   ]
  },
  {
   "cell_type": "code",
   "execution_count": 8,
   "id": "e870031d",
   "metadata": {},
   "outputs": [],
   "source": [
    "from dash import dash_table\n",
    "import plotly.graph_objects as go\n",
    "import dash"
   ]
  },
  {
   "cell_type": "code",
   "execution_count": 9,
   "id": "e19f7776",
   "metadata": {},
   "outputs": [],
   "source": [
    "app = JupyterDash()\n",
    "\n",
    "\n",
    "def build_figure(df):\n",
    "    fig = go.Figure(go.Scatter(x=df.open, y=df.change,\n",
    "                       marker={'color': 'gray'},\n",
    "                       mode='markers',\n",
    "                       selected={'marker': {'color': 'Crimson'}},\n",
    "                       unselected={'marker': {'opacity': 0.4}}),\n",
    "        )\n",
    "    fig.update_layout(dragmode='lasso')\n",
    "    return fig\n",
    "\n",
    "app.layout = html.Div([\n",
    "    dcc.Graph(id='graph', figure=build_figure(df[df.symbol == 'PG'])),\n",
    "    dash_table.DataTable(id='table',\n",
    "                         columns = [{'name': col, 'id': col} for col in df.columns])\n",
    "\n",
    "])\n",
    "\n",
    "@app.callback(\n",
    "    Output('table', 'data'),\n",
    "    [Input(\"graph\", \"selectedData\"),\n",
    "     Input(\"graph\", \"clickData\")])\n",
    "def update_table(selectedData, clickData):\n",
    "    selection = None\n",
    "    data = None\n",
    "    trigger = dash.callback_context.triggered[0][\"prop_id\"]\n",
    "    if trigger == 'graph.clickData':\n",
    "        selection = [point[\"pointIndex\"] for point in clickData[\"points\"]]\n",
    "        data=df.iloc[selection].to_dict(orient='records')\n",
    "\n",
    "    if trigger == 'graph.selectedData':\n",
    "        selection = [point[\"pointIndex\"] for point in selectedData[\"points\"]]\n",
    "        data=df.iloc[selection].to_dict(orient='records')\n",
    "        \n",
    "    print('\\n', dash.callback_context.triggered)\n",
    "    return data\n",
    "\n",
    "#app.run_server(mode='inline')"
   ]
  },
  {
   "cell_type": "markdown",
   "id": "9096ceae",
   "metadata": {},
   "source": [
    "This is only a picture of the app. \n",
    "The printed statements at the bottom show:\n",
    "1. the empty context when starting the app\n",
    "2. a single selection by clicking\n",
    "3. lasso selection of two points (red in graph)\n",
    "![](graphics/selectpoints.png)"
   ]
  },
  {
   "cell_type": "markdown",
   "id": "578e752e",
   "metadata": {},
   "source": [
    "This introduction to and display of Dash's functionality is not at all complete and is not intended to be. For the creation of your own app, please scan the (left column) in the [documentation](https://dash.plotly.com) to find other useful elements."
   ]
  },
  {
   "cell_type": "markdown",
   "id": "afeb87c1",
   "metadata": {},
   "source": [
    "## Deployment\n",
    "\n",
    "It is possible to deploy Dash apps online (also for free) using git. We will not cover this procedure here and instead refer to the [documentation](https://dash.plotly.com/deployment)."
   ]
  },
  {
   "cell_type": "markdown",
   "id": "4ddfaac4",
   "metadata": {},
   "source": [
    "(Decorators)=\n",
    "## Extra: Decorators\n",
    "\n",
    "Functions which expand the functionality of another function are called decorators (or wrappers). However, these decorators do not change the underlying function, i.e. the one that *gets decorated*. \n",
    "\n",
    "This is possible since functions, just like anything in python, are objects and can get passed as arguments to other functions (we have seen this in the context of callbacks). Furthermore, functions may be defined inside other functions, using the the same syntax as usual.\n",
    "\n",
    "Let's look at a simple example of a function and a wrapper/decorator.\n",
    "The initial function `text_to_wrap` simply prints a string. The decorator returns the `wrapper()` function, which adds a line above and below the text, when printing."
   ]
  },
  {
   "cell_type": "code",
   "execution_count": 10,
   "id": "b8fd106d",
   "metadata": {},
   "outputs": [
    {
     "name": "stdout",
     "output_type": "stream",
     "text": [
      "my text\n"
     ]
    }
   ],
   "source": [
    "def text_to_wrap():\n",
    "    print('my text')\n",
    "    \n",
    "text_to_wrap()"
   ]
  },
  {
   "cell_type": "code",
   "execution_count": 11,
   "id": "9765dc45",
   "metadata": {},
   "outputs": [],
   "source": [
    "def emphasize_decorator(func):\n",
    "    def wrapper():\n",
    "        print('##################')\n",
    "        func()\n",
    "        print('!!!!!!!!!!!!!!!!!!')\n",
    "    return wrapper"
   ]
  },
  {
   "cell_type": "markdown",
   "id": "cb1d3124",
   "metadata": {},
   "source": [
    "To decorate `text_to_wrap`, we can assign the decorator with '`text_to_wrap`' as argument to the initial function name. Note that we pass the function name without parentheses."
   ]
  },
  {
   "cell_type": "code",
   "execution_count": 12,
   "id": "ae36e4ff",
   "metadata": {},
   "outputs": [],
   "source": [
    "text_to_wrap = emphasize_decorator(text_to_wrap)"
   ]
  },
  {
   "cell_type": "code",
   "execution_count": 13,
   "id": "1d2166f3",
   "metadata": {
    "scrolled": true
   },
   "outputs": [
    {
     "name": "stdout",
     "output_type": "stream",
     "text": [
      "##################\n",
      "my text\n",
      "!!!!!!!!!!!!!!!!!!\n"
     ]
    }
   ],
   "source": [
    "text_to_wrap()"
   ]
  },
  {
   "cell_type": "markdown",
   "id": "ca584cf8",
   "metadata": {},
   "source": [
    "To shorten this procedure, python includes a special syntax for decorators. With `@emphasize_decorator` (no parentheses!) before the definition of the inner function, we can achieve the same behaviour."
   ]
  },
  {
   "cell_type": "code",
   "execution_count": 14,
   "id": "979e79e5",
   "metadata": {},
   "outputs": [],
   "source": [
    "# emphasize_decorator is being treated as already defined\n",
    "\n",
    "@emphasize_decorator\n",
    "def print_greeting():\n",
    "    print('Hello')"
   ]
  },
  {
   "cell_type": "code",
   "execution_count": 15,
   "id": "588bdb46",
   "metadata": {},
   "outputs": [
    {
     "name": "stdout",
     "output_type": "stream",
     "text": [
      "##################\n",
      "Hello\n",
      "!!!!!!!!!!!!!!!!!!\n"
     ]
    }
   ],
   "source": [
    "print_greeting()"
   ]
  },
  {
   "cell_type": "markdown",
   "id": "ced5f8a8",
   "metadata": {},
   "source": [
    "We see, that `print_greeting()` has initially been defined to print 'Hello'. With the decorator call using `@`, however, we have decorated it on the fly to add the emphasis lines around the text from `emphasize_decorator()`. Furthermore, decorators may be chained by subsequent calls of the decorator functions with the same `@`-syntax before the definition of the inner function.  "
   ]
  },
  {
   "cell_type": "markdown",
   "id": "9e36b28b",
   "metadata": {},
   "source": [
    "To pass arguments through the decorator, we can use `*args` and `**kwargs` as placeholder for an arbitrary number of positional arguments and keyword arguments. Note that this is not unique for decorators, but can be used for the definition of any function! We will now update the first two examples from above:\n",
    "    - `text_to_wrap` will get two arguments to print\n",
    "    - `wrapper` inside `emphasize_decorator` will get the placeholders in it's definition "
   ]
  },
  {
   "cell_type": "code",
   "execution_count": 16,
   "id": "56b2d53a",
   "metadata": {},
   "outputs": [],
   "source": [
    "def emphasize_decorator(func):\n",
    "    def wrapper(*args, **kwargs):\n",
    "        print('##################')\n",
    "        func(*args, **kwargs)\n",
    "        print('!!!!!!!!!!!!!!!!!!')\n",
    "    return wrapper"
   ]
  },
  {
   "cell_type": "code",
   "execution_count": 17,
   "id": "2b62dbbd",
   "metadata": {},
   "outputs": [],
   "source": [
    "@emphasize_decorator\n",
    "def text_to_wrap(w1, w2):\n",
    "    print(f\"{w1}\\n{w2}\")"
   ]
  },
  {
   "cell_type": "code",
   "execution_count": 18,
   "id": "362fb9dd",
   "metadata": {},
   "outputs": [
    {
     "name": "stdout",
     "output_type": "stream",
     "text": [
      "##################\n",
      "line1\n",
      "line2\n",
      "!!!!!!!!!!!!!!!!!!\n"
     ]
    }
   ],
   "source": [
    "text_to_wrap('line1', 'line2')"
   ]
  },
  {
   "cell_type": "markdown",
   "id": "f37d532d",
   "metadata": {},
   "source": [
    "This is what dash does with the functions defined in the server part: These functions get wrapped to be linked automatically to the UI and to get called every time, the respective input changes."
   ]
  }
 ],
 "metadata": {
  "kernelspec": {
   "display_name": "Python 3 (ipykernel)",
   "language": "python",
   "name": "python3"
  },
  "language_info": {
   "codemirror_mode": {
    "name": "ipython",
    "version": 3
   },
   "file_extension": ".py",
   "mimetype": "text/x-python",
   "name": "python",
   "nbconvert_exporter": "python",
   "pygments_lexer": "ipython3",
   "version": "3.11.0"
  }
 },
 "nbformat": 4,
 "nbformat_minor": 5
}