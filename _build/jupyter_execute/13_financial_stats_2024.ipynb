{
 "cells": [
  {
   "cell_type": "code",
   "execution_count": 1,
   "metadata": {},
   "outputs": [],
   "source": [
    "import pandas as pd\n",
    "import numpy as np"
   ]
  },
  {
   "cell_type": "markdown",
   "metadata": {
    "slideshow": {
     "slide_type": "slide"
    }
   },
   "source": [
    "# Introduction to Statistics and Indicators in Finance"
   ]
  },
  {
   "cell_type": "markdown",
   "metadata": {
    "slideshow": {
     "slide_type": "subslide"
    }
   },
   "source": [
    "Many fields in finance rely on some sort of data analysis\n",
    "- For example fundamental analysis of a business:\n",
    "    - various numbers from the company itself (i.e. from the balance sheet)\n",
    "    - indicators representing the overall market \n",
    "    \n",
    "Results drive decisions, e.g. for an investement\n",
    "\n",
    "There are many well established techniques and statistics for pricing financial products.\n",
    "\n",
    "Some techniques more prominent since the dawn of powerful algorithms and artificial intelligence\n"
   ]
  },
  {
   "cell_type": "markdown",
   "metadata": {
    "slideshow": {
     "slide_type": "slide"
    }
   },
   "source": [
    "## Returns\n",
    "\n",
    "In order for an investment to be profitable, the money it yields must be higher than the inital investment made (plus transaction costs).\n",
    "\n",
    "Assess so called return, usually discrete: relative change in investment value $S$.  \n",
    "\n",
    "$$ r_t = \\frac{S_t - S_{t-1}}{S_{t-1}} =\\frac{S_t}{S_{t-1}} - 1 $$ \n",
    "\n",
    "Note here that one time step $t$ is of arbitrary length, e.g. daily or monthly\n"
   ]
  },
  {
   "cell_type": "markdown",
   "metadata": {
    "slideshow": {
     "slide_type": "slide"
    }
   },
   "source": [
    "### Additivity\n",
    "\n",
    "Returns my be based on different time spans $\\rightarrow$ aggreagte somehow \n",
    "\n",
    "The property we are looking for is called addititvity: sum shorter-scale returns to get the larger-scale returns\n",
    "\n",
    "Note that we can't just split monthly returns into daily returns, this requires making assumptions on the distribution \n",
    "\n",
    "Daily and weekly returns:  \n",
    "To calculate weekly returns from daily returns, we mustn't use the daily return as is.  "
   ]
  },
  {
   "cell_type": "markdown",
   "metadata": {
    "slideshow": {
     "slide_type": "subslide"
    }
   },
   "source": [
    "time $t$       |  0   |   1  |   2   |   3    |   4   |   5   |   6   |   7   \n",
    "-------------|------|------|-------|--------|-------|-------|-------|----------\n",
    "prices $S_t$  |  100 |  110 |  121  |  110   |  132  |  105  |  112  |   105  \n",
    "return $r_t$ |  --- | 0.10 |  0.10 |  -0.09 |  0.2  |  -0.20 |  0.07 | -0.06\n",
    "\n",
    "If we simply added all returns, we'd find a weekly return of $r_{0,7} = 0.12$.  \n",
    "However, using the formula from above, we find that\n",
    "$$ r_{0,7} = \\frac{S_7}{S_{0}} - 1 = \\frac{105}{100} - 1  = 0.05 $$\n",
    "and conclude that indeed daily returns cannot simply be added up in order to yield the weekly return."
   ]
  },
  {
   "cell_type": "markdown",
   "metadata": {
    "slideshow": {
     "slide_type": "subslide"
    }
   },
   "source": [
    "#### log-returns\n",
    "\n",
    "With a single transformation however, we can can establish the desired additivity over time\n",
    "\n",
    "The transformation needed is taking the **logarithm** and getting **log returns**\n",
    "\n",
    "Logarithmise the (daily) **prices** and get the difference between sucessive values.  \n",
    "Or logarithmise the ratio of the past and current price:\n",
    "$$ r_t^{log} = \\log{\\frac{S_t}{S_{t-1}}} $$\n",
    "$$ \\downarrow(\\log{\\frac{x}{y}} = \\log{x}- \\log{y})$$\n",
    "$$ = \\log{S_t} - \\log{S_{t-1}} $$ "
   ]
  },
  {
   "cell_type": "markdown",
   "metadata": {
    "slideshow": {
     "slide_type": "subslide"
    }
   },
   "source": [
    "These log returns/continuous returns, now exhibit additivity over time\n",
    "\n",
    "same prices, but log returns:\n",
    "\n",
    "time $t$       |  0   |   1  |   2   |   3    |   4   |   5   |   6   |   7   \n",
    "-------------|------|------|-------|--------|-------|-------|-------|----------\n",
    "prices $S_t$  |  100 |  110 |  121  |  110   |  132  |  105  |  112  |   105  \n",
    "log return $r_t^{log}$ |  --- | 0.10 |  0.10 |  -0.10 |  0.18  |  -0.23 |  0.06 | -0.06\n",
    "\n",
    "Add all log returns to find weekly log return to be $$ r_{0,7} = 0.05 $$.  \n",
    "\n",
    "To convert log returns to discrete returns, take the exponent (inverse of the logarithm) of the log return **and subtract 1**.  \n",
    "Here, we also get a result of $0.05$  "
   ]
  },
  {
   "cell_type": "markdown",
   "metadata": {
    "slideshow": {
     "slide_type": "subslide"
    }
   },
   "source": [
    "Having a look at the math with logarithmised prices, we can unveil the characteristics of this additive behaviour:\n",
    "$$ r_{t=2}^{log} =\\log{\\frac{S_t}{S_{t-1}}} = \\log{S_{t=2} - \\log{S_{t=0}}} $$  \n",
    "$$\\downarrow \\text{\"add zero\": } - \\log{S_{t=1}} + \\log{S_{t=1}} = 0 $$  \n",
    "$$ r_{0, t=2}^{log} =\\log{S_{t=2} + 0 - \\log{S_{t=0}}} $$  \n",
    "$$ r_{0, t=2}^{log} = (\\log{S_{t=2} - \\log{S_{t=1}}) + (\\log{S_{t=1}} - \\log{S_{t=0}}}) $$  \n",
    "$$ r_{0, t=2}^{log} = r_{1, t=2}^{log} + r_{0, t=1}^{log} $$"
   ]
  },
  {
   "cell_type": "markdown",
   "metadata": {
    "slideshow": {
     "slide_type": "subslide"
    }
   },
   "source": [
    "We notice that log returns are very close to the discrete returns.  \n",
    "This is due to the fact, the logarithm behaves almost linear for values close to zero.\n",
    "\n",
    "$\\rightarrow$ for small values of the discrete return, the log returns are very similar. \n",
    "\n",
    "Note that this applies almost always for daily returns and even shorter time spans. \n",
    "\n",
    "For a monthly return (or quarterly, yearly) there \"is more time for the value to develop\"\n",
    "\n",
    "Let's have a look at returns using python"
   ]
  },
  {
   "cell_type": "code",
   "execution_count": 2,
   "metadata": {
    "slideshow": {
     "slide_type": "slide"
    }
   },
   "outputs": [
    {
     "data": {
      "text/html": [
       "<div>\n",
       "<style scoped>\n",
       "    .dataframe tbody tr th:only-of-type {\n",
       "        vertical-align: middle;\n",
       "    }\n",
       "\n",
       "    .dataframe tbody tr th {\n",
       "        vertical-align: top;\n",
       "    }\n",
       "\n",
       "    .dataframe thead th {\n",
       "        text-align: right;\n",
       "    }\n",
       "</style>\n",
       "<table border=\"1\" class=\"dataframe\">\n",
       "  <thead>\n",
       "    <tr style=\"text-align: right;\">\n",
       "      <th></th>\n",
       "      <th>S</th>\n",
       "    </tr>\n",
       "  </thead>\n",
       "  <tbody>\n",
       "    <tr>\n",
       "      <th>0</th>\n",
       "      <td>100</td>\n",
       "    </tr>\n",
       "    <tr>\n",
       "      <th>1</th>\n",
       "      <td>110</td>\n",
       "    </tr>\n",
       "    <tr>\n",
       "      <th>2</th>\n",
       "      <td>121</td>\n",
       "    </tr>\n",
       "    <tr>\n",
       "      <th>3</th>\n",
       "      <td>110</td>\n",
       "    </tr>\n",
       "    <tr>\n",
       "      <th>4</th>\n",
       "      <td>132</td>\n",
       "    </tr>\n",
       "    <tr>\n",
       "      <th>5</th>\n",
       "      <td>105</td>\n",
       "    </tr>\n",
       "    <tr>\n",
       "      <th>6</th>\n",
       "      <td>112</td>\n",
       "    </tr>\n",
       "    <tr>\n",
       "      <th>7</th>\n",
       "      <td>105</td>\n",
       "    </tr>\n",
       "  </tbody>\n",
       "</table>\n",
       "</div>"
      ],
      "text/plain": [
       "     S\n",
       "0  100\n",
       "1  110\n",
       "2  121\n",
       "3  110\n",
       "4  132\n",
       "5  105\n",
       "6  112\n",
       "7  105"
      ]
     },
     "execution_count": 2,
     "metadata": {},
     "output_type": "execute_result"
    }
   ],
   "source": [
    "df = pd.DataFrame({\n",
    "    'S': [100, 110, 121, 110, 132, 105, 112, 105],\n",
    "    },\n",
    "index=list(range(8)))\n",
    "df"
   ]
  },
  {
   "cell_type": "markdown",
   "metadata": {
    "slideshow": {
     "slide_type": "slide"
    }
   },
   "source": [
    "We can calculate discrete returns simply by using a method of a Series object: `.pct_change()`.  \n",
    "Note the `NaN` value for the first line."
   ]
  },
  {
   "cell_type": "markdown",
   "metadata": {
    "slideshow": {
     "slide_type": "slide"
    }
   },
   "source": [
    "To calculate log returns with numpy's `np.log()`"
   ]
  },
  {
   "cell_type": "code",
   "execution_count": 3,
   "metadata": {
    "slideshow": {
     "slide_type": "subslide"
    }
   },
   "outputs": [
    {
     "data": {
      "text/html": [
       "<div>\n",
       "<style scoped>\n",
       "    .dataframe tbody tr th:only-of-type {\n",
       "        vertical-align: middle;\n",
       "    }\n",
       "\n",
       "    .dataframe tbody tr th {\n",
       "        vertical-align: top;\n",
       "    }\n",
       "\n",
       "    .dataframe thead th {\n",
       "        text-align: right;\n",
       "    }\n",
       "</style>\n",
       "<table border=\"1\" class=\"dataframe\">\n",
       "  <thead>\n",
       "    <tr style=\"text-align: right;\">\n",
       "      <th></th>\n",
       "      <th>S</th>\n",
       "      <th>discrete_returns</th>\n",
       "      <th>log_returns</th>\n",
       "      <th>log_returns_alt</th>\n",
       "      <th>discrete_returns_from_log</th>\n",
       "    </tr>\n",
       "  </thead>\n",
       "  <tbody>\n",
       "    <tr>\n",
       "      <th>0</th>\n",
       "      <td>100</td>\n",
       "      <td>NaN</td>\n",
       "      <td>NaN</td>\n",
       "      <td>NaN</td>\n",
       "      <td>NaN</td>\n",
       "    </tr>\n",
       "    <tr>\n",
       "      <th>1</th>\n",
       "      <td>110</td>\n",
       "      <td>0.100000</td>\n",
       "      <td>0.095310</td>\n",
       "      <td>0.095310</td>\n",
       "      <td>0.100000</td>\n",
       "    </tr>\n",
       "    <tr>\n",
       "      <th>2</th>\n",
       "      <td>121</td>\n",
       "      <td>0.100000</td>\n",
       "      <td>0.095310</td>\n",
       "      <td>0.095310</td>\n",
       "      <td>0.100000</td>\n",
       "    </tr>\n",
       "    <tr>\n",
       "      <th>3</th>\n",
       "      <td>110</td>\n",
       "      <td>-0.090909</td>\n",
       "      <td>-0.095310</td>\n",
       "      <td>-0.095310</td>\n",
       "      <td>-0.090909</td>\n",
       "    </tr>\n",
       "    <tr>\n",
       "      <th>4</th>\n",
       "      <td>132</td>\n",
       "      <td>0.200000</td>\n",
       "      <td>0.182322</td>\n",
       "      <td>0.182322</td>\n",
       "      <td>0.200000</td>\n",
       "    </tr>\n",
       "    <tr>\n",
       "      <th>5</th>\n",
       "      <td>105</td>\n",
       "      <td>-0.204545</td>\n",
       "      <td>-0.228842</td>\n",
       "      <td>-0.228842</td>\n",
       "      <td>-0.204545</td>\n",
       "    </tr>\n",
       "    <tr>\n",
       "      <th>6</th>\n",
       "      <td>112</td>\n",
       "      <td>0.066667</td>\n",
       "      <td>0.064539</td>\n",
       "      <td>0.064539</td>\n",
       "      <td>0.066667</td>\n",
       "    </tr>\n",
       "    <tr>\n",
       "      <th>7</th>\n",
       "      <td>105</td>\n",
       "      <td>-0.062500</td>\n",
       "      <td>-0.064539</td>\n",
       "      <td>-0.064539</td>\n",
       "      <td>-0.062500</td>\n",
       "    </tr>\n",
       "  </tbody>\n",
       "</table>\n",
       "</div>"
      ],
      "text/plain": [
       "     S  discrete_returns  log_returns  log_returns_alt  \\\n",
       "0  100               NaN          NaN              NaN   \n",
       "1  110          0.100000     0.095310         0.095310   \n",
       "2  121          0.100000     0.095310         0.095310   \n",
       "3  110         -0.090909    -0.095310        -0.095310   \n",
       "4  132          0.200000     0.182322         0.182322   \n",
       "5  105         -0.204545    -0.228842        -0.228842   \n",
       "6  112          0.066667     0.064539         0.064539   \n",
       "7  105         -0.062500    -0.064539        -0.064539   \n",
       "\n",
       "   discrete_returns_from_log  \n",
       "0                        NaN  \n",
       "1                   0.100000  \n",
       "2                   0.100000  \n",
       "3                  -0.090909  \n",
       "4                   0.200000  \n",
       "5                  -0.204545  \n",
       "6                   0.066667  \n",
       "7                  -0.062500  "
      ]
     },
     "execution_count": 3,
     "metadata": {},
     "output_type": "execute_result"
    }
   ],
   "source": [
    "# use prices\n",
    "df['discrete_returns'] = df.S.pct_change()\n",
    "df['log_returns'] = np.log(df.S).diff()\n",
    "df['log_returns_alt'] = np.log(df.discrete_returns.dropna()+1)\n",
    "df['discrete_returns_from_log'] = np.exp(df.log_returns) - 1\n",
    "df"
   ]
  },
  {
   "cell_type": "markdown",
   "metadata": {
    "slideshow": {
     "slide_type": "slide"
    }
   },
   "source": [
    "### Portfolios and cross sectional additivity\n",
    "\n",
    "A portfolio ($PF$) is a collection of investments, e.g. stocks\n",
    "\n",
    "Portfolios are allocated differently, i.e. by a degree of risk\n",
    "\n",
    "We can describe a portfolio's value by the sum of its constituents.  \n",
    "We define their value by a weight (fraction of total capital) $w_i$ multiplied by the respective stock's value $S_i$.\n",
    "$$ P_i = w_i \\cdot S_i$$\n",
    "where $i$ indicates the company."
   ]
  },
  {
   "cell_type": "markdown",
   "metadata": {
    "slideshow": {
     "slide_type": "subslide"
    }
   },
   "source": [
    "Given the prices of single stocks in a PF, how can we calculate the portfolio's performance over all stocks?\n",
    "$\\rightarrow$ calculate the performance from $t=0$ to $t=1$ for the entirety of stocks in our portfolio. \n",
    "\n",
    "Use returns!\n",
    "\n",
    "For the cross sectional portfolio return we **must not use log returns**.  \n",
    "Discrete returns already possess the desired cross sectional additivity."
   ]
  },
  {
   "cell_type": "markdown",
   "metadata": {
    "slideshow": {
     "slide_type": "subslide"
    }
   },
   "source": [
    "Looking at the portfolio return, we'll use the price development of a single stock \n",
    "$$ P_{t+1}^i = P_t^i (1 + r_{t+1}^i) $$\n",
    "\n",
    "It can now be derived, that discrete returns do indeed possess the cross sectional additivity\n",
    "$$ r_{t+1}^{PF} = \\sum_i P^i_t (1 + r_{t+1}^i) $$\n",
    "$$ = \\sum_i{w_i S_t} + \\sum_i{w_i S_t r_{t+1}^i} $$\n",
    "$$ = S_t \\cdot (1 + \\sum_i w_i r_{t+1}^i) $$\n",
    "with $\\sum_i w_i = 1$.  "
   ]
  },
  {
   "cell_type": "markdown",
   "metadata": {
    "slideshow": {
     "slide_type": "subslide"
    }
   },
   "source": [
    " \n",
    "Let's have a look at the following data:\n",
    "   \n",
    "time $t$       |  0   |   1  |   2   |   3    |   4   |   5   |   6   |   7   \n",
    "-------------|------|------|-------|--------|-------|-------|-------|----------\n",
    "company A $A_t$  |  100 |  110 |  121  |  110   |  132  |  105  |  112  |   105  \n",
    "company B $B_t$  |  100 |  120 |  124  |  118   |  117  |  135  |  128  |   115  \n",
    "\n",
    "For simplicity, we will assume to invest the same amount of money in both stocks. \n",
    "This gives initial portfolio weights $w_1=w_2=0.5$. For such a naive portfolio, we can then just apply the mean, i.e. the portfolio return on day $t$ is just the mean of all returns $r_{i,t}$ for all companies $i$.\n",
    "\n",
    "Calculate the daily returns of the portfolio using pandas:"
   ]
  },
  {
   "cell_type": "code",
   "execution_count": 4,
   "metadata": {
    "slideshow": {
     "slide_type": "subslide"
    }
   },
   "outputs": [
    {
     "data": {
      "text/html": [
       "<div>\n",
       "<style scoped>\n",
       "    .dataframe tbody tr th:only-of-type {\n",
       "        vertical-align: middle;\n",
       "    }\n",
       "\n",
       "    .dataframe tbody tr th {\n",
       "        vertical-align: top;\n",
       "    }\n",
       "\n",
       "    .dataframe thead th {\n",
       "        text-align: right;\n",
       "    }\n",
       "</style>\n",
       "<table border=\"1\" class=\"dataframe\">\n",
       "  <thead>\n",
       "    <tr style=\"text-align: right;\">\n",
       "      <th></th>\n",
       "      <th>A</th>\n",
       "      <th>B</th>\n",
       "    </tr>\n",
       "  </thead>\n",
       "  <tbody>\n",
       "    <tr>\n",
       "      <th>0</th>\n",
       "      <td>100</td>\n",
       "      <td>100</td>\n",
       "    </tr>\n",
       "    <tr>\n",
       "      <th>1</th>\n",
       "      <td>110</td>\n",
       "      <td>120</td>\n",
       "    </tr>\n",
       "    <tr>\n",
       "      <th>2</th>\n",
       "      <td>121</td>\n",
       "      <td>124</td>\n",
       "    </tr>\n",
       "    <tr>\n",
       "      <th>3</th>\n",
       "      <td>110</td>\n",
       "      <td>118</td>\n",
       "    </tr>\n",
       "    <tr>\n",
       "      <th>4</th>\n",
       "      <td>132</td>\n",
       "      <td>117</td>\n",
       "    </tr>\n",
       "    <tr>\n",
       "      <th>5</th>\n",
       "      <td>105</td>\n",
       "      <td>135</td>\n",
       "    </tr>\n",
       "    <tr>\n",
       "      <th>6</th>\n",
       "      <td>112</td>\n",
       "      <td>128</td>\n",
       "    </tr>\n",
       "    <tr>\n",
       "      <th>7</th>\n",
       "      <td>105</td>\n",
       "      <td>115</td>\n",
       "    </tr>\n",
       "  </tbody>\n",
       "</table>\n",
       "</div>"
      ],
      "text/plain": [
       "     A    B\n",
       "0  100  100\n",
       "1  110  120\n",
       "2  121  124\n",
       "3  110  118\n",
       "4  132  117\n",
       "5  105  135\n",
       "6  112  128\n",
       "7  105  115"
      ]
     },
     "execution_count": 4,
     "metadata": {},
     "output_type": "execute_result"
    }
   ],
   "source": [
    "df = pd.DataFrame({\n",
    "    'A': [100, 110, 121, 110, 132, 105, 112, 105],\n",
    "    'B': [100, 120, 124, 118, 117, 135, 128, 115],\n",
    "    },\n",
    "index=list(range(8)))\n",
    "df"
   ]
  },
  {
   "cell_type": "code",
   "execution_count": 5,
   "metadata": {
    "slideshow": {
     "slide_type": "subslide"
    }
   },
   "outputs": [
    {
     "data": {
      "text/html": [
       "<div>\n",
       "<style scoped>\n",
       "    .dataframe tbody tr th:only-of-type {\n",
       "        vertical-align: middle;\n",
       "    }\n",
       "\n",
       "    .dataframe tbody tr th {\n",
       "        vertical-align: top;\n",
       "    }\n",
       "\n",
       "    .dataframe thead th {\n",
       "        text-align: right;\n",
       "    }\n",
       "</style>\n",
       "<table border=\"1\" class=\"dataframe\">\n",
       "  <thead>\n",
       "    <tr style=\"text-align: right;\">\n",
       "      <th></th>\n",
       "      <th>A</th>\n",
       "      <th>B</th>\n",
       "      <th>A_return</th>\n",
       "      <th>B_return</th>\n",
       "      <th>naive_pf_return</th>\n",
       "    </tr>\n",
       "  </thead>\n",
       "  <tbody>\n",
       "    <tr>\n",
       "      <th>0</th>\n",
       "      <td>100</td>\n",
       "      <td>100</td>\n",
       "      <td>NaN</td>\n",
       "      <td>NaN</td>\n",
       "      <td>NaN</td>\n",
       "    </tr>\n",
       "    <tr>\n",
       "      <th>1</th>\n",
       "      <td>110</td>\n",
       "      <td>120</td>\n",
       "      <td>0.100000</td>\n",
       "      <td>0.200000</td>\n",
       "      <td>0.150000</td>\n",
       "    </tr>\n",
       "    <tr>\n",
       "      <th>2</th>\n",
       "      <td>121</td>\n",
       "      <td>124</td>\n",
       "      <td>0.100000</td>\n",
       "      <td>0.033333</td>\n",
       "      <td>0.066667</td>\n",
       "    </tr>\n",
       "    <tr>\n",
       "      <th>3</th>\n",
       "      <td>110</td>\n",
       "      <td>118</td>\n",
       "      <td>-0.090909</td>\n",
       "      <td>-0.048387</td>\n",
       "      <td>-0.069648</td>\n",
       "    </tr>\n",
       "    <tr>\n",
       "      <th>4</th>\n",
       "      <td>132</td>\n",
       "      <td>117</td>\n",
       "      <td>0.200000</td>\n",
       "      <td>-0.008475</td>\n",
       "      <td>0.095763</td>\n",
       "    </tr>\n",
       "    <tr>\n",
       "      <th>5</th>\n",
       "      <td>105</td>\n",
       "      <td>135</td>\n",
       "      <td>-0.204545</td>\n",
       "      <td>0.153846</td>\n",
       "      <td>-0.025350</td>\n",
       "    </tr>\n",
       "    <tr>\n",
       "      <th>6</th>\n",
       "      <td>112</td>\n",
       "      <td>128</td>\n",
       "      <td>0.066667</td>\n",
       "      <td>-0.051852</td>\n",
       "      <td>0.007407</td>\n",
       "    </tr>\n",
       "    <tr>\n",
       "      <th>7</th>\n",
       "      <td>105</td>\n",
       "      <td>115</td>\n",
       "      <td>-0.062500</td>\n",
       "      <td>-0.101562</td>\n",
       "      <td>-0.082031</td>\n",
       "    </tr>\n",
       "  </tbody>\n",
       "</table>\n",
       "</div>"
      ],
      "text/plain": [
       "     A    B  A_return  B_return  naive_pf_return\n",
       "0  100  100       NaN       NaN              NaN\n",
       "1  110  120  0.100000  0.200000         0.150000\n",
       "2  121  124  0.100000  0.033333         0.066667\n",
       "3  110  118 -0.090909 -0.048387        -0.069648\n",
       "4  132  117  0.200000 -0.008475         0.095763\n",
       "5  105  135 -0.204545  0.153846        -0.025350\n",
       "6  112  128  0.066667 -0.051852         0.007407\n",
       "7  105  115 -0.062500 -0.101562        -0.082031"
      ]
     },
     "execution_count": 5,
     "metadata": {},
     "output_type": "execute_result"
    }
   ],
   "source": [
    "df['A_return'] = df.A.pct_change()\n",
    "df['B_return'] = df.B.pct_change()\n",
    "df.loc[1:,'naive_pf_return'] = df.loc[1:,['A_return', 'B_return']].mean(axis=1)\n",
    "df"
   ]
  },
  {
   "cell_type": "markdown",
   "metadata": {},
   "source": [
    "What is the total portfolio return over the span of the 8 days above?\n",
    "Again, we can just transform the portfolio return to log returns and sum the whole column. The same rules apply, independent of whether it is portfolio returns or returns from a single asset:"
   ]
  },
  {
   "cell_type": "code",
   "execution_count": 6,
   "metadata": {},
   "outputs": [
    {
     "data": {
      "text/html": [
       "<div>\n",
       "<style scoped>\n",
       "    .dataframe tbody tr th:only-of-type {\n",
       "        vertical-align: middle;\n",
       "    }\n",
       "\n",
       "    .dataframe tbody tr th {\n",
       "        vertical-align: top;\n",
       "    }\n",
       "\n",
       "    .dataframe thead th {\n",
       "        text-align: right;\n",
       "    }\n",
       "</style>\n",
       "<table border=\"1\" class=\"dataframe\">\n",
       "  <thead>\n",
       "    <tr style=\"text-align: right;\">\n",
       "      <th></th>\n",
       "      <th>A</th>\n",
       "      <th>B</th>\n",
       "      <th>A_return</th>\n",
       "      <th>B_return</th>\n",
       "      <th>naive_pf_return</th>\n",
       "      <th>naive_pf_log_returns</th>\n",
       "    </tr>\n",
       "  </thead>\n",
       "  <tbody>\n",
       "    <tr>\n",
       "      <th>0</th>\n",
       "      <td>100</td>\n",
       "      <td>100</td>\n",
       "      <td>NaN</td>\n",
       "      <td>NaN</td>\n",
       "      <td>NaN</td>\n",
       "      <td>NaN</td>\n",
       "    </tr>\n",
       "    <tr>\n",
       "      <th>1</th>\n",
       "      <td>110</td>\n",
       "      <td>120</td>\n",
       "      <td>0.100000</td>\n",
       "      <td>0.200000</td>\n",
       "      <td>0.150000</td>\n",
       "      <td>0.139762</td>\n",
       "    </tr>\n",
       "    <tr>\n",
       "      <th>2</th>\n",
       "      <td>121</td>\n",
       "      <td>124</td>\n",
       "      <td>0.100000</td>\n",
       "      <td>0.033333</td>\n",
       "      <td>0.066667</td>\n",
       "      <td>0.064539</td>\n",
       "    </tr>\n",
       "    <tr>\n",
       "      <th>3</th>\n",
       "      <td>110</td>\n",
       "      <td>118</td>\n",
       "      <td>-0.090909</td>\n",
       "      <td>-0.048387</td>\n",
       "      <td>-0.069648</td>\n",
       "      <td>-0.072192</td>\n",
       "    </tr>\n",
       "    <tr>\n",
       "      <th>4</th>\n",
       "      <td>132</td>\n",
       "      <td>117</td>\n",
       "      <td>0.200000</td>\n",
       "      <td>-0.008475</td>\n",
       "      <td>0.095763</td>\n",
       "      <td>0.091451</td>\n",
       "    </tr>\n",
       "    <tr>\n",
       "      <th>5</th>\n",
       "      <td>105</td>\n",
       "      <td>135</td>\n",
       "      <td>-0.204545</td>\n",
       "      <td>0.153846</td>\n",
       "      <td>-0.025350</td>\n",
       "      <td>-0.025676</td>\n",
       "    </tr>\n",
       "    <tr>\n",
       "      <th>6</th>\n",
       "      <td>112</td>\n",
       "      <td>128</td>\n",
       "      <td>0.066667</td>\n",
       "      <td>-0.051852</td>\n",
       "      <td>0.007407</td>\n",
       "      <td>0.007380</td>\n",
       "    </tr>\n",
       "    <tr>\n",
       "      <th>7</th>\n",
       "      <td>105</td>\n",
       "      <td>115</td>\n",
       "      <td>-0.062500</td>\n",
       "      <td>-0.101562</td>\n",
       "      <td>-0.082031</td>\n",
       "      <td>-0.085592</td>\n",
       "    </tr>\n",
       "  </tbody>\n",
       "</table>\n",
       "</div>"
      ],
      "text/plain": [
       "     A    B  A_return  B_return  naive_pf_return  naive_pf_log_returns\n",
       "0  100  100       NaN       NaN              NaN                   NaN\n",
       "1  110  120  0.100000  0.200000         0.150000              0.139762\n",
       "2  121  124  0.100000  0.033333         0.066667              0.064539\n",
       "3  110  118 -0.090909 -0.048387        -0.069648             -0.072192\n",
       "4  132  117  0.200000 -0.008475         0.095763              0.091451\n",
       "5  105  135 -0.204545  0.153846        -0.025350             -0.025676\n",
       "6  112  128  0.066667 -0.051852         0.007407              0.007380\n",
       "7  105  115 -0.062500 -0.101562        -0.082031             -0.085592"
      ]
     },
     "execution_count": 6,
     "metadata": {},
     "output_type": "execute_result"
    }
   ],
   "source": [
    "df['naive_pf_log_returns'] = np.log(df.naive_pf_return + 1)\n",
    "df"
   ]
  },
  {
   "cell_type": "code",
   "execution_count": 7,
   "metadata": {},
   "outputs": [
    {
     "name": "stdout",
     "output_type": "stream",
     "text": [
      "log return over the whole period: 0.1197\n",
      "log return over the whole period: 0.1272\n"
     ]
    }
   ],
   "source": [
    "log_return_total = df.naive_pf_log_returns.sum().round(4)\n",
    "print(f'log return over the whole period: {log_return_total.round(4)}')\n",
    "print(f'log return over the whole period: {(np.exp(log_return_total) - 1).round(4)}')"
   ]
  },
  {
   "cell_type": "markdown",
   "metadata": {
    "slideshow": {
     "slide_type": "slide"
    }
   },
   "source": [
    "### Characteristics of returns \n",
    "\n",
    "Usually, returns exhibit the following:\n",
    "- expected returns are close to zero (the shorter the time span, the smaller the expected return)\n",
    "- weakly stationary (i.e. constant expected value and variance over time) **but** usually volatility clustering\n",
    "- skewed distribution"
   ]
  },
  {
   "cell_type": "markdown",
   "metadata": {
    "slideshow": {
     "slide_type": "subslide"
    }
   },
   "source": [
    "From these items alone, we can start an analysis of stock returns by looking at some (standardized) moments of the empirical data:\n",
    "- the average return as an estimate of the expected return\n",
    "- the empirical variance or standard deviation/volatility \n",
    "- skewness (if negative: left skewed)\n",
    "- (excess) kurtosis (larger $\\rightarrow$ fat tails)"
   ]
  },
  {
   "cell_type": "markdown",
   "metadata": {
    "slideshow": {
     "slide_type": "subslide"
    }
   },
   "source": [
    "Use pandas, by calling the appropriate methods.\n",
    "\n",
    "We will have a look at real-world data, downloading close prices using the yfinance package and calculating the returns. "
   ]
  },
  {
   "cell_type": "code",
   "execution_count": 8,
   "metadata": {
    "slideshow": {
     "slide_type": "fragment"
    }
   },
   "outputs": [],
   "source": [
    "import yfinance as yf\n",
    "\n",
    "msft = yf.Ticker('MSFT').history(start=\"2020-01-01\")"
   ]
  },
  {
   "cell_type": "code",
   "execution_count": 9,
   "metadata": {
    "slideshow": {
     "slide_type": "fragment"
    }
   },
   "outputs": [],
   "source": [
    "msft = msft[['Close']]\n",
    "msft['daily_return'] = msft['Close'].pct_change()\n",
    "msft.dropna(inplace=True)"
   ]
  },
  {
   "cell_type": "code",
   "execution_count": 10,
   "metadata": {
    "slideshow": {
     "slide_type": "subslide"
    }
   },
   "outputs": [
    {
     "name": "stdout",
     "output_type": "stream",
     "text": [
      "average return 0.0011\n",
      "volatility 0.0197\n",
      "skewness 0.0117\n",
      "kurtosis 6.9091\n"
     ]
    }
   ],
   "source": [
    "avg_return = msft.daily_return.mean()\n",
    "vola = msft.daily_return.std()\n",
    "skew = msft.daily_return.skew()\n",
    "kurtis = msft.daily_return.kurt()\n",
    "\n",
    "\n",
    "print(f'average return {np.round(avg_return,4)}')\n",
    "print(f'volatility {np.round(vola, 4)}')\n",
    "print(f'skewness {np.round(skew, 4)}')\n",
    "print(f'kurtosis {np.round(kurtis, 4)}')"
   ]
  },
  {
   "cell_type": "markdown",
   "metadata": {
    "slideshow": {
     "slide_type": "subslide"
    }
   },
   "source": [
    "As we discussed in earlier chapter, it is always recommended to take a look at some charts.  \n",
    "We can plot returns over time as well as look at the distribution."
   ]
  },
  {
   "cell_type": "code",
   "execution_count": 11,
   "metadata": {
    "slideshow": {
     "slide_type": "fragment"
    }
   },
   "outputs": [
    {
     "data": {
      "text/plain": [
       "<AxesSubplot: xlabel='Date'>"
      ]
     },
     "execution_count": 11,
     "metadata": {},
     "output_type": "execute_result"
    },
    {
     "data": {
      "image/png": "[encoded data removed]",
      "text/plain": [
       "<Figure size 640x480 with 1 Axes>"
      ]
     },
     "metadata": {},
     "output_type": "display_data"
    }
   ],
   "source": [
    "msft.daily_return.plot()"
   ]
  },
  {
   "cell_type": "markdown",
   "metadata": {
    "slideshow": {
     "slide_type": "slide"
    }
   },
   "source": [
    "Over time, we see that the volatility is far from constant.\n",
    "\n",
    "To look at the distribution, we already know which plot to utilise."
   ]
  },
  {
   "cell_type": "code",
   "execution_count": 12,
   "metadata": {
    "slideshow": {
     "slide_type": "subslide"
    }
   },
   "outputs": [
    {
     "data": {
      "text/plain": [
       "<AxesSubplot: xlabel='daily_return', ylabel='Count'>"
      ]
     },
     "execution_count": 12,
     "metadata": {},
     "output_type": "execute_result"
    },
    {
     "data": {
      "image/png": "[encoded data removed]",
      "text/plain": [
       "<Figure size 640x480 with 1 Axes>"
      ]
     },
     "metadata": {},
     "output_type": "display_data"
    }
   ],
   "source": [
    "import matplotlib.pyplot as plt\n",
    "import seaborn as sns\n",
    "\n",
    "sns.histplot(msft.daily_return, color='forestgreen', kde=True)"
   ]
  },
  {
   "cell_type": "markdown",
   "metadata": {
    "slideshow": {
     "slide_type": "fragment"
    }
   },
   "source": [
    "From the kernel density estimation (solid line), we see the left-skewedness of the distribution. "
   ]
  }
 ],
 "metadata": {
  "celltoolbar": "Slideshow",
  "kernelspec": {
   "display_name": "Python 3 (ipykernel)",
   "language": "python",
   "name": "python3"
  },
  "language_info": {
   "codemirror_mode": {
    "name": "ipython",
    "version": 3
   },
   "file_extension": ".py",
   "mimetype": "text/x-python",
   "name": "python",
   "nbconvert_exporter": "python",
   "pygments_lexer": "ipython3",
   "version": "3.11.0"
  },
  "vscode": {
   "interpreter": {
    "hash": "1a1af0ee75eeea9e2e1ee996c87e7a2b11a0bebd85af04bb136d915cefc0abce"
   }
  }
 },
 "nbformat": 4,
 "nbformat_minor": 2
}