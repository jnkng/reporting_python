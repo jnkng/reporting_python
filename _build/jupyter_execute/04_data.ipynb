{
 "cells": [
  {
   "cell_type": "markdown",
   "metadata": {},
   "source": [
    "# Working with Data \n",
    "Several libraries offer useful tools to work with data in order to allow for a meaningful analysis. One of the most popular and powerful is [**Pandas**](https://pandas.pydata.org/pandas-docs/stable/index.html). Beside including efficient ways for cleaning and manipulating data, pandas also includes functions for statistical analysis and graphics.\n",
    "\n",
    "Usually, pandas is imported under the alias ```pd```."
   ]
  },
  {
   "cell_type": "code",
   "execution_count": 1,
   "metadata": {},
   "outputs": [],
   "source": [
    "import pandas as pd"
   ]
  },
  {
   "cell_type": "markdown",
   "metadata": {},
   "source": [
    "## Pandas - DataFrames and Series\n",
    "\n",
    "### Indexing\n",
    "The basic elements for data are *DataFrames* and *Series*. A DataFrame is a whole matrix- or table-like representation of data with column and row names. A Series can be understood as a single column of such a data matrix (but without the need for a table).\\\n",
    "There are respective functions to turn other objects, e.g. lists or dicts, into DataFrames or Series. Indexing, similar to lists or dicts, uses square brackets."
   ]
  },
  {
   "cell_type": "code",
   "execution_count": 2,
   "metadata": {},
   "outputs": [
    {
     "name": "stdout",
     "output_type": "stream",
     "text": [
      "df:\n",
      "    var1\n",
      "0     1\n",
      "1     2\n",
      "2     3\n",
      "3     4\n",
      "4     5\n",
      "5     6\n",
      "6     7\n",
      "series:\n",
      " 0    1\n",
      "1    2\n",
      "2    3\n",
      "3    4\n",
      "4    5\n",
      "5    6\n",
      "6    7\n",
      "dtype: int64\n",
      "select column from df:\n",
      " 0    1\n",
      "1    2\n",
      "2    3\n",
      "3    4\n",
      "4    5\n",
      "5    6\n",
      "6    7\n",
      "Name: var1, dtype: int64\n"
     ]
    }
   ],
   "source": [
    "my_list = [1,2,3,4,5,6,7]\n",
    "my_df = pd.DataFrame(my_list, columns=['var1'])\n",
    "print('df:\\n', my_df)\n",
    "\n",
    "my_series = pd.Series(my_list)\n",
    "print('series:\\n',my_series)\n",
    "\n",
    "# selecting a single column from a DataFrame\n",
    "print('select column from df:\\n', my_df['var1'])"
   ]
  },
  {
   "cell_type": "markdown",
   "metadata": {},
   "source": [
    "To select specific rows or columns, the ```iloc``` method, for selecting based on an index, and ```loc``` method, based on labels, are recommended. Especially when several columns are to be selected. Indexing can also be done by boolean Series (or lists) and thus conditionally. \\\n",
    "Another way to select a single column is by chaining the column's name to the DataFrame's name by a dot (like in method chaining)."
   ]
  },
  {
   "cell_type": "code",
   "execution_count": 3,
   "metadata": {},
   "outputs": [
    {
     "name": "stdout",
     "output_type": "stream",
     "text": [
      "          age  height\n",
      "person_a   20     183\n",
      "person_b   34     179\n",
      "person_c   56     172\n",
      "1.: 34 is the same as 34\n",
      "indexing by condition/list\n",
      "           age  height\n",
      "person_b   34     179\n",
      "person_c   56     172 \n",
      "corresponds to \n",
      "           age  height\n",
      "person_b   34     179\n",
      "person_c   56     172\n",
      "<class 'pandas.core.series.Series'>\n"
     ]
    }
   ],
   "source": [
    "my_df = pd.DataFrame(\n",
    "{'age': [20, 34, 56],\n",
    " 'height': [183, 179, 172]\n",
    "}, index=['person_a', 'person_b', 'person_c'])\n",
    "print(my_df)\n",
    "print('1.:', my_df.loc['person_b','age'], 'is the same as',  my_df.iloc[1,0])\n",
    "\n",
    "# age > 27\n",
    "print('indexing by condition/list\\n', my_df.loc[my_df.age >27], '\\ncorresponds to \\n', my_df.loc[[False, True, True]])\n",
    "print(type(my_df.age >27))"
   ]
  },
  {
   "cell_type": "markdown",
   "metadata": {},
   "source": [
    "### Useful Methods\n",
    "\n",
    "Pandas includes many useful methods that will help you get to know and manipulate a dataset. Some of these methods are shown in the following, others are introduced later when needed.\\\n",
    "More often than not, a dataset will contain missing values, i.e. cells in a data table contain no value. They will be depicted as ```NaN```, **N**ot **a** **N**umber."
   ]
  },
  {
   "cell_type": "code",
   "execution_count": 4,
   "metadata": {},
   "outputs": [
    {
     "data": {
      "text/html": [
       "<div>\n",
       "<style scoped>\n",
       "    .dataframe tbody tr th:only-of-type {\n",
       "        vertical-align: middle;\n",
       "    }\n",
       "\n",
       "    .dataframe tbody tr th {\n",
       "        vertical-align: top;\n",
       "    }\n",
       "\n",
       "    .dataframe thead th {\n",
       "        text-align: right;\n",
       "    }\n",
       "</style>\n",
       "<table border=\"1\" class=\"dataframe\">\n",
       "  <thead>\n",
       "    <tr style=\"text-align: right;\">\n",
       "      <th></th>\n",
       "      <th>age</th>\n",
       "      <th>height</th>\n",
       "    </tr>\n",
       "  </thead>\n",
       "  <tbody>\n",
       "    <tr>\n",
       "      <th>0</th>\n",
       "      <td>20.0</td>\n",
       "      <td>183.0</td>\n",
       "    </tr>\n",
       "    <tr>\n",
       "      <th>1</th>\n",
       "      <td>34.0</td>\n",
       "      <td>179.0</td>\n",
       "    </tr>\n",
       "    <tr>\n",
       "      <th>2</th>\n",
       "      <td>56.0</td>\n",
       "      <td>NaN</td>\n",
       "    </tr>\n",
       "    <tr>\n",
       "      <th>3</th>\n",
       "      <td>NaN</td>\n",
       "      <td>163.0</td>\n",
       "    </tr>\n",
       "    <tr>\n",
       "      <th>4</th>\n",
       "      <td>44.0</td>\n",
       "      <td>NaN</td>\n",
       "    </tr>\n",
       "  </tbody>\n",
       "</table>\n",
       "</div>"
      ],
      "text/plain": [
       "    age  height\n",
       "0  20.0   183.0\n",
       "1  34.0   179.0\n",
       "2  56.0     NaN\n",
       "3   NaN   163.0\n",
       "4  44.0     NaN"
      ]
     },
     "execution_count": 4,
     "metadata": {},
     "output_type": "execute_result"
    }
   ],
   "source": [
    "import numpy as np\n",
    "my_df =  pd.DataFrame(\n",
    "{'age': [20, 34, 56, np.nan, 44],\n",
    " 'height': [183, 179, np.nan,  163, np.nan]\n",
    "})\n",
    "my_df"
   ]
  },
  {
   "cell_type": "code",
   "execution_count": 5,
   "metadata": {},
   "outputs": [
    {
     "name": "stdout",
     "output_type": "stream",
     "text": [
      "0.\n",
      "     age  height\n",
      "0  20.0   183.0\n",
      "1  34.0   179.0\n",
      "2  56.0     NaN\n",
      "3   NaN   163.0\n",
      "4  44.0     NaN\n",
      "\n",
      "1.\n",
      "<class 'pandas.core.frame.DataFrame'>\n",
      "RangeIndex: 5 entries, 0 to 4\n",
      "Data columns (total 2 columns):\n",
      " #   Column  Non-Null Count  Dtype  \n",
      "---  ------  --------------  -----  \n",
      " 0   age     4 non-null      float64\n",
      " 1   height  3 non-null      float64\n",
      "dtypes: float64(2)\n",
      "memory usage: 208.0 bytes\n",
      "\n",
      "2.\n",
      "              age      height\n",
      "count   4.000000    3.000000\n",
      "mean   38.500000  175.000000\n",
      "std    15.264338   10.583005\n",
      "min    20.000000  163.000000\n",
      "25%    30.500000  171.000000\n",
      "50%    39.000000  179.000000\n",
      "75%    47.000000  181.000000\n",
      "max    56.000000  183.000000\n",
      "\n",
      "3.\n",
      " age       1\n",
      "height    2\n",
      "dtype: int64\n",
      "\n",
      "4.\n",
      " 38.5\n",
      "\n",
      " 5.\n",
      "     age  height\n",
      "0  20.0   183.0\n",
      "1  34.0   179.0\n",
      "2  56.0   175.0\n",
      "3  38.5   163.0\n",
      "4  44.0   175.0\n",
      "\n",
      "6.\n",
      "     age  height\n",
      "3  38.5   163.0\n",
      "2  56.0   175.0\n",
      "4  44.0   175.0\n",
      "1  34.0   179.0\n",
      "0  20.0   183.0\n"
     ]
    }
   ],
   "source": [
    "# view the first rows (view last rows with .tail())\n",
    "print('0.\\n', my_df.head(n=5))\n",
    "\n",
    "# general information\n",
    "print('\\n1.')\n",
    "my_df.info()\n",
    "\n",
    "# descriptive statistsics on dataset\n",
    "print('\\n2.\\n',my_df.describe())\n",
    "\n",
    "# number of missing values per column\n",
    "print('\\n3.\\n',my_df.isnull().sum())\n",
    "\n",
    "# single statistics are included as methods, also for single columns\n",
    "print('\\n4.\\n', my_df.age.mean())\n",
    "\n",
    "# fill missing values (e.g. with mean of column)\n",
    "print('\\n 5.\\n', my_df.fillna(my_df.mean()))    \n",
    "\n",
    "# note that you must assign this to my_df (or a different variable) in order to impute missing values permanently!\n",
    "my_df = my_df.fillna(my_df.mean())\n",
    "\n",
    "# sort values by column(s)\n",
    "print('\\n6.\\n', my_df.sort_values(by=['height']))    "
   ]
  },
  {
   "cell_type": "code",
   "execution_count": 6,
   "metadata": {},
   "outputs": [
    {
     "name": "stdout",
     "output_type": "stream",
     "text": [
      "7.\n",
      " Index(['age', 'height'], dtype='object')\n",
      "8.\n",
      "     age  height\n",
      "0  20.0   183.0\n",
      "1  34.0   179.0\n",
      "2  56.0   175.0\n",
      "3  38.5   163.0\n",
      "4  44.0   175.0\n",
      "9.\n",
      "    height\n",
      "0   183.0\n",
      "1   179.0\n",
      "2   175.0\n",
      "3   163.0\n",
      "4   175.0\n",
      "10.\n",
      "     age  height  weight\n",
      "0  20.0   183.0      83\n",
      "1  34.0   179.0      63\n",
      "2  56.0   175.0      98\n",
      "3  44.0   175.0      77\n",
      "11.\n",
      "              age    height    weight\n",
      "age     1.000000 -0.946549  0.481176\n",
      "height -0.946549  1.000000 -0.282126\n",
      "weight  0.481176 -0.282126  1.000000\n"
     ]
    },
    {
     "data": {
      "text/html": [
       "<div>\n",
       "<style scoped>\n",
       "    .dataframe tbody tr th:only-of-type {\n",
       "        vertical-align: middle;\n",
       "    }\n",
       "\n",
       "    .dataframe tbody tr th {\n",
       "        vertical-align: top;\n",
       "    }\n",
       "\n",
       "    .dataframe thead th {\n",
       "        text-align: right;\n",
       "    }\n",
       "</style>\n",
       "<table border=\"1\" class=\"dataframe\">\n",
       "  <thead>\n",
       "    <tr style=\"text-align: right;\">\n",
       "      <th></th>\n",
       "      <th>age</th>\n",
       "      <th>height</th>\n",
       "      <th>weight</th>\n",
       "      <th>bmi</th>\n",
       "    </tr>\n",
       "  </thead>\n",
       "  <tbody>\n",
       "    <tr>\n",
       "      <th>0</th>\n",
       "      <td>20.0</td>\n",
       "      <td>183.0</td>\n",
       "      <td>83</td>\n",
       "      <td>24.784258</td>\n",
       "    </tr>\n",
       "    <tr>\n",
       "      <th>1</th>\n",
       "      <td>34.0</td>\n",
       "      <td>179.0</td>\n",
       "      <td>63</td>\n",
       "      <td>19.662308</td>\n",
       "    </tr>\n",
       "    <tr>\n",
       "      <th>2</th>\n",
       "      <td>56.0</td>\n",
       "      <td>175.0</td>\n",
       "      <td>98</td>\n",
       "      <td>32.000000</td>\n",
       "    </tr>\n",
       "    <tr>\n",
       "      <th>3</th>\n",
       "      <td>44.0</td>\n",
       "      <td>175.0</td>\n",
       "      <td>77</td>\n",
       "      <td>25.142857</td>\n",
       "    </tr>\n",
       "  </tbody>\n",
       "</table>\n",
       "</div>"
      ],
      "text/plain": [
       "    age  height  weight        bmi\n",
       "0  20.0   183.0      83  24.784258\n",
       "1  34.0   179.0      63  19.662308\n",
       "2  56.0   175.0      98  32.000000\n",
       "3  44.0   175.0      77  25.142857"
      ]
     },
     "execution_count": 6,
     "metadata": {},
     "output_type": "execute_result"
    }
   ],
   "source": [
    "# get column names (useful for looping)\n",
    "print('7.\\n', my_df.columns)\n",
    "\n",
    "# drop rows containing missing values\n",
    "print('8.\\n', my_df.dropna()) \n",
    "\n",
    "# drop rows or columns\n",
    "print('9.\\n', my_df.drop(['age'], axis=1))\n",
    "\n",
    "# merge DataFrames (automatically on shared variable if not specified otherwise)\n",
    "df2 = pd.DataFrame(\n",
    "{'age': [20, 34, 56, np.nan, 44],\n",
    " 'weight': [83, 63, 98,  50, 77]\n",
    "})\n",
    "print('10.\\n', my_df.merge(df2))\n",
    "my_df = my_df.merge(df2)\n",
    "\n",
    "# correlation matrix\n",
    "print('11.\\n', my_df.corr())\n",
    "\n",
    "# adding new columns\n",
    "my_df = my_df.assign(bmi = my_df.weight/(my_df.height/100)**2)\n",
    "my_df"
   ]
  },
  {
   "cell_type": "markdown",
   "metadata": {},
   "source": [
    "As a last tool in this section, we will look at the ```get_dummies()``` function. Dummy variables are used to encode categorical variables with zero and one, for example in order to calculate the correlation with some other numerical variable."
   ]
  },
  {
   "cell_type": "code",
   "execution_count": 7,
   "metadata": {},
   "outputs": [
    {
     "name": "stdout",
     "output_type": "stream",
     "text": [
      "   black  blonde  red\n",
      "0      0       1    0\n",
      "1      1       0    0\n",
      "2      0       0    1\n",
      "3      0       0    1\n",
      "4      1       0    0\n"
     ]
    }
   ],
   "source": [
    "df3 = pd.DataFrame(\n",
    "{'hair': ['blonde', 'black', 'red', 'red', 'black']\n",
    "})\n",
    "\n",
    "print(pd.get_dummies(df3.hair))"
   ]
  },
  {
   "cell_type": "markdown",
   "metadata": {},
   "source": [
    "### Plots\n",
    "Methods for standard pot types are available. For a histogram of the data, just use ```.hist()```. Other types are available by chaining ```.plot.``` and the plot type. "
   ]
  },
  {
   "cell_type": "code",
   "execution_count": 8,
   "metadata": {},
   "outputs": [
    {
     "data": {
      "text/plain": [
       "array([[<AxesSubplot: title={'center': 'age'}>,\n",
       "        <AxesSubplot: title={'center': 'height'}>],\n",
       "       [<AxesSubplot: title={'center': 'weight'}>,\n",
       "        <AxesSubplot: title={'center': 'bmi'}>]], dtype=object)"
      ]
     },
     "execution_count": 8,
     "metadata": {},
     "output_type": "execute_result"
    },
    {
     "data": {
      "image/png": "[encoded data removed]",
      "text/plain": [
       "<Figure size 640x480 with 4 Axes>"
      ]
     },
     "metadata": {},
     "output_type": "display_data"
    }
   ],
   "source": [
    "# histogram\n",
    "my_df.hist()"
   ]
  },
  {
   "cell_type": "code",
   "execution_count": 9,
   "metadata": {},
   "outputs": [
    {
     "data": {
      "text/plain": [
       "<AxesSubplot: xlabel='age'>"
      ]
     },
     "execution_count": 9,
     "metadata": {},
     "output_type": "execute_result"
    },
    {
     "data": {
      "image/png": "[encoded data removed]",
      "text/plain": [
       "<Figure size 640x480 with 1 Axes>"
      ]
     },
     "metadata": {},
     "output_type": "display_data"
    }
   ],
   "source": [
    "# lineplot\n",
    "my_df.sort_values(by='age').plot.line(x='age', y='height')"
   ]
  },
  {
   "cell_type": "code",
   "execution_count": 10,
   "metadata": {},
   "outputs": [
    {
     "data": {
      "text/plain": [
       "<AxesSubplot: xlabel='age', ylabel='weight'>"
      ]
     },
     "execution_count": 10,
     "metadata": {},
     "output_type": "execute_result"
    },
    {
     "data": {
      "image/png": "[encoded data removed]",
      "text/plain": [
       "<Figure size 640x480 with 1 Axes>"
      ]
     },
     "metadata": {},
     "output_type": "display_data"
    }
   ],
   "source": [
    "# scatter plot\n",
    "my_df.plot.scatter(x='age', y='weight')"
   ]
  },
  {
   "cell_type": "markdown",
   "metadata": {},
   "source": [
    "### Importing and Exporting Data\n",
    "\n",
    "Your data may come to you in various file formats. Pandas enables you to import data from all common formats. The respective functions are usually called ```read_``` and ```to_``` followed by the respective file type."
   ]
  },
  {
   "cell_type": "markdown",
   "metadata": {},
   "source": [
    "To read a *.csv* for example, use the ```read_csv()``` function. Note that the file need not be stored locally on your computer."
   ]
  },
  {
   "cell_type": "code",
   "execution_count": 11,
   "metadata": {},
   "outputs": [
    {
     "name": "stdout",
     "output_type": "stream",
     "text": [
      "         Date          Open          High           Low         Close  \\\n",
      "0  2020-03-10  10724.980469  11032.290039  10423.900391  10475.490234   \n",
      "1  2020-03-11  10601.849609  10761.429688  10390.509766  10438.679688   \n",
      "2  2020-03-12   9863.990234   9932.559570   9139.120117   9161.129883   \n",
      "\n",
      "      Adj Close     Volume  \n",
      "0  10475.490234  267400800  \n",
      "1  10438.679688  216708900  \n",
      "2   9161.129883  390477000  \n",
      "           Date          Open          High           Low         Close  \\\n",
      "251  2021-03-08  14024.570313  14402.919922  13977.129883  14380.910156   \n",
      "252  2021-03-09  14345.509766  14475.650391  14309.349609  14437.940430   \n",
      "253  2021-03-10  14439.450195  14554.490234  14408.519531  14528.570313   \n",
      "\n",
      "        Adj Close     Volume  \n",
      "251  14380.910156  109071900  \n",
      "252  14437.940430  107881800  \n",
      "253  14528.570313          0  \n"
     ]
    }
   ],
   "source": [
    "# import from csv\n",
    "import pandas as pd\n",
    "dax = pd.read_csv('data/DAX.csv')\n",
    "print(dax.head(3))\n",
    "print(dax.tail(3))"
   ]
  },
  {
   "cell_type": "code",
   "execution_count": 12,
   "metadata": {
    "scrolled": true
   },
   "outputs": [],
   "source": [
    "# save data frame to excel\n",
    "dax.to_excel('DAX.xlsx')"
   ]
  },
  {
   "cell_type": "markdown",
   "metadata": {},
   "source": [
    " "
   ]
  },
  {
   "cell_type": "markdown",
   "metadata": {},
   "source": [
    "Lets do some exploration and manipulation of the historical data from the DAX index we just imported.\n",
    "$ $"
   ]
  },
  {
   "cell_type": "code",
   "execution_count": 13,
   "metadata": {},
   "outputs": [
    {
     "name": "stdout",
     "output_type": "stream",
     "text": [
      "shape: (254, 7)\n"
     ]
    }
   ],
   "source": [
    "print('shape:', dax.shape)"
   ]
  },
  {
   "cell_type": "code",
   "execution_count": 14,
   "metadata": {},
   "outputs": [
    {
     "name": "stdout",
     "output_type": "stream",
     "text": [
      "<class 'pandas.core.frame.DataFrame'>\n",
      "RangeIndex: 254 entries, 0 to 253\n",
      "Data columns (total 7 columns):\n",
      " #   Column     Non-Null Count  Dtype  \n",
      "---  ------     --------------  -----  \n",
      " 0   Date       254 non-null    object \n",
      " 1   Open       254 non-null    float64\n",
      " 2   High       254 non-null    float64\n",
      " 3   Low        254 non-null    float64\n",
      " 4   Close      254 non-null    float64\n",
      " 5   Adj Close  254 non-null    float64\n",
      " 6   Volume     254 non-null    int64  \n",
      "dtypes: float64(5), int64(1), object(1)\n",
      "memory usage: 14.0+ KB\n"
     ]
    }
   ],
   "source": [
    "dax.info()    # the 'Date' column is of dtype object "
   ]
  },
  {
   "cell_type": "code",
   "execution_count": 15,
   "metadata": {},
   "outputs": [
    {
     "name": "stdout",
     "output_type": "stream",
     "text": [
      "<class 'str'>\n"
     ]
    }
   ],
   "source": [
    "# check type of first entry in 'Date'\n",
    "print(type(dax.Date[0]))"
   ]
  },
  {
   "cell_type": "markdown",
   "metadata": {},
   "source": [
    "Transform it to *datetime*, a special type for dates in python."
   ]
  },
  {
   "cell_type": "code",
   "execution_count": 16,
   "metadata": {},
   "outputs": [
    {
     "name": "stdout",
     "output_type": "stream",
     "text": [
      "0   2020-03-10\n",
      "1   2020-03-11\n",
      "2   2020-03-12\n",
      "Name: Datetime, dtype: datetime64[ns]\n"
     ]
    }
   ],
   "source": [
    "dax['Datetime'] = pd.to_datetime(dax.Date)\n",
    "print(dax.Datetime.head(3))    # check dtype now"
   ]
  },
  {
   "cell_type": "code",
   "execution_count": 17,
   "metadata": {},
   "outputs": [
    {
     "name": "stdout",
     "output_type": "stream",
     "text": [
      "Index(['Date', 'Open', 'High', 'Low', 'Close', 'Adj Close', 'Volume',\n",
      "       'Datetime'],\n",
      "      dtype='object')\n"
     ]
    }
   ],
   "source": [
    "print(dax.columns)"
   ]
  },
  {
   "cell_type": "code",
   "execution_count": 18,
   "metadata": {},
   "outputs": [
    {
     "name": "stdout",
     "output_type": "stream",
     "text": [
      "of 254 rows:\n",
      "Date         254\n",
      "Open         254\n",
      "High         254\n",
      "Low          254\n",
      "Close        254\n",
      "Adj Close    254\n",
      "Volume       254\n",
      "Datetime     254\n",
      "dtype: int64\n",
      "\n",
      "makes a total of 0 missing values\n"
     ]
    }
   ],
   "source": [
    "print(f'of {len(dax)} rows:\\n{dax.notna().sum()}')\n",
    "print('')\n",
    "print(f'makes a total of {dax.isnull().sum().sum()} missing values')"
   ]
  },
  {
   "cell_type": "code",
   "execution_count": 19,
   "metadata": {},
   "outputs": [
    {
     "data": {
      "text/plain": [
       "<AxesSubplot: xlabel='Datetime'>"
      ]
     },
     "execution_count": 19,
     "metadata": {},
     "output_type": "execute_result"
    },
    {
     "data": {
      "image/png": "[encoded data removed]",
      "text/plain": [
       "<Figure size 640x480 with 1 Axes>"
      ]
     },
     "metadata": {},
     "output_type": "display_data"
    }
   ],
   "source": [
    "dax.plot(x='Datetime', y=['Open', 'Close'])    # using Datetime for plotting"
   ]
  },
  {
   "cell_type": "code",
   "execution_count": 20,
   "metadata": {},
   "outputs": [
    {
     "data": {
      "text/html": [
       "<div>\n",
       "<style scoped>\n",
       "    .dataframe tbody tr th:only-of-type {\n",
       "        vertical-align: middle;\n",
       "    }\n",
       "\n",
       "    .dataframe tbody tr th {\n",
       "        vertical-align: top;\n",
       "    }\n",
       "\n",
       "    .dataframe thead th {\n",
       "        text-align: right;\n",
       "    }\n",
       "</style>\n",
       "<table border=\"1\" class=\"dataframe\">\n",
       "  <thead>\n",
       "    <tr style=\"text-align: right;\">\n",
       "      <th></th>\n",
       "      <th>Open</th>\n",
       "      <th>High</th>\n",
       "      <th>Low</th>\n",
       "      <th>Close</th>\n",
       "      <th>Adj Close</th>\n",
       "      <th>Volume</th>\n",
       "    </tr>\n",
       "  </thead>\n",
       "  <tbody>\n",
       "    <tr>\n",
       "      <th>count</th>\n",
       "      <td>254.000000</td>\n",
       "      <td>254.000000</td>\n",
       "      <td>254.000000</td>\n",
       "      <td>254.000000</td>\n",
       "      <td>254.000000</td>\n",
       "      <td>2.540000e+02</td>\n",
       "    </tr>\n",
       "    <tr>\n",
       "      <th>mean</th>\n",
       "      <td>12488.785944</td>\n",
       "      <td>12595.082573</td>\n",
       "      <td>12373.931187</td>\n",
       "      <td>12489.142640</td>\n",
       "      <td>12489.142640</td>\n",
       "      <td>9.469272e+07</td>\n",
       "    </tr>\n",
       "    <tr>\n",
       "      <th>std</th>\n",
       "      <td>1324.154858</td>\n",
       "      <td>1295.824891</td>\n",
       "      <td>1365.892066</td>\n",
       "      <td>1331.191733</td>\n",
       "      <td>1331.191733</td>\n",
       "      <td>4.941752e+07</td>\n",
       "    </tr>\n",
       "    <tr>\n",
       "      <th>min</th>\n",
       "      <td>8495.940430</td>\n",
       "      <td>8668.480469</td>\n",
       "      <td>8255.650391</td>\n",
       "      <td>8441.709961</td>\n",
       "      <td>8441.709961</td>\n",
       "      <td>0.000000e+00</td>\n",
       "    </tr>\n",
       "    <tr>\n",
       "      <th>25%</th>\n",
       "      <td>11896.257813</td>\n",
       "      <td>12185.372315</td>\n",
       "      <td>11850.512451</td>\n",
       "      <td>12031.852783</td>\n",
       "      <td>12031.852783</td>\n",
       "      <td>6.409985e+07</td>\n",
       "    </tr>\n",
       "    <tr>\n",
       "      <th>50%</th>\n",
       "      <td>12847.964844</td>\n",
       "      <td>12945.129883</td>\n",
       "      <td>12764.479981</td>\n",
       "      <td>12851.169922</td>\n",
       "      <td>12851.169922</td>\n",
       "      <td>7.875350e+07</td>\n",
       "    </tr>\n",
       "    <tr>\n",
       "      <th>75%</th>\n",
       "      <td>13314.162353</td>\n",
       "      <td>13362.944824</td>\n",
       "      <td>13224.792481</td>\n",
       "      <td>13292.120362</td>\n",
       "      <td>13292.120362</td>\n",
       "      <td>1.085247e+08</td>\n",
       "    </tr>\n",
       "    <tr>\n",
       "      <th>max</th>\n",
       "      <td>14439.450195</td>\n",
       "      <td>14554.490234</td>\n",
       "      <td>14408.519531</td>\n",
       "      <td>14528.570313</td>\n",
       "      <td>14528.570313</td>\n",
       "      <td>3.904770e+08</td>\n",
       "    </tr>\n",
       "  </tbody>\n",
       "</table>\n",
       "</div>"
      ],
      "text/plain": [
       "               Open          High           Low         Close     Adj Close  \\\n",
       "count    254.000000    254.000000    254.000000    254.000000    254.000000   \n",
       "mean   12488.785944  12595.082573  12373.931187  12489.142640  12489.142640   \n",
       "std     1324.154858   1295.824891   1365.892066   1331.191733   1331.191733   \n",
       "min     8495.940430   8668.480469   8255.650391   8441.709961   8441.709961   \n",
       "25%    11896.257813  12185.372315  11850.512451  12031.852783  12031.852783   \n",
       "50%    12847.964844  12945.129883  12764.479981  12851.169922  12851.169922   \n",
       "75%    13314.162353  13362.944824  13224.792481  13292.120362  13292.120362   \n",
       "max    14439.450195  14554.490234  14408.519531  14528.570313  14528.570313   \n",
       "\n",
       "             Volume  \n",
       "count  2.540000e+02  \n",
       "mean   9.469272e+07  \n",
       "std    4.941752e+07  \n",
       "min    0.000000e+00  \n",
       "25%    6.409985e+07  \n",
       "50%    7.875350e+07  \n",
       "75%    1.085247e+08  \n",
       "max    3.904770e+08  "
      ]
     },
     "execution_count": 20,
     "metadata": {},
     "output_type": "execute_result"
    }
   ],
   "source": [
    "dax.describe()"
   ]
  },
  {
   "cell_type": "markdown",
   "metadata": {},
   "source": [
    "For statistics on one variable, index the result as usual. "
   ]
  },
  {
   "cell_type": "code",
   "execution_count": 21,
   "metadata": {},
   "outputs": [
    {
     "name": "stdout",
     "output_type": "stream",
     "text": [
      "12488.785944444882"
     ]
    },
    {
     "name": "stdout",
     "output_type": "stream",
     "text": [
      "\n"
     ]
    }
   ],
   "source": [
    "mean_open = dax.describe().loc['mean', 'Open']\n",
    "print(mean_open)"
   ]
  },
  {
   "cell_type": "markdown",
   "metadata": {},
   "source": [
    "Create a new column, with a flag if the closing price was higher than the opening price."
   ]
  },
  {
   "cell_type": "code",
   "execution_count": 22,
   "metadata": {},
   "outputs": [
    {
     "name": "stdout",
     "output_type": "stream",
     "text": [
      "         Date          Open          High           Low         Close  \\\n",
      "0  2020-03-10  10724.980469  11032.290039  10423.900391  10475.490234   \n",
      "1  2020-03-11  10601.849609  10761.429688  10390.509766  10438.679688   \n",
      "2  2020-03-12   9863.990234   9932.559570   9139.120117   9161.129883   \n",
      "\n",
      "      Adj Close     Volume   Datetime  positive  \n",
      "0  10475.490234  267400800 2020-03-10     False  \n",
      "1  10438.679688  216708900 2020-03-11     False  \n",
      "2   9161.129883  390477000 2020-03-12     False  \n",
      "\n",
      "fraction of positive days: 0.5\n",
      "\n",
      "check: \n",
      " False    127\n",
      "True     127\n",
      "Name: positive, dtype: int64\n"
     ]
    }
   ],
   "source": [
    "dax = dax.assign(positive = dax.Close > dax.Open)\n",
    "print(dax.head(3))\n",
    "\n",
    "print('')\n",
    "# fraction of days when this was the case\n",
    "print('fraction of positive days:', dax.positive.mean())\n",
    "print('\\ncheck: \\n', dax.positive.value_counts())"
   ]
  },
  {
   "cell_type": "markdown",
   "metadata": {},
   "source": [
    "Extract same fraction for every day in the week. Days are counted from 0 (Monday) to 6 (Sunday). "
   ]
  },
  {
   "cell_type": "code",
   "execution_count": 23,
   "metadata": {},
   "outputs": [
    {
     "name": "stdout",
     "output_type": "stream",
     "text": [
      "day 0:  0.58\n",
      "day 1:  0.49056603773584906\n",
      "day 2:  0.5283018867924528\n",
      "day 3:  0.44\n",
      "day 4:  0.4583333333333333\n",
      "day 5:  nan\n",
      "day 6:  nan\n"
     ]
    }
   ],
   "source": [
    "for i in range(7):\n",
    "    print(f'day {i}: ', dax[dax.Datetime.dt.dayofweek == i].positive.mean())\n"
   ]
  },
  {
   "cell_type": "markdown",
   "metadata": {},
   "source": [
    "A more straight forward way using built-in methods."
   ]
  },
  {
   "cell_type": "code",
   "execution_count": 24,
   "metadata": {},
   "outputs": [
    {
     "data": {
      "text/html": [
       "<div>\n",
       "<style scoped>\n",
       "    .dataframe tbody tr th:only-of-type {\n",
       "        vertical-align: middle;\n",
       "    }\n",
       "\n",
       "    .dataframe tbody tr th {\n",
       "        vertical-align: top;\n",
       "    }\n",
       "\n",
       "    .dataframe thead th {\n",
       "        text-align: right;\n",
       "    }\n",
       "</style>\n",
       "<table border=\"1\" class=\"dataframe\">\n",
       "  <thead>\n",
       "    <tr style=\"text-align: right;\">\n",
       "      <th></th>\n",
       "      <th>Open</th>\n",
       "      <th>High</th>\n",
       "      <th>Low</th>\n",
       "      <th>Close</th>\n",
       "      <th>Adj Close</th>\n",
       "      <th>Volume</th>\n",
       "      <th>positive</th>\n",
       "    </tr>\n",
       "    <tr>\n",
       "      <th>wday</th>\n",
       "      <th></th>\n",
       "      <th></th>\n",
       "      <th></th>\n",
       "      <th></th>\n",
       "      <th></th>\n",
       "      <th></th>\n",
       "      <th></th>\n",
       "    </tr>\n",
       "  </thead>\n",
       "  <tbody>\n",
       "    <tr>\n",
       "      <th>0</th>\n",
       "      <td>12510.387852</td>\n",
       "      <td>12640.970996</td>\n",
       "      <td>12400.179629</td>\n",
       "      <td>12546.658457</td>\n",
       "      <td>12546.658457</td>\n",
       "      <td>8.860451e+07</td>\n",
       "      <td>0.580000</td>\n",
       "    </tr>\n",
       "    <tr>\n",
       "      <th>1</th>\n",
       "      <td>12523.045843</td>\n",
       "      <td>12621.270969</td>\n",
       "      <td>12403.764906</td>\n",
       "      <td>12520.457547</td>\n",
       "      <td>12520.457547</td>\n",
       "      <td>9.450496e+07</td>\n",
       "      <td>0.490566</td>\n",
       "    </tr>\n",
       "    <tr>\n",
       "      <th>2</th>\n",
       "      <td>12522.144310</td>\n",
       "      <td>12628.387014</td>\n",
       "      <td>12414.166403</td>\n",
       "      <td>12527.621886</td>\n",
       "      <td>12527.621886</td>\n",
       "      <td>9.062774e+07</td>\n",
       "      <td>0.528302</td>\n",
       "    </tr>\n",
       "    <tr>\n",
       "      <th>3</th>\n",
       "      <td>12422.626602</td>\n",
       "      <td>12512.666523</td>\n",
       "      <td>12286.600566</td>\n",
       "      <td>12394.369766</td>\n",
       "      <td>12394.369766</td>\n",
       "      <td>9.770017e+07</td>\n",
       "      <td>0.440000</td>\n",
       "    </tr>\n",
       "    <tr>\n",
       "      <th>4</th>\n",
       "      <td>12460.538106</td>\n",
       "      <td>12567.442179</td>\n",
       "      <td>12360.190674</td>\n",
       "      <td>12450.887695</td>\n",
       "      <td>12450.887695</td>\n",
       "      <td>1.025976e+08</td>\n",
       "      <td>0.458333</td>\n",
       "    </tr>\n",
       "  </tbody>\n",
       "</table>\n",
       "</div>"
      ],
      "text/plain": [
       "              Open          High           Low         Close     Adj Close  \\\n",
       "wday                                                                         \n",
       "0     12510.387852  12640.970996  12400.179629  12546.658457  12546.658457   \n",
       "1     12523.045843  12621.270969  12403.764906  12520.457547  12520.457547   \n",
       "2     12522.144310  12628.387014  12414.166403  12527.621886  12527.621886   \n",
       "3     12422.626602  12512.666523  12286.600566  12394.369766  12394.369766   \n",
       "4     12460.538106  12567.442179  12360.190674  12450.887695  12450.887695   \n",
       "\n",
       "            Volume  positive  \n",
       "wday                          \n",
       "0     8.860451e+07  0.580000  \n",
       "1     9.450496e+07  0.490566  \n",
       "2     9.062774e+07  0.528302  \n",
       "3     9.770017e+07  0.440000  \n",
       "4     1.025976e+08  0.458333  "
      ]
     },
     "execution_count": 24,
     "metadata": {},
     "output_type": "execute_result"
    }
   ],
   "source": [
    "dax = dax.assign(wday = dax.Datetime.dt.dayofweek)\n",
    "dax.groupby(['wday']).mean(numeric_only=True)  # rows with nans are not calculated"
   ]
  },
  {
   "cell_type": "markdown",
   "metadata": {},
   "source": [
    "## Database and SQL\n",
    "\n",
    "Beside CSV (or Excel) files, another way to work with data is using databases. From there, data can be accessed using a query language. A very common one for relational databases is **SQL** (**S**tructured **Q**uery **L**anguage). It allows to extract specific records, i.e. records which meet special requirements, from a database using single commands.\n",
    "\n",
    "### Store in Database\n",
    "First, saving a data frame to a database is conveniently done with a built-in method in Pandas. However, to access a database, a connection must first be established. In the following, we will use the **sqlalchemy** package for working with a database and use a _SQLite_ database engine."
   ]
  },
  {
   "cell_type": "code",
   "execution_count": 25,
   "metadata": {
    "scrolled": true
   },
   "outputs": [],
   "source": [
    "from sqlalchemy import create_engine, Table"
   ]
  },
  {
   "cell_type": "code",
   "execution_count": 26,
   "metadata": {},
   "outputs": [],
   "source": [
    "# setup SQLite engine and connect\n",
    "path = 'data/dax_db.sqlite'\n",
    "engine = create_engine('sqlite:///' + path, echo=False)  # if 'echo = False', information is not printed \n",
    "conn = engine.connect()"
   ]
  },
  {
   "cell_type": "code",
   "execution_count": 27,
   "metadata": {},
   "outputs": [],
   "source": [
    "# save dataframe to database and close connection\n",
    "dax.to_sql('historical_data', con=conn, if_exists='replace')\n",
    "conn.close()       # close connection\n",
    "engine.dispose()   # dispose engine"
   ]
  },
  {
   "cell_type": "markdown",
   "metadata": {},
   "source": [
    "### Load from Database\n",
    "\n",
    "To import data from a database, at first a connection must be created the same way as before. Then, **SQL** statements are used to fetch the data and store it in a Pandas dataframe. "
   ]
  },
  {
   "cell_type": "code",
   "execution_count": 28,
   "metadata": {},
   "outputs": [],
   "source": [
    "from sqlalchemy import inspect, select, MetaData"
   ]
  },
  {
   "cell_type": "code",
   "execution_count": 29,
   "metadata": {},
   "outputs": [],
   "source": [
    "path = 'data/dax_db.sqlite'\n",
    "engine = create_engine('sqlite:///' + path, echo=False)  # if 'echo = True', information is printed in every step\n",
    "conn = engine.connect()"
   ]
  },
  {
   "cell_type": "code",
   "execution_count": 30,
   "metadata": {},
   "outputs": [
    {
     "name": "stdout",
     "output_type": "stream",
     "text": [
      "['historical_data']\n",
      "Col: index,\t type: BIGINT\n",
      "Col: Date,\t type: TEXT\n",
      "Col: Open,\t type: FLOAT\n",
      "Col: High,\t type: FLOAT\n",
      "Col: Low,\t type: FLOAT\n",
      "Col: Close,\t type: FLOAT\n",
      "Col: Adj Close,\t type: FLOAT\n",
      "Col: Volume,\t type: BIGINT\n",
      "Col: Datetime,\t type: DATETIME\n",
      "Col: positive,\t type: BOOLEAN\n",
      "Col: wday,\t type: BIGINT\n"
     ]
    }
   ],
   "source": [
    "# show tables and columns with inspector\n",
    "inspector = inspect(engine)\n",
    "tables = inspector.get_table_names()\n",
    "print(tables)\n",
    "\n",
    "# show columns\n",
    "for col in inspector.get_columns(tables[0]):\n",
    "    print(f\"Col: {col['name']},\\t type: {col['type']}\")"
   ]
  },
  {
   "cell_type": "markdown",
   "metadata": {},
   "source": [
    "Use a MetaData Object, which holds information about the database."
   ]
  },
  {
   "cell_type": "code",
   "execution_count": 31,
   "metadata": {},
   "outputs": [
    {
     "name": "stdout",
     "output_type": "stream",
     "text": [
      "dict_keys(['historical_data'])\n"
     ]
    }
   ],
   "source": [
    "m = MetaData()\n",
    "m.reflect(engine)\n",
    "print(m.tables.keys())"
   ]
  },
  {
   "cell_type": "code",
   "execution_count": 32,
   "metadata": {},
   "outputs": [
    {
     "name": "stdout",
     "output_type": "stream",
     "text": [
      "historical_data\n",
      "Col: index,\t, Type: BIGINT\n",
      "Col: Date,\t, Type: TEXT\n",
      "Col: Open,\t, Type: FLOAT\n",
      "Col: High,\t, Type: FLOAT\n",
      "Col: Low,\t, Type: FLOAT\n",
      "Col: Close,\t, Type: FLOAT\n",
      "Col: Adj Close,\t, Type: FLOAT\n",
      "Col: Volume,\t, Type: BIGINT\n",
      "Col: Datetime,\t, Type: DATETIME\n",
      "Col: positive,\t, Type: BOOLEAN\n",
      "Col: wday,\t, Type: BIGINT\n"
     ]
    }
   ],
   "source": [
    "for table in m.tables.values():\n",
    "    print(table.name)\n",
    "    for column in table.c:\n",
    "        print(f'Col: {column.name},\\t, Type: {column.type}')"
   ]
  },
  {
   "cell_type": "markdown",
   "metadata": {},
   "source": [
    "Knowing all components, a query can be sent to get the required data from the database to a dataframe.\n",
    "By convention, SQL is written in all CAPS, even though this is not required for the statement to work.\n",
    "\n",
    "To select all columns from a table, the wildcard character ```*``` is used. The syntax is ```SELECT <col1>, <col2> FROM <table>```."
   ]
  },
  {
   "cell_type": "code",
   "execution_count": 33,
   "metadata": {},
   "outputs": [
    {
     "data": {
      "text/html": [
       "<div>\n",
       "<style scoped>\n",
       "    .dataframe tbody tr th:only-of-type {\n",
       "        vertical-align: middle;\n",
       "    }\n",
       "\n",
       "    .dataframe tbody tr th {\n",
       "        vertical-align: top;\n",
       "    }\n",
       "\n",
       "    .dataframe thead th {\n",
       "        text-align: right;\n",
       "    }\n",
       "</style>\n",
       "<table border=\"1\" class=\"dataframe\">\n",
       "  <thead>\n",
       "    <tr style=\"text-align: right;\">\n",
       "      <th></th>\n",
       "      <th>index</th>\n",
       "      <th>Date</th>\n",
       "      <th>Open</th>\n",
       "      <th>High</th>\n",
       "      <th>Low</th>\n",
       "      <th>Close</th>\n",
       "      <th>Adj Close</th>\n",
       "      <th>Volume</th>\n",
       "      <th>Datetime</th>\n",
       "      <th>positive</th>\n",
       "      <th>wday</th>\n",
       "    </tr>\n",
       "  </thead>\n",
       "  <tbody>\n",
       "    <tr>\n",
       "      <th>0</th>\n",
       "      <td>0</td>\n",
       "      <td>2020-03-10</td>\n",
       "      <td>10724.980469</td>\n",
       "      <td>11032.290039</td>\n",
       "      <td>10423.900391</td>\n",
       "      <td>10475.490234</td>\n",
       "      <td>10475.490234</td>\n",
       "      <td>267400800</td>\n",
       "      <td>2020-03-10 00:00:00.000000</td>\n",
       "      <td>0</td>\n",
       "      <td>1</td>\n",
       "    </tr>\n",
       "    <tr>\n",
       "      <th>1</th>\n",
       "      <td>1</td>\n",
       "      <td>2020-03-11</td>\n",
       "      <td>10601.849609</td>\n",
       "      <td>10761.429688</td>\n",
       "      <td>10390.509766</td>\n",
       "      <td>10438.679688</td>\n",
       "      <td>10438.679688</td>\n",
       "      <td>216708900</td>\n",
       "      <td>2020-03-11 00:00:00.000000</td>\n",
       "      <td>0</td>\n",
       "      <td>2</td>\n",
       "    </tr>\n",
       "  </tbody>\n",
       "</table>\n",
       "</div>"
      ],
      "text/plain": [
       "   index        Date          Open          High           Low         Close  \\\n",
       "0      0  2020-03-10  10724.980469  11032.290039  10423.900391  10475.490234   \n",
       "1      1  2020-03-11  10601.849609  10761.429688  10390.509766  10438.679688   \n",
       "\n",
       "      Adj Close     Volume                    Datetime  positive  wday  \n",
       "0  10475.490234  267400800  2020-03-10 00:00:00.000000         0     1  \n",
       "1  10438.679688  216708900  2020-03-11 00:00:00.000000         0     2  "
      ]
     },
     "execution_count": 33,
     "metadata": {},
     "output_type": "execute_result"
    }
   ],
   "source": [
    "my_query = 'SELECT * FROM historical_data'\n",
    "\n",
    "results = conn.execute(my_query)\n",
    "df = pd.DataFrame(results.fetchall(), columns=results.keys())\n",
    "df.head(2)"
   ]
  },
  {
   "cell_type": "code",
   "execution_count": 34,
   "metadata": {},
   "outputs": [
    {
     "data": {
      "text/html": [
       "<div>\n",
       "<style scoped>\n",
       "    .dataframe tbody tr th:only-of-type {\n",
       "        vertical-align: middle;\n",
       "    }\n",
       "\n",
       "    .dataframe tbody tr th {\n",
       "        vertical-align: top;\n",
       "    }\n",
       "\n",
       "    .dataframe thead th {\n",
       "        text-align: right;\n",
       "    }\n",
       "</style>\n",
       "<table border=\"1\" class=\"dataframe\">\n",
       "  <thead>\n",
       "    <tr style=\"text-align: right;\">\n",
       "      <th></th>\n",
       "      <th>index</th>\n",
       "      <th>Date</th>\n",
       "      <th>Open</th>\n",
       "      <th>High</th>\n",
       "      <th>Low</th>\n",
       "      <th>Close</th>\n",
       "      <th>Adj Close</th>\n",
       "      <th>Volume</th>\n",
       "      <th>Datetime</th>\n",
       "      <th>positive</th>\n",
       "      <th>wday</th>\n",
       "    </tr>\n",
       "  </thead>\n",
       "  <tbody>\n",
       "    <tr>\n",
       "      <th>0</th>\n",
       "      <td>0</td>\n",
       "      <td>2020-03-10</td>\n",
       "      <td>10724.980469</td>\n",
       "      <td>11032.290039</td>\n",
       "      <td>10423.900391</td>\n",
       "      <td>10475.490234</td>\n",
       "      <td>10475.490234</td>\n",
       "      <td>267400800</td>\n",
       "      <td>2020-03-10 00:00:00.000000</td>\n",
       "      <td>0</td>\n",
       "      <td>1</td>\n",
       "    </tr>\n",
       "    <tr>\n",
       "      <th>1</th>\n",
       "      <td>1</td>\n",
       "      <td>2020-03-11</td>\n",
       "      <td>10601.849609</td>\n",
       "      <td>10761.429688</td>\n",
       "      <td>10390.509766</td>\n",
       "      <td>10438.679688</td>\n",
       "      <td>10438.679688</td>\n",
       "      <td>216708900</td>\n",
       "      <td>2020-03-11 00:00:00.000000</td>\n",
       "      <td>0</td>\n",
       "      <td>2</td>\n",
       "    </tr>\n",
       "  </tbody>\n",
       "</table>\n",
       "</div>"
      ],
      "text/plain": [
       "   index        Date          Open          High           Low         Close  \\\n",
       "0      0  2020-03-10  10724.980469  11032.290039  10423.900391  10475.490234   \n",
       "1      1  2020-03-11  10601.849609  10761.429688  10390.509766  10438.679688   \n",
       "\n",
       "      Adj Close     Volume                    Datetime  positive  wday  \n",
       "0  10475.490234  267400800  2020-03-10 00:00:00.000000         0     1  \n",
       "1  10438.679688  216708900  2020-03-11 00:00:00.000000         0     2  "
      ]
     },
     "execution_count": 34,
     "metadata": {},
     "output_type": "execute_result"
    }
   ],
   "source": [
    "# built-in function in Pandas\n",
    "df2 = pd.read_sql_query(my_query, conn)\n",
    "df2.head(2)"
   ]
  },
  {
   "cell_type": "markdown",
   "metadata": {},
   "source": [
    "For some sanity checks, not only regarding imports, the ```assert``` keyword will raise an error, if the trailing statement is not True. "
   ]
  },
  {
   "cell_type": "code",
   "execution_count": 35,
   "metadata": {},
   "outputs": [],
   "source": [
    "assert df.equals(df2)"
   ]
  },
  {
   "cell_type": "markdown",
   "metadata": {},
   "source": [
    "To select specific columns only, the can be listed, separated by a comma"
   ]
  },
  {
   "cell_type": "code",
   "execution_count": 36,
   "metadata": {},
   "outputs": [
    {
     "name": "stdout",
     "output_type": "stream",
     "text": [
      "           Open         Close\n",
      "0  10724.980469  10475.490234\n",
      "1  10601.849609  10438.679688\n",
      "\n",
      "only 10 rows: (10, 2)\n"
     ]
    }
   ],
   "source": [
    "my_query = 'SELECT open, close FROM historical_data'\n",
    "\n",
    "df = pd.read_sql_query(my_query, conn)\n",
    "print(df.head(2))\n",
    "\n",
    "print('')\n",
    "# select only first 10 entries with LIMIT\n",
    "my_query = 'SELECT open, close FROM historical_data LIMIT 10'\n",
    "\n",
    "df = pd.read_sql_query(my_query, conn)\n",
    "print('only 10 rows:', df.shape)"
   ]
  },
  {
   "cell_type": "markdown",
   "metadata": {},
   "source": [
    "The dataset can be filtered before being loaded into a dataframe. To pose restrictions on the import of records, use ```WHERE``` after the table name."
   ]
  },
  {
   "cell_type": "code",
   "execution_count": 37,
   "metadata": {},
   "outputs": [
    {
     "name": "stdout",
     "output_type": "stream",
     "text": [
      "only mondays:\n",
      "            Open         Close\n",
      "0   8728.480469   8742.250000\n",
      "1   8536.330078   8741.150391\n",
      "2   9725.879883   9815.969727\n",
      "3   9889.030273  10075.169922\n",
      "4  10704.349609  10675.900391\n"
     ]
    }
   ],
   "source": [
    "# select only first 10 entries with LIMIT\n",
    "my_query = 'SELECT open, close FROM historical_data WHERE wday=0'   # note that 'wday' does not need to be imported\n",
    "\n",
    "df = pd.read_sql_query(my_query, conn)\n",
    "print('only mondays:\\n', df.head())"
   ]
  },
  {
   "cell_type": "markdown",
   "metadata": {},
   "source": [
    "Only some of the other functions and commands will be shown, for a quick overview, see [this collection](https://www.sqltutorial.org/sql-cheat-sheet/)."
   ]
  },
  {
   "cell_type": "code",
   "execution_count": 38,
   "metadata": {},
   "outputs": [
    {
     "name": "stdout",
     "output_type": "stream",
     "text": [
      "number of monday records in dataset:\n",
      " [[50]]\n"
     ]
    }
   ],
   "source": [
    "# Count occurrence\n",
    "my_query = 'SELECT Count(*) FROM historical_data WHERE wday=0'   \n",
    "mon = pd.read_sql_query(my_query, conn).values\n",
    "print('number of monday records in dataset:\\n', mon)"
   ]
  },
  {
   "cell_type": "code",
   "execution_count": 39,
   "metadata": {},
   "outputs": [
    {
     "name": "stdout",
     "output_type": "stream",
     "text": [
      "distinct weekdays in dataset:\n",
      " [[1]\n",
      " [2]\n",
      " [3]\n",
      " [4]\n",
      " [0]]\n"
     ]
    }
   ],
   "source": [
    "# get distinct values\n",
    "my_query = 'SELECT DISTINCT(wday) FROM historical_data'   \n",
    "weekdays = pd.read_sql_query(my_query, conn).values\n",
    "print('distinct weekdays in dataset:\\n', weekdays)"
   ]
  },
  {
   "cell_type": "code",
   "execution_count": 40,
   "metadata": {},
   "outputs": [
    {
     "name": "stdout",
     "output_type": "stream",
     "text": [
      "   mean_open\n",
      "0   12488.79\n"
     ]
    }
   ],
   "source": [
    "# calculate mean\n",
    "my_query = 'SELECT ROUND(AVG(open),2) as mean_open FROM historical_data'   \n",
    "mean_open = pd.read_sql_query(my_query, conn)\n",
    "print(mean_open)"
   ]
  },
  {
   "cell_type": "code",
   "execution_count": 41,
   "metadata": {},
   "outputs": [
    {
     "name": "stdout",
     "output_type": "stream",
     "text": [
      "['opening_price', 'closing_price']\n"
     ]
    }
   ],
   "source": [
    "# import Variable under different name\n",
    "my_query = 'SELECT ROUND(open,2) as opening_price, ROUND(close, 2) as closing_price FROM historical_data'\n",
    "df = pd.read_sql_query(my_query, conn)\n",
    "print(df.columns.to_list())"
   ]
  },
  {
   "cell_type": "markdown",
   "metadata": {},
   "source": [
    "In order to automatically close connections after import or export, python offers the so-called *connection manager*. Usually, it is called with the keyword ```with``` and a variable after ```as```. The connection is only active in the indented block afterwards and is closed when leaving this body of the context manager."
   ]
  },
  {
   "cell_type": "code",
   "execution_count": 42,
   "metadata": {},
   "outputs": [
    {
     "name": "stdout",
     "output_type": "stream",
     "text": [
      "   index        Date          Open          High           Low         Close  \\\n",
      "0      0  2020-03-10  10724.980469  11032.290039  10423.900391  10475.490234   \n",
      "\n",
      "      Adj Close     Volume                    Datetime  positive  wday  \n",
      "0  10475.490234  267400800  2020-03-10 00:00:00.000000         0     1  \n"
     ]
    }
   ],
   "source": [
    "# engine is already created\n",
    "with engine.connect() as conn:\n",
    "    my_q = 'SELECT * FROM historical_data LIMIT 1'\n",
    "    df = pd.read_sql_query(my_q, conn)\n",
    "    \n",
    "print(df)"
   ]
  },
  {
   "cell_type": "code",
   "execution_count": 43,
   "metadata": {},
   "outputs": [
    {
     "data": {
      "text/plain": [
       "'/Users/uni/Desktop/Lehre/python_class/testbook'"
      ]
     },
     "execution_count": 43,
     "metadata": {},
     "output_type": "execute_result"
    }
   ],
   "source": [
    "import os\n",
    "os.getcwd()"
   ]
  },
  {
   "cell_type": "markdown",
   "metadata": {},
   "source": [
    "SQL offers a wide functionality, which is way beyond the scope of this course. To name just one more big advantage, not shown above, is that data from several related tables can be merged and loaded at once. "
   ]
  }
 ],
 "metadata": {
  "kernelspec": {
   "display_name": "Python 3 (ipykernel)",
   "language": "python",
   "name": "python3"
  },
  "language_info": {
   "codemirror_mode": {
    "name": "ipython",
    "version": 3
   },
   "file_extension": ".py",
   "mimetype": "text/x-python",
   "name": "python",
   "nbconvert_exporter": "python",
   "pygments_lexer": "ipython3",
   "version": "3.11.0"
  }
 },
 "nbformat": 4,
 "nbformat_minor": 4
}