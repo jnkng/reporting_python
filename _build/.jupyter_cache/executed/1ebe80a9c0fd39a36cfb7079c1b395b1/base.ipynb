{
 "cells": [
  {
   "cell_type": "code",
   "execution_count": 1,
   "metadata": {},
   "outputs": [
    {
     "data": {
      "text/plain": [
       "'3.9.7 (default, Oct 13 2021, 06:45:31) \\n[Clang 13.0.0 (clang-1300.0.29.3)]'"
      ]
     },
     "execution_count": 1,
     "metadata": {},
     "output_type": "execute_result"
    }
   ],
   "source": [
    "import sys\n",
    "sys.version"
   ]
  },
  {
   "cell_type": "code",
   "execution_count": 2,
   "metadata": {},
   "outputs": [
    {
     "data": {
      "text/plain": [
       "1000"
      ]
     },
     "execution_count": 2,
     "metadata": {},
     "output_type": "execute_result"
    }
   ],
   "source": [
    "999+1"
   ]
  },
  {
   "cell_type": "code",
   "execution_count": 3,
   "metadata": {},
   "outputs": [
    {
     "data": {
      "text/plain": [
       "4"
      ]
     },
     "execution_count": 3,
     "metadata": {},
     "output_type": "execute_result"
    }
   ],
   "source": [
    "# comments inside the cell, starting with '#' help readers to understand your code. \n",
    "# These lines are not run! \n",
    "2 * (2 + 2) - 4"
   ]
  },
  {
   "cell_type": "code",
   "execution_count": 4,
   "metadata": {},
   "outputs": [
    {
     "data": {
      "text/plain": [
       "4"
      ]
     },
     "execution_count": 4,
     "metadata": {},
     "output_type": "execute_result"
    }
   ],
   "source": [
    "999+1\n",
    "2 * (2 + 2) - 4"
   ]
  },
  {
   "cell_type": "code",
   "execution_count": 5,
   "metadata": {},
   "outputs": [
    {
     "name": "stdout",
     "output_type": "stream",
     "text": [
      "1000\n",
      "4\n"
     ]
    }
   ],
   "source": [
    "print(999+1)\n",
    "print(2 * (2 + 2) - 4)"
   ]
  },
  {
   "cell_type": "code",
   "execution_count": 6,
   "metadata": {},
   "outputs": [
    {
     "name": "stdout",
     "output_type": "stream",
     "text": [
      "Addition: 2\n",
      "Subtraction: 1\n",
      "Division: 0.5\n",
      "Multiplication: 2\n",
      "Modulus: 1\n",
      "Floor division: 2\n",
      "Exponent: 8\n",
      "Minimum: 2\n",
      "Maximum: 5\n"
     ]
    }
   ],
   "source": [
    "print('Addition:',       1 + 1 )      \n",
    "print('Subtraction:',    2 - 1 )      \n",
    "print('Division:',       1 / 2 )      \n",
    "print('Multiplication:', 2 * 1 )      \n",
    "print('Modulus:',        3 % 2 )      \n",
    "print('Floor division:', 5 // 2 )     \n",
    "print('Exponent:',       2 ** 3 )     \n",
    "print('Minimum:',       min(2,5))\n",
    "print('Maximum:',       max(2,5))"
   ]
  },
  {
   "cell_type": "code",
   "execution_count": 7,
   "metadata": {},
   "outputs": [
    {
     "name": "stdout",
     "output_type": "stream",
     "text": [
      "Help on built-in function print in module builtins:\n",
      "\n",
      "print(...)\n",
      "    print(value, ..., sep=' ', end='\\n', file=sys.stdout, flush=False)\n",
      "    \n",
      "    Prints the values to a stream, or to sys.stdout by default.\n",
      "    Optional keyword arguments:\n",
      "    file:  a file-like object (stream); defaults to the current sys.stdout.\n",
      "    sep:   string inserted between values, default a space.\n",
      "    end:   string appended after the last value, default a newline.\n",
      "    flush: whether to forcibly flush the stream.\n",
      "\n"
     ]
    }
   ],
   "source": [
    "help(print)"
   ]
  },
  {
   "cell_type": "code",
   "execution_count": 8,
   "metadata": {},
   "outputs": [
    {
     "name": "stdout",
     "output_type": "stream",
     "text": [
      "a: <class 'int'>\n",
      "b: <class 'float'>\n",
      "c: <class 'str'>\n",
      "d: <class 'bool'>\n"
     ]
    }
   ],
   "source": [
    "a = 1\n",
    "b = 1.0\n",
    "c = 'two'\n",
    "d = True\n",
    "print('a:', type(a))\n",
    "print('b:', type(b))\n",
    "print('c:', type(c))\n",
    "print('d:', type(d))"
   ]
  },
  {
   "cell_type": "code",
   "execution_count": 9,
   "metadata": {},
   "outputs": [
    {
     "name": "stdout",
     "output_type": "stream",
     "text": [
      "3\n",
      "12.5\n"
     ]
    }
   ],
   "source": [
    "print(int(3.14))\n",
    "\n",
    "f = \"2.5\"\n",
    "print(10 + float(f))"
   ]
  },
  {
   "cell_type": "code",
   "execution_count": 10,
   "metadata": {},
   "outputs": [
    {
     "name": "stdout",
     "output_type": "stream",
     "text": [
      "Who would have thought?????\n"
     ]
    }
   ],
   "source": [
    "a = 'Who would '\n",
    "b = 'have thought'\n",
    "c = '?'\n",
    "print(a+b+(c*5))"
   ]
  },
  {
   "cell_type": "code",
   "execution_count": 11,
   "metadata": {},
   "outputs": [
    {
     "name": "stdout",
     "output_type": "stream",
     "text": [
      "2.0\n",
      "2.0\n"
     ]
    }
   ],
   "source": [
    "import math\n",
    "print(math.sqrt(4))\n",
    "\n",
    "import numpy as np\n",
    "print(np.sqrt(4.0))"
   ]
  },
  {
   "cell_type": "code",
   "execution_count": 12,
   "metadata": {},
   "outputs": [
    {
     "name": "stdout",
     "output_type": "stream",
     "text": [
      "2.0\n"
     ]
    }
   ],
   "source": [
    "from math import sqrt\n",
    "print(sqrt(4))"
   ]
  },
  {
   "cell_type": "code",
   "execution_count": 13,
   "metadata": {
    "scrolled": true
   },
   "outputs": [],
   "source": [
    "#print(cos(0))    # would raise error as cos() function is not imported"
   ]
  },
  {
   "cell_type": "code",
   "execution_count": 14,
   "metadata": {},
   "outputs": [
    {
     "data": {
      "text/plain": [
       "1.0"
      ]
     },
     "execution_count": 14,
     "metadata": {},
     "output_type": "execute_result"
    }
   ],
   "source": [
    "from math import *\n",
    "cos(0)"
   ]
  },
  {
   "cell_type": "code",
   "execution_count": 15,
   "metadata": {},
   "outputs": [
    {
     "name": "stdout",
     "output_type": "stream",
     "text": [
      "25\n",
      "twenty five\n"
     ]
    }
   ],
   "source": [
    "var_1 = 5 ** 2\n",
    "print(var_1)\n",
    "var_2 = 'twenty five'\n",
    "print(var_2)"
   ]
  },
  {
   "cell_type": "code",
   "execution_count": 16,
   "metadata": {},
   "outputs": [
    {
     "data": {
      "text/plain": [
       "dict"
      ]
     },
     "execution_count": 16,
     "metadata": {},
     "output_type": "execute_result"
    }
   ],
   "source": [
    "list\n",
    "int\n",
    "dict"
   ]
  },
  {
   "cell_type": "code",
   "execution_count": 17,
   "metadata": {},
   "outputs": [
    {
     "name": "stdout",
     "output_type": "stream",
     "text": [
      "True False\n",
      "False\n",
      "True\n"
     ]
    }
   ],
   "source": [
    "a = (1<2)\n",
    "b = (0 == 1)\n",
    "print(a, b)\n",
    "print(a and b)\n",
    "print(a or b)"
   ]
  },
  {
   "cell_type": "code",
   "execution_count": 18,
   "metadata": {},
   "outputs": [
    {
     "name": "stdout",
     "output_type": "stream",
     "text": [
      "a is positive\n"
     ]
    }
   ],
   "source": [
    "a = 4\n",
    "\n",
    "if a < 0:\n",
    "    print('a is negative')\n",
    "elif a > 0:\n",
    "    print('a is positive')\n",
    "else:\n",
    "    print('a equals zero')"
   ]
  },
  {
   "cell_type": "code",
   "execution_count": 19,
   "metadata": {},
   "outputs": [
    {
     "name": "stdout",
     "output_type": "stream",
     "text": [
      "0. the length of my list is 5 , the length of the word \"list\" 4\n",
      "1. first element from my_list: 1\n",
      "2. second element of my_tuple: b\n",
      "3. changing the third element in my_list: [1, 2, 3, 4, 5]\n",
      "4. first letter in my_str: e\n",
      "5. last element of my_tuple: c\n",
      "6. from element 3 to end of my_list: [3, 4, 5]\n",
      "7. reverse order of my_list and slice: [4, 3, 2, 1]\n",
      "8. add new element: [1, 2, 3, 4]\n"
     ]
    }
   ],
   "source": [
    "my_list = [1,2,0,4,5]\n",
    "my_tuple = ('a', 'b', 'c')\n",
    "\n",
    "# length of object:\n",
    "print('0. the length of my list is', len(my_list),', the length of the word \"list\"', len('list'))\n",
    "\n",
    "# access first element\n",
    "print('1. first element from my_list:', my_list[0])\n",
    "\n",
    "# print variables more conveniently\n",
    "print(f'2. second element of my_tuple: {my_tuple[1]}')\n",
    "\n",
    "# to change an element\n",
    "my_list[2] = 3\n",
    "print(f'3. changing the third element in my_list: {my_list}')\n",
    "\n",
    "# note that strings are lists of characters:\n",
    "my_str = 'expression'\n",
    "print(f'4. first letter in my_str: {my_str[0]}')\n",
    "\n",
    "# last element \n",
    "print(f'5. last element of my_tuple: {my_tuple[-1]}')\n",
    "\n",
    "# slicing\n",
    "print(f'6. from element 3 to end of my_list: {my_list[2:]}')\n",
    "\n",
    "# reverse order\n",
    "print(f'7. reverse order of my_list and slice: {my_list[3::-1]}')\n",
    "\n",
    "# delete element\n",
    "del(my_list[4])\n",
    "print(f'8. add new element: {my_list}')"
   ]
  },
  {
   "cell_type": "code",
   "execution_count": 20,
   "metadata": {},
   "outputs": [
    {
     "name": "stdout",
     "output_type": "stream",
     "text": [
      "2 is an element of my_list\n"
     ]
    }
   ],
   "source": [
    "my_list = [1,2,3,4]\n",
    "\n",
    "if 2 in my_list:\n",
    "    print('2 is an element of my_list')\n",
    "    \n",
    "if 10 in my_list:\n",
    "    print('10 is an element of my_list')"
   ]
  },
  {
   "cell_type": "code",
   "execution_count": 21,
   "metadata": {},
   "outputs": [
    {
     "name": "stdout",
     "output_type": "stream",
     "text": [
      "(1, 2, 3, 4)\n",
      "['p', 'y', 't', 'h', 'o', 'n']\n"
     ]
    }
   ],
   "source": [
    "print(tuple(my_list))\n",
    "print(list('python'))"
   ]
  },
  {
   "cell_type": "code",
   "execution_count": 22,
   "metadata": {},
   "outputs": [
    {
     "name": "stdout",
     "output_type": "stream",
     "text": [
      "1\n",
      "{'start': 1, 'end': 20, 'mid': 10}\n"
     ]
    }
   ],
   "source": [
    "my_dict = {'start': 1, 'end': 20}\n",
    "print(my_dict['start'])\n",
    "\n",
    "# new k-v pair\n",
    "my_dict['mid'] = 10\n",
    "print(my_dict)"
   ]
  },
  {
   "cell_type": "code",
   "execution_count": 23,
   "metadata": {},
   "outputs": [
    {
     "name": "stdout",
     "output_type": "stream",
     "text": [
      "dict_keys(['start', 'end', 'mid']) dict_values([1, 20, 10])\n"
     ]
    }
   ],
   "source": [
    "print(my_dict.keys(), my_dict.values())"
   ]
  },
  {
   "cell_type": "code",
   "execution_count": 24,
   "metadata": {},
   "outputs": [
    {
     "name": "stdout",
     "output_type": "stream",
     "text": [
      "one 2 three\n",
      "[1, 2, 3] 4\n"
     ]
    }
   ],
   "source": [
    "my_tuple = ('one', 2, 'three')\n",
    "a, b, c = my_tuple\n",
    "print(a, b, c)\n",
    "\n",
    "# the asterisk assigns all surplus values on the right hand side of the equal sign to a\n",
    "*a, b = 1, 2, 3, 4\n",
    "print(a ,b)"
   ]
  },
  {
   "cell_type": "code",
   "execution_count": 25,
   "metadata": {},
   "outputs": [
    {
     "name": "stdout",
     "output_type": "stream",
     "text": [
      "0 squared is 0\n",
      "1 squared is 1\n",
      "2 squared is 4\n",
      "3 squared is 9\n",
      "4 squared is 16\n",
      "\n",
      "one\n",
      "2\n",
      "three\n",
      "\n",
      "one at position 0\n",
      "2 at position 1\n",
      "three at position 2\n",
      "\n",
      "key: start, value: 1 \n",
      "key: end, value: 20 \n",
      "key: mid, value: 10 \n"
     ]
    }
   ],
   "source": [
    "# range object for iterating numbers\n",
    "for i in range(5):\n",
    "    print(f'{i} squared is {i**2}')  \n",
    "print('')\n",
    "\n",
    "# iterate over a tuple/list\n",
    "for tuple_element in my_tuple:\n",
    "    print(tuple_element)\n",
    "print('')\n",
    "# iterate over tuple/list element and index\n",
    "for i, tup_el in enumerate(my_tuple):\n",
    "    print(f'{tup_el} at position {i}')\n",
    "print('')  \n",
    "# iterate over keys and values in dict\n",
    "for k,v in my_dict.items():\n",
    "    print(f'key: {k}, value: {v} ')"
   ]
  },
  {
   "cell_type": "code",
   "execution_count": 26,
   "metadata": {},
   "outputs": [
    {
     "name": "stdout",
     "output_type": "stream",
     "text": [
      "0\n",
      "1\n",
      "2\n",
      "3\n",
      "5 is greater zero\n",
      "4 is greater zero\n",
      "3 is greater zero\n",
      "2 is greater zero\n",
      "1 is greater zero\n"
     ]
    }
   ],
   "source": [
    "a = 0\n",
    "while a < 4:\n",
    "    print(a)\n",
    "    # use combined operator a += 1, equal to a = a + 1\n",
    "    a += 1      # when not including this line, a will forever stay a = 0 and the loop will not terminate by itself\n",
    "                # What will be printed in this case?\n",
    "    \n",
    "var = 5\n",
    "check = True\n",
    "while check:\n",
    "    print(f'{var} is greater zero')\n",
    "    var -= 1 \n",
    "    check = var > 0\n"
   ]
  },
  {
   "cell_type": "code",
   "execution_count": 27,
   "metadata": {},
   "outputs": [
    {
     "name": "stdout",
     "output_type": "stream",
     "text": [
      "list_1: [0, 1, 2, 3, 4]\n",
      "list_2: [[0, 0, 0, 0, 0], [0, 1, 2, 3, 4]]\n"
     ]
    }
   ],
   "source": [
    "list_1 = [i for i in range(5)]\n",
    "print('list_1:', list_1)\n",
    "\n",
    "# a nested expression\n",
    "list_2 = [[i*j for i in list_1] for j in [0,1]]\n",
    "print('list_2:', list_2)"
   ]
  },
  {
   "cell_type": "code",
   "execution_count": 28,
   "metadata": {},
   "outputs": [
    {
     "name": "stdout",
     "output_type": "stream",
     "text": [
      "0 is even\n",
      "2 is even\n",
      "4 is even\n",
      "6 is even\n",
      "8 is even\n"
     ]
    }
   ],
   "source": [
    "for i in range(100):\n",
    "    if i % 2 != 0:    # % is the modulo operator\n",
    "        continue      # continue in the if-statement skips printing for odd i\n",
    "    print(f'{i} is even')\n",
    "    if i == 8:        # when i equals 8, the loop terminates (the print statement for i == 8 is executed before)\n",
    "        break"
   ]
  },
  {
   "cell_type": "code",
   "execution_count": 29,
   "metadata": {},
   "outputs": [
    {
     "name": "stdout",
     "output_type": "stream",
     "text": [
      "Greetings\n",
      "hi\n"
     ]
    }
   ],
   "source": [
    "def my_print(word):\n",
    "    print(word)\n",
    "    \n",
    "my_print('Greetings')\n",
    "\n",
    "def print_hi():\n",
    "    print('hi')\n",
    "    \n",
    "print_hi()"
   ]
  },
  {
   "cell_type": "code",
   "execution_count": 30,
   "metadata": {},
   "outputs": [
    {
     "name": "stdout",
     "output_type": "stream",
     "text": [
      "4.0\n",
      "4.0\n"
     ]
    }
   ],
   "source": [
    "import numpy as np\n",
    "\n",
    "data = [1,2,3,4,5,6,7]\n",
    "print(np.mean(data))\n",
    "\n",
    "def my_mean(arg_list):\n",
    "    sum_ = 0\n",
    "    length_count = 0\n",
    "    for el in arg_list:\n",
    "        sum_ += el\n",
    "        length_count += 1\n",
    "    return sum_/length_count\n",
    "\n",
    "print(my_mean(data))"
   ]
  },
  {
   "cell_type": "code",
   "execution_count": 31,
   "metadata": {},
   "outputs": [],
   "source": [
    "def return_list(n):\n",
    "    return [i for i in range(n)]\n",
    "\n",
    "def yield_list(n):    # function mimics range()\n",
    "    i = 0\n",
    "    while i < n:\n",
    "        yield i\n",
    "        i += 1"
   ]
  },
  {
   "cell_type": "code",
   "execution_count": 32,
   "metadata": {},
   "outputs": [
    {
     "data": {
      "text/plain": [
       "[0, 1, 2, 3, 4]"
      ]
     },
     "execution_count": 32,
     "metadata": {},
     "output_type": "execute_result"
    }
   ],
   "source": [
    "return_list(5)"
   ]
  },
  {
   "cell_type": "code",
   "execution_count": 33,
   "metadata": {},
   "outputs": [
    {
     "data": {
      "text/plain": [
       "<generator object yield_list at 0x1108dbc80>"
      ]
     },
     "execution_count": 33,
     "metadata": {},
     "output_type": "execute_result"
    }
   ],
   "source": [
    "yield_list(5)   # creates a generator object"
   ]
  },
  {
   "cell_type": "code",
   "execution_count": 34,
   "metadata": {},
   "outputs": [],
   "source": [
    "gen = yield_list(5)    # assign generator object to variable"
   ]
  },
  {
   "cell_type": "code",
   "execution_count": 35,
   "metadata": {},
   "outputs": [
    {
     "name": "stdout",
     "output_type": "stream",
     "text": [
      "0\n",
      "1\n",
      "2\n"
     ]
    }
   ],
   "source": [
    "print(next(gen))    # call next() to jump to next 'yield'\n",
    "print(next(gen))    # only one value in memory\n",
    "print(next(gen)) # another next() throws error because the generator is depleted after 4!"
   ]
  },
  {
   "cell_type": "code",
   "execution_count": 36,
   "metadata": {},
   "outputs": [
    {
     "name": "stdout",
     "output_type": "stream",
     "text": [
      "3\n",
      "4\n"
     ]
    }
   ],
   "source": [
    "for i in gen:\n",
    "    print(i)"
   ]
  },
  {
   "cell_type": "code",
   "execution_count": 37,
   "metadata": {},
   "outputs": [
    {
     "name": "stdout",
     "output_type": "stream",
     "text": [
      "5.0\n",
      "0.2\n",
      "5.0\n"
     ]
    }
   ],
   "source": [
    "def divide(numer, denom):\n",
    "    return numer / denom\n",
    "\n",
    "print(divide(10,2))\n",
    "print(divide(2,10))\n",
    "\n",
    "print(divide(denom=2, numer=10))"
   ]
  },
  {
   "cell_type": "code",
   "execution_count": 38,
   "metadata": {},
   "outputs": [
    {
     "name": "stdout",
     "output_type": "stream",
     "text": [
      "10.0\n"
     ]
    }
   ],
   "source": [
    "def divide(numer, denom = 1):\n",
    "    return numer / denom\n",
    "print(divide(numer=10))"
   ]
  },
  {
   "cell_type": "code",
   "execution_count": 39,
   "metadata": {},
   "outputs": [
    {
     "name": "stdout",
     "output_type": "stream",
     "text": [
      "120\n",
      "120\n"
     ]
    }
   ],
   "source": [
    "import math\n",
    "\n",
    "def my_factorial(n):\n",
    "    if n == 0:\n",
    "        return 1\n",
    "    else:\n",
    "        return n * my_factorial(n-1)\n",
    "    \n",
    "print(my_factorial(5))\n",
    "print(math.factorial(5))"
   ]
  },
  {
   "cell_type": "code",
   "execution_count": 40,
   "metadata": {},
   "outputs": [
    {
     "name": "stdout",
     "output_type": "stream",
     "text": [
      "calling f_1, x = 7\n",
      "after calling f_2: x = 7\n",
      "calling f_3: x = 10\n",
      "after calling f_3: x = 7\n",
      "after calling f_4: x = 10\n"
     ]
    }
   ],
   "source": [
    "x = 7\n",
    "def f_1():\n",
    "    print('calling f_1, x =',x)\n",
    "\n",
    "f_1()\n",
    "    \n",
    "def f_2():\n",
    "    x = 10\n",
    "\n",
    "f_2()\n",
    "print('after calling f_2: x =', x)\n",
    "    \n",
    "def f_3():\n",
    "    x = 10\n",
    "    print('calling f_3: x =', x)\n",
    "    \n",
    "f_3()\n",
    "print('after calling f_3: x =', x)\n",
    "    \n",
    "def f_4():\n",
    "    global x\n",
    "    x = 10\n",
    "\n",
    "f_4()\n",
    "print('after calling f_4: x =', x)"
   ]
  },
  {
   "cell_type": "code",
   "execution_count": 41,
   "metadata": {},
   "outputs": [
    {
     "name": "stdout",
     "output_type": "stream",
     "text": [
      "0.6065306597126334\n",
      "0.6065306597126334\n",
      "0.6065306597126334\n"
     ]
    }
   ],
   "source": [
    "from math import exp\n",
    "\n",
    "# regular way\n",
    "def reg_func(x):\n",
    "    return 1/exp(x)\n",
    "print(reg_func(.5))\n",
    "\n",
    "#lambda function with identifier \n",
    "l_func = lambda x: 1/exp(x)        # this way, it is hard to find the origin of a function if it is called elewhere\n",
    "print(l_func(.5))                  # in your code. It is not recommended, yet still possible.\n",
    "\n",
    "# for single use, no identifier\n",
    "print((lambda x: 1/exp(x))(.5) )"
   ]
  },
  {
   "cell_type": "code",
   "execution_count": 42,
   "metadata": {},
   "outputs": [
    {
     "name": "stdout",
     "output_type": "stream",
     "text": [
      "[1.0, 0.36787944117144233, 0.1353352832366127, 0.049787068367863944, 0.018315638888734182]\n",
      "[1.0, 0.36787944117144233, 0.1353352832366127, 0.049787068367863944, 0.018315638888734182]\n"
     ]
    }
   ],
   "source": [
    "# with list comprehension\n",
    "l_list = [(lambda x: 1/exp(x))(i) for i in list_1]\n",
    "print(l_list)\n",
    "\n",
    "# always consider doing it without a lambda function\n",
    "print([(1/exp(i)) for i in list_1])"
   ]
  },
  {
   "cell_type": "code",
   "execution_count": 43,
   "metadata": {},
   "outputs": [
    {
     "name": "stdout",
     "output_type": "stream",
     "text": [
      "Uni: Passau\n",
      "Chris' subject: biology\n",
      "class name: Student\n",
      "Tina's subject: biology\n"
     ]
    }
   ],
   "source": [
    "# define class Student\n",
    "\n",
    "class Student():\n",
    "    uni = 'Passau'\n",
    "    subject = 'math'\n",
    "    grades = [1.3, 1.7, 3.0]\n",
    "        \n",
    "# instantiate object  \n",
    "Chris = Student\n",
    "Tina = Student\n",
    "\n",
    "# get uni of student Chris\n",
    "print('Uni:', Chris.uni)\n",
    "\n",
    "# student changes subject\n",
    "Chris.subject = 'biology'\n",
    "\n",
    "print(\"Chris' subject:\", Chris.subject)\n",
    "print('class name:', Chris.__name__)\n",
    "\n",
    "print(\"Tina's subject:\", Tina.subject)"
   ]
  },
  {
   "cell_type": "code",
   "execution_count": 44,
   "metadata": {},
   "outputs": [
    {
     "name": "stdout",
     "output_type": "stream",
     "text": [
      "Chris: engineering\n",
      "Tina: Physics\n",
      "2.0\n",
      "2.75\n"
     ]
    }
   ],
   "source": [
    "import numpy as np\n",
    "\n",
    "class Student():\n",
    "    def __init__(self, uni, subject, grades):\n",
    "        self.uni = uni\n",
    "        self.subject = subject\n",
    "        self.grades = grades\n",
    "    \n",
    "    #define method to show average grade\n",
    "    def avg_grade(self):\n",
    "        return np.mean(self.grades)\n",
    "     \n",
    "Chris = Student('Passau', 'Art', [1.3, 1.7, 3.0])\n",
    "Tina = Student('Regensburg', 'Physics', [1.0, 2.0])\n",
    "\n",
    "Chris.subject = 'engineering'\n",
    "print(f'Chris: {Chris.subject}')\n",
    "print(f'Tina: {Tina.subject}')\n",
    "\n",
    "print(Chris.avg_grade())\n",
    "\n",
    "# lists have a built-in method append, which adds items given as arguments to the end of the list (see help(list))\n",
    "Chris.grades.append(5.0)\n",
    "print(Chris.avg_grade())"
   ]
  },
  {
   "cell_type": "code",
   "execution_count": 45,
   "metadata": {},
   "outputs": [
    {
     "name": "stdout",
     "output_type": "stream",
     "text": [
      " Uni and address: Passau, Innstr. 27\n",
      "<class '__main__.LocalResident'>\n"
     ]
    }
   ],
   "source": [
    "class LocalResident(Student):\n",
    "    def __init__(self, uni, subject, grades, address):\n",
    "        super().__init__(uni, subject, grades)\n",
    "        self.address = address\n",
    "        \n",
    "Chris = LocalResident('Passau', 'Art', [1.3, 1.7, 3.0, 5.0], 'Innstr. 27')\n",
    "\n",
    "print(f\" Uni and address: {Chris.uni}, {Chris.address}\")\n",
    "print(type(Chris))"
   ]
  },
  {
   "cell_type": "code",
   "execution_count": 46,
   "metadata": {},
   "outputs": [
    {
     "name": "stdout",
     "output_type": "stream",
     "text": [
      "sin(pi) =  1.2246467991473532e-16\n"
     ]
    }
   ],
   "source": [
    "import numpy as np\n",
    "\n",
    "# mathematical functions:\n",
    "print('sin(pi) = ',np.sin(np.pi)) \n",
    "# note that the sine of the number pi is defined as zero, yet python returns a small number > 0"
   ]
  },
  {
   "cell_type": "code",
   "execution_count": 47,
   "metadata": {},
   "outputs": [
    {
     "name": "stdout",
     "output_type": "stream",
     "text": [
      "0. dimension of array a (5,)\n",
      "1. sum of array a: 15\n",
      "2. variance of array a: 2.0\n",
      "3. one plus array b: [1 1 1 1 2]\n",
      "4. element-wise multiplication of arrays: [0 0 0 0 5]\n",
      "5. scalar by dot product: 5\n",
      "5.1 vector multiplication: \n",
      " [[0 0 0 0 1]\n",
      " [0 0 0 0 2]\n",
      " [0 0 0 0 3]\n",
      " [0 0 0 0 4]\n",
      " [0 0 0 0 5]]\n",
      "5.2 transposed array: (5,) transp. matrix: (5, 1)\n",
      "6. array:     reshaped:           same result:\n",
      " [[0. 0. 0.]\n",
      " [0. 0. 0.]] [0. 0. 0. 0. 0. 0.] [0. 0. 0. 0. 0. 0.]\n"
     ]
    }
   ],
   "source": [
    "arr_a = np.array([1,2,3,4,5])\n",
    "arr_b = np.array([0,0,0,0,1])\n",
    "\n",
    "#dimensions of an array\n",
    "print('0. dimension of array a', arr_a.shape)\n",
    "\n",
    "# operations can be performed by methods and methods chaining on these array objects\n",
    "print('1. sum of array a:',arr_a.sum())\n",
    "print('2. variance of array a:', arr_a.var())\n",
    "\n",
    "# broadcasting a scalar to an array\n",
    "print('3. one plus array b:', 1 + arr_b)\n",
    "print('4. element-wise multiplication of arrays:', arr_a * arr_b)\n",
    "\n",
    "# vector multiplication / dot product\n",
    "print('5. scalar by dot product:', arr_a.transpose().dot(arr_b))   # this should not yield a scalar for vectors!\n",
    "\n",
    "# for real vectors, the inner dimension of the product is crucial -> (5x5)\n",
    "print('5.1 vector multiplication: \\n', np.matrix(arr_a).transpose().dot(np.matrix(arr_b)))\n",
    "\n",
    "# shapes differ for arrays and matrices\n",
    "print('5.2 transposed array:', arr_a.transpose().shape, 'transp. matrix:', np.matrix(arr_a).transpose().shape )\n",
    "\n",
    "# to reshape an array, use the reshape method\n",
    "zero_arr = np.zeros(shape=(2,3))\n",
    "print('6. array:     reshaped:           same result:\\n', \n",
    "      zero_arr, zero_arr.reshape(-1,), zero_arr.reshape(6,))  \n",
    "# -1 is for \"unknown\" dim (like a wildcard)"
   ]
  },
  {
   "cell_type": "code",
   "execution_count": 48,
   "metadata": {},
   "outputs": [
    {
     "name": "stdout",
     "output_type": "stream",
     "text": [
      "[[2.32996696 0.22826215 0.43001963 0.43680322 0.42195302]\n",
      " [0.44284088 0.54906526 0.11355442 0.88354103 0.78069834]\n",
      " [0.569371   2.42572567 0.52613232 0.26163319 0.97306049]\n",
      " [0.43437054 1.06036998 0.27053858 0.29618077 0.20076374]\n",
      " [0.55519813 1.26942959 0.53408843 0.31542328 0.77185109]]\n"
     ]
    }
   ],
   "source": [
    "# random number generation with np.random module\n",
    "\n",
    "# for a list of probability distributions, the autocomplete function can be used (press tab after the dot)\n",
    "random_expo = np.random.exponential(scale=.5, size=(5,5))\n",
    "print(random_expo)"
   ]
  }
 ],
 "metadata": {
  "kernelspec": {
   "display_name": "Python 3 (ipykernel)",
   "language": "python",
   "name": "python3"
  },
  "language_info": {
   "codemirror_mode": {
    "name": "ipython",
    "version": 3
   },
   "file_extension": ".py",
   "mimetype": "text/x-python",
   "name": "python",
   "nbconvert_exporter": "python",
   "pygments_lexer": "ipython3",
   "version": "3.9.7"
  },
  "metadata": {
   "execution": {
    "allow_errors": true
   }
  }
 },
 "nbformat": 4,
 "nbformat_minor": 4
}