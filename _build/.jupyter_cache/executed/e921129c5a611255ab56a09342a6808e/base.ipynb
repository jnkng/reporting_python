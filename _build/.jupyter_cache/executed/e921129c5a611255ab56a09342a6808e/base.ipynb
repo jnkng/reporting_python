{
 "cells": [
  {
   "cell_type": "code",
   "execution_count": 1,
   "id": "f43a0f40",
   "metadata": {},
   "outputs": [],
   "source": [
    "from jupyter_dash import JupyterDash\n",
    "import dash_core_components as dcc\n",
    "import dash_html_components as html"
   ]
  },
  {
   "cell_type": "code",
   "execution_count": 2,
   "id": "dfd02d02",
   "metadata": {},
   "outputs": [],
   "source": [
    "app = JupyterDash('SimpleExample')\n",
    "\n",
    "app.layout = html.Div([\n",
    "    dcc.Markdown('''# Title'''), \n",
    "    html.H2('subtitle')\n",
    "])\n",
    "# Run app and display result 'inline', i.e. in the notebook\n",
    "# app.run_server(mode='inline')"
   ]
  },
  {
   "cell_type": "code",
   "execution_count": 3,
   "id": "fca5debb",
   "metadata": {},
   "outputs": [],
   "source": [
    "# app.run_server()    \n",
    "\n",
    "# see admonition above, below is a picture of the expected output"
   ]
  },
  {
   "cell_type": "code",
   "execution_count": 4,
   "id": "91492990",
   "metadata": {},
   "outputs": [],
   "source": [
    "app = JupyterDash('SimpleExample')\n",
    "\n",
    "app.layout = html.Div([\n",
    "    dcc.RadioItems(\n",
    "        options = [{'label' : el, 'value' : el} for el in ['1','2','3']],\n",
    "        value = '2'\n",
    "    )\n",
    "], style=dict(textAlign='center')) \n",
    "\n",
    "#app.run_server(mode='inline')"
   ]
  },
  {
   "cell_type": "code",
   "execution_count": 5,
   "id": "68f16aab",
   "metadata": {},
   "outputs": [
    {
     "name": "stdout",
     "output_type": "stream",
     "text": [
      "Div(children=[RadioItems(options=[{'label': '1', 'value': '1'}, {'label': '2', 'value': '2'}, {'label': '3', 'value': '3'}], value='2')], style={'textAlign': 'center'})\n"
     ]
    }
   ],
   "source": [
    "print(app.layout)"
   ]
  },
  {
   "cell_type": "code",
   "execution_count": 6,
   "id": "cbed983b",
   "metadata": {
    "scrolled": true
   },
   "outputs": [
    {
     "data": {
      "text/html": [
       "\n",
       "        <iframe\n",
       "            width=\"100%\"\n",
       "            height=\"650\"\n",
       "            src=\"http://127.0.0.1:8050/\"\n",
       "            frameborder=\"0\"\n",
       "            allowfullscreen\n",
       "        ></iframe>\n",
       "        "
      ],
      "text/plain": [
       "<IPython.lib.display.IFrame at 0x12e0bcf40>"
      ]
     },
     "metadata": {},
     "output_type": "display_data"
    }
   ],
   "source": [
    "import plotly.express as px\n",
    "import numpy as np\n",
    "import plotly.graph_objects as go\n",
    "x = np.linspace(-2,2,51)\n",
    "y = x**2\n",
    "fig = go.Figure(go.Scatter(x=x,y=y, mode='markers'))\n",
    "fig.update_layout(margin= {'t': 60})\n",
    "\n",
    "app = JupyterDash('SimpleExample')\n",
    "app.layout = html.Div([\n",
    "    dcc.Markdown(''' - plotly_express:'''), \n",
    "    dcc.Graph(id='px', figure= px.scatter(x=x,y=y)),\n",
    "    dcc.Markdown(''' - graph_objects:'''),\n",
    "    dcc.Graph(id='go', figure= fig)\n",
    "], style={'columnCount':2})\n",
    "\n",
    "app.run_server(mode='inline')"
   ]
  }
 ],
 "metadata": {
  "kernelspec": {
   "display_name": "Python 3",
   "language": "python",
   "name": "python3"
  },
  "language_info": {
   "codemirror_mode": {
    "name": "ipython",
    "version": 3
   },
   "file_extension": ".py",
   "mimetype": "text/x-python",
   "name": "python",
   "nbconvert_exporter": "python",
   "pygments_lexer": "ipython3",
   "version": "3.9.5"
  }
 },
 "nbformat": 4,
 "nbformat_minor": 5
}