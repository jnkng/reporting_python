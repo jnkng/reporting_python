{
 "cells": [
  {
   "cell_type": "code",
   "execution_count": 1,
   "metadata": {},
   "outputs": [
    {
     "data": {
      "text/plain": [
       "\"\\n<html>\\n  <body>\\n    <div id='div_1'>\\n      <p class='section' id ='intro'>\\n        This is a brief introduction to <b>HTML</b>.\\n      </p>\\n    </div>\\n  </body>\\n</html>\\n\""
      ]
     },
     "execution_count": 1,
     "metadata": {},
     "output_type": "execute_result"
    }
   ],
   "source": [
    "\"\"\"\n",
    "<html>\n",
    "  <body>\n",
    "    <div id='div_1'>\n",
    "      <p class='section' id ='intro'>\n",
    "        This is a brief introduction to <b>HTML</b>.\n",
    "      </p>\n",
    "    </div>\n",
    "  </body>\n",
    "</html>\n",
    "\"\"\""
   ]
  },
  {
   "cell_type": "code",
   "execution_count": 2,
   "metadata": {},
   "outputs": [
    {
     "data": {
      "text/html": [
       "<div>\n",
       "<style scoped>\n",
       "    .dataframe tbody tr th:only-of-type {\n",
       "        vertical-align: middle;\n",
       "    }\n",
       "\n",
       "    .dataframe tbody tr th {\n",
       "        vertical-align: top;\n",
       "    }\n",
       "\n",
       "    .dataframe thead th {\n",
       "        text-align: right;\n",
       "    }\n",
       "</style>\n",
       "<table border=\"1\" class=\"dataframe\">\n",
       "  <thead>\n",
       "    <tr style=\"text-align: right;\">\n",
       "      <th></th>\n",
       "      <th>length</th>\n",
       "      <th>height</th>\n",
       "    </tr>\n",
       "  </thead>\n",
       "  <tbody>\n",
       "    <tr>\n",
       "      <th>obj_1</th>\n",
       "      <td>19</td>\n",
       "      <td>55</td>\n",
       "    </tr>\n",
       "    <tr>\n",
       "      <th>obj_2</th>\n",
       "      <td>22</td>\n",
       "      <td>64</td>\n",
       "    </tr>\n",
       "  </tbody>\n",
       "</table>\n",
       "</div>"
      ],
      "text/plain": [
       "       length  height\n",
       "obj_1      19      55\n",
       "obj_2      22      64"
      ]
     },
     "execution_count": 2,
     "metadata": {},
     "output_type": "execute_result"
    }
   ],
   "source": [
    "import pandas as pd\n",
    "\n",
    "df = pd.DataFrame([[19, 55], [22, 64]],\n",
    "index=[\"obj_1\", \"obj_2\"],\n",
    "columns=[\"length\", \"height\"])\n",
    "df"
   ]
  },
  {
   "cell_type": "code",
   "execution_count": 3,
   "metadata": {},
   "outputs": [
    {
     "name": "stdout",
     "output_type": "stream",
     "text": [
      "{\"length\":{\"obj_1\":19,\"obj_2\":22},\"height\":{\"obj_1\":55,\"obj_2\":64}}\n"
     ]
    }
   ],
   "source": [
    "print(df.to_json()) "
   ]
  },
  {
   "cell_type": "code",
   "execution_count": 4,
   "metadata": {},
   "outputs": [
    {
     "data": {
      "text/html": [
       "<div>\n",
       "<style scoped>\n",
       "    .dataframe tbody tr th:only-of-type {\n",
       "        vertical-align: middle;\n",
       "    }\n",
       "\n",
       "    .dataframe tbody tr th {\n",
       "        vertical-align: top;\n",
       "    }\n",
       "\n",
       "    .dataframe thead th {\n",
       "        text-align: right;\n",
       "    }\n",
       "</style>\n",
       "<table border=\"1\" class=\"dataframe\">\n",
       "  <thead>\n",
       "    <tr style=\"text-align: right;\">\n",
       "      <th></th>\n",
       "      <th>length</th>\n",
       "      <th>height</th>\n",
       "    </tr>\n",
       "  </thead>\n",
       "  <tbody>\n",
       "    <tr>\n",
       "      <th>obj_1</th>\n",
       "      <td>19</td>\n",
       "      <td>55</td>\n",
       "    </tr>\n",
       "    <tr>\n",
       "      <th>obj_2</th>\n",
       "      <td>22</td>\n",
       "      <td>64</td>\n",
       "    </tr>\n",
       "  </tbody>\n",
       "</table>\n",
       "</div>"
      ],
      "text/plain": [
       "       length  height\n",
       "obj_1      19      55\n",
       "obj_2      22      64"
      ]
     },
     "execution_count": 4,
     "metadata": {},
     "output_type": "execute_result"
    }
   ],
   "source": [
    "# back to dataframe with read_json()\n",
    "pd.read_json(df.to_json())"
   ]
  },
  {
   "cell_type": "code",
   "execution_count": 5,
   "metadata": {},
   "outputs": [],
   "source": [
    "import wikipediaapi"
   ]
  },
  {
   "cell_type": "code",
   "execution_count": 6,
   "metadata": {},
   "outputs": [],
   "source": [
    "# instantiate object and call page method\n",
    "wiki_en = wikipediaapi.Wikipedia('en')\n",
    "page = wiki_en.page('University_of_Passau') "
   ]
  },
  {
   "cell_type": "code",
   "execution_count": 7,
   "metadata": {},
   "outputs": [
    {
     "name": "stdout",
     "output_type": "stream",
     "text": [
      "title:\n",
      " University_of_Passau\n"
     ]
    },
    {
     "name": "stdout",
     "output_type": "stream",
     "text": [
      "\n",
      "summary:\n",
      " The University of Passau (Universität Passau in German) is a public research university located in Passau, Lower Bavaria, Germany. Founded in 1973, it is the youngest university in Bavaria and consequently has the most modern campus in the state. Nevertheless, its roots as the Institute for Catholic Studies date back some hundreds of years. \n",
      "Today it is home to four faculties and 39 different undergraduate and postgraduate degree programmes.\n"
     ]
    }
   ],
   "source": [
    "print('title:\\n', page.title)\n",
    "print('\\nsummary:\\n',page.summary)"
   ]
  },
  {
   "cell_type": "code",
   "execution_count": 8,
   "metadata": {},
   "outputs": [],
   "source": [
    "import requests as re"
   ]
  },
  {
   "cell_type": "code",
   "execution_count": 9,
   "metadata": {},
   "outputs": [
    {
     "name": "stdout",
     "output_type": "stream",
     "text": [
      "<class 'requests.models.Response'>\n"
     ]
    }
   ],
   "source": [
    "wiki_url = 'https://en.wikipedia.org/w/api.php'\n",
    "\n",
    "# store parameters as dictionary to pass to function, may include key and username for authentication \n",
    "# the parameters are found in the documentary!\n",
    "params = {'action': 'query',\n",
    "         'format': 'json',\n",
    "         'titles': 'University_of_Passau',\n",
    "         'prop': 'extracts',\n",
    "         'exintro': 1,\n",
    "         'disablelimitreport':1}\n",
    "\n",
    "response = re.get(wiki_url, params=params)\n",
    "print(type(response))"
   ]
  },
  {
   "cell_type": "code",
   "execution_count": 10,
   "metadata": {},
   "outputs": [
    {
     "data": {
      "text/plain": [
       "200"
      ]
     },
     "execution_count": 10,
     "metadata": {},
     "output_type": "execute_result"
    }
   ],
   "source": [
    "# check, if request was successful\n",
    "response.status_code    # -> 200 "
   ]
  },
  {
   "cell_type": "code",
   "execution_count": 11,
   "metadata": {},
   "outputs": [],
   "source": [
    "import json"
   ]
  },
  {
   "cell_type": "code",
   "execution_count": 12,
   "metadata": {},
   "outputs": [
    {
     "name": "stdout",
     "output_type": "stream",
     "text": [
      "{\n",
      "    \"batchcomplete\": \"\",\n",
      "    \"warnings\": {\n",
      "        \"main\": {\n",
      "            \"*\": \"Unrecognized parameter: disablelimitreport.\"\n",
      "        },\n",
      "        \"extracts\": {\n",
      "            \"*\": \"HTML may be malformed and/or unbalanced and may omit inline images. Use at your own risk. Known problems are listed at https://www.mediawiki.org/wiki/Special:MyLanguage/Extension:TextExtracts#Caveats.\"\n",
      "        }\n",
      "    },\n",
      "    \"query\": {\n",
      "        \"normalized\": [\n",
      "            {\n",
      "                \"from\": \"University_of_Passau\",\n",
      "                \"to\": \"University of Passau\"\n",
      "            }\n",
      "        ],\n",
      "        \"pages\": {\n",
      "            \"409091\": {\n",
      "                \"pageid\": 409091,\n",
      "                \"ns\": 0,\n",
      "                \"title\": \"University of Passau\",\n",
      "                \"extract\": \"<p>The <b>University of Passau</b> (<i>Universit\\u00e4t Passau</i> in German) is a public research university located in Passau, Lower Bavaria, Germany. Founded in 1973, it is the youngest university in Bavaria and consequently has the most modern campus in the state. Nevertheless, its roots as the Institute for Catholic Studies date back some hundreds of years. \\n</p><p>Today it is home to four faculties and 39 different undergraduate and postgraduate degree programmes.</p>\\n\\n<!-- \\nNewPP limit report\\nParsed by mw1404\\nCached time: 20210525061736\\nCache expiry: 2592000\\nReduced expiry: false\\nComplications: [vary\\u2010revision\\u2010sha1]\\nCPU time usage: 0.360 seconds\\nReal time usage: 0.443 seconds\\nPreprocessor visited node count: 998/1000000\\nPost\\u2010expand include size: 15797/2097152 bytes\\nTemplate argument size: 1399/2097152 bytes\\nHighest expansion depth: 13/40\\nExpensive parser function count: 0/500\\nUnstrip recursion depth: 0/20\\nUnstrip post\\u2010expand size: 7236/5000000 bytes\\nLua time usage: 0.235/10.000 seconds\\nLua memory usage: 18652307/52428800 bytes\\nNumber of Wikibase entities loaded: 0/400\\n-->\\n<!--\\nTransclusion expansion time report (%,ms,calls,template)\\n100.00%  426.719      1 -total\\n 75.94%  324.049      1 Template:Infobox_University\\n 71.01%  302.995      1 Template:Infobox\\n 36.29%  154.850      1 Template:Lang-la\\n 21.23%   90.604      3 Template:Cite_web\\n  7.90%   33.691      2 Template:Color_box\\n  5.36%   22.868     12 Template:If_empty\\n  5.16%   22.024      2 Template:Br_separated_entries\\n  3.95%   16.869      1 Template:URL\\n  3.47%   14.800      2 Template:Greater_color_contrast_ratio\\n-->\"\n",
      "            }\n",
      "        }\n",
      "    }\n",
      "}\n"
     ]
    }
   ],
   "source": [
    "print(json.dumps(response.json(), indent=4))"
   ]
  },
  {
   "cell_type": "code",
   "execution_count": 13,
   "metadata": {},
   "outputs": [
    {
     "name": "stdout",
     "output_type": "stream",
     "text": [
      "title:  University of Passau\n",
      "\n",
      "summary: <p>The <b>University of Passau</b> (<i>Universität Passau</i> in German) is a public research university located in Passau, Lower Bavaria, Germany. Founded in 1973, it is the youngest university in Bavaria and consequently has the most modern campus in the state. Nevertheless, its roots as the Institute for Catholic Studies date back some hundreds of years. \n",
      "</p><p>Today it is home to four faculties and 39 different undergraduate and postgraduate degree programmes.</p>\n",
      "\n",
      "<!-- \n",
      "NewPP limit report\n",
      "Parsed by mw1404\n",
      "Cached time: 20210525061736\n",
      "Cache expiry: 2592000\n",
      "Reduced expiry: false\n",
      "Complications: [vary‐revision‐sha1]\n",
      "CPU time usage: 0.360 seconds\n",
      "Real time usage: 0.443 seconds\n",
      "Preprocessor visited node count: 998/1000000\n",
      "Post‐expand include size: 15797/2097152 bytes\n",
      "Template argument size: 1399/2097152 bytes\n",
      "Highest expansion depth: 13/40\n",
      "Expensive parser function count: 0/500\n",
      "Unstrip recursion depth: 0/20\n",
      "Unstrip post‐expand size: 7236/5000000 bytes\n",
      "Lua time usage: 0.235/10.000 seconds\n",
      "Lua memory usage: 18652307/52428800 bytes\n",
      "Number of Wikibase entities loaded: 0/400\n",
      "-->\n",
      "<!--\n",
      "Transclusion expansion time report (%,ms,calls,template)\n",
      "100.00%  426.719      1 -total\n",
      " 75.94%  324.049      1 Template:Infobox_University\n",
      " 71.01%  302.995      1 Template:Infobox\n",
      " 36.29%  154.850      1 Template:Lang-la\n",
      " 21.23%   90.604      3 Template:Cite_web\n",
      "  7.90%   33.691      2 Template:Color_box\n",
      "  5.36%   22.868     12 Template:If_empty\n",
      "  5.16%   22.024      2 Template:Br_separated_entries\n",
      "  3.95%   16.869      1 Template:URL\n",
      "  3.47%   14.800      2 Template:Greater_color_contrast_ratio\n",
      "-->\n"
     ]
    }
   ],
   "source": [
    "# we can now navigate through the nested dictionaries\n",
    "title = response.json()['query']['pages']['409091']['title']\n",
    "print('title: ',title)\n",
    "summary = response.json()['query']['pages']['409091']['extract']\n",
    "print('\\nsummary:', summary)"
   ]
  },
  {
   "cell_type": "code",
   "execution_count": 14,
   "metadata": {},
   "outputs": [
    {
     "name": "stdout",
     "output_type": "stream",
     "text": [
      "The University of Passau (Universität Passau in German) is a public research university located in Passau, Lower Bavaria, Germany. Founded in 1973, it is the youngest university in Bavaria and consequently has the most modern campus in the state. Nevertheless, its roots as the Institute for Catholic Studies date back some hundreds of years. \n",
      "Today it is home to four faculties and 39 different undergraduate and postgraduate degree programmes.\n",
      "\n",
      "\n"
     ]
    }
   ],
   "source": [
    "from bs4 import BeautifulSoup\n",
    "\n",
    "# first instantiate object, use 'lxml' parser (installation necessary) \n",
    "my_soup = BeautifulSoup(summary, 'lxml')\n",
    "\n",
    "# extract the text, i.e. remove tags\n",
    "print(my_soup.text)"
   ]
  },
  {
   "cell_type": "code",
   "execution_count": 15,
   "metadata": {},
   "outputs": [],
   "source": [
    "# first, send request - get response from ordinary url\n",
    "response = re.get('https://en.wikipedia.org/wiki/University_of_Passau')\n",
    "\n",
    "# second, extract content from the response (html)\n",
    "html = response.content\n",
    "\n",
    "# third, instantiate BS onject\n",
    "soup = BeautifulSoup(html)\n",
    "\n",
    "# if necessary look at a formatted version of the html\n",
    "# print(soup.prettify())     # -> very long output"
   ]
  },
  {
   "cell_type": "code",
   "execution_count": 16,
   "metadata": {},
   "outputs": [
    {
     "name": "stdout",
     "output_type": "stream",
     "text": [
      "a, GermanyCampusUrbanColoursOrange and grey   Websitewww.uni-passau.de/en\n",
      "The University of Passau (Universität Passau in German) is a public research university located in Passau, Lower Bavaria, Germany. Founded in 1973, it is the youngest university in Bavaria and consequently has the most modern campus in the state. Nevertheless, its roots as the Institute for Catholic Studies date back some hundreds of years. \n",
      "Today it is home to four faculties and 39 different undergraduate and postgraduate degree programmes.[3]\n",
      "\n",
      "Contents\n",
      "\n",
      "1 History\n",
      "2 Campus\n",
      "\n",
      "2.1 Library\n",
      "\n",
      "\n",
      "3 Organisation\n",
      "\n",
      "3.1 Governance\n",
      "3\n"
     ]
    }
   ],
   "source": [
    "# finally print the text attribute from the created object\n",
    "print(soup.text[400:1000])     # only part of document for shorter output"
   ]
  },
  {
   "cell_type": "code",
   "execution_count": 17,
   "metadata": {},
   "outputs": [
    {
     "data": {
      "text/plain": [
       "'The University of Passau (Universität Passau in German) is a public research university located in Passau, Lower Bavaria, Germany. Founded in 1973, it is the youngest university in Bavaria and consequently has the most modern campus in the state. Nevertheless, its roots as the Institute for Catholic Studies date back some hundreds of years. \\n'"
      ]
     },
     "execution_count": 17,
     "metadata": {},
     "output_type": "execute_result"
    }
   ],
   "source": [
    "soup.find('p').getText()"
   ]
  },
  {
   "cell_type": "code",
   "execution_count": 18,
   "metadata": {
    "tags": [
     "remove-cell"
    ]
   },
   "outputs": [],
   "source": [
    "#api_key = getpass()\n",
    "api_key = '44c50c7a71efa92e8dac68f5902ea0ec'"
   ]
  },
  {
   "cell_type": "code",
   "execution_count": 19,
   "metadata": {},
   "outputs": [],
   "source": [
    "# define components of the request\n",
    "base_url = 'https://financialmodelingprep.com/api/v3/'\n",
    "filing = 'profile'\n",
    "stock = 'GOOG'\n",
    "params = {'apikey': api_key}\n",
    "\n",
    "# send request and store reponse\n",
    "response = re.get(base_url+filing+'/'+stock, params=params)"
   ]
  },
  {
   "cell_type": "code",
   "execution_count": 20,
   "metadata": {},
   "outputs": [
    {
     "data": {
      "text/plain": [
       "[{'symbol': 'GOOG',\n",
       "  'price': 2406.67,\n",
       "  'beta': 0.995587,\n",
       "  'volAvg': 1452993,\n",
       "  'mktCap': 1594734018560,\n",
       "  'lastDiv': 0.0,\n",
       "  'range': '1347.01-2452.378',\n",
       "  'changes': 61.57,\n",
       "  'companyName': 'Alphabet Inc.',\n",
       "  'currency': 'USD',\n",
       "  'cik': '0001652044',\n",
       "  'isin': 'US02079K1079',\n",
       "  'cusip': '02079K107',\n",
       "  'exchange': 'Nasdaq Global Select',\n",
       "  'exchangeShortName': 'NASDAQ',\n",
       "  'industry': 'Internet Content & Information',\n",
       "  'website': 'http://www.abc.xyz',\n",
       "  'description': 'Alphabet Inc. provides online advertising services in the United States, Europe, the Middle East, Africa, the Asia-Pacific, Canada, and Latin America. It offers performance and brand advertising services. The company operates through Google and Other Bets segments. The Google segment offers products, such as Ads, Android, Chrome, Google Cloud, Google Maps, Google Play, Hardware, Search, and YouTube, as well as technical infrastructure. It also offers digital content, cloud services, hardware devices, and other miscellaneous products and services. The Other Bets segment includes businesses, including Access, Calico, CapitalG, GV, Verily, Waymo, and X, as well as Internet and television services. The company has an agreement with Sabre Corporation to develop an artificial intelligence-driven technology platform for travel. Alphabet Inc. was founded in 1998 and is headquartered in Mountain View, California.',\n",
       "  'ceo': 'Mr. Sundar Pichai',\n",
       "  'sector': 'Communication Services',\n",
       "  'country': 'US',\n",
       "  'fullTimeEmployees': '139995',\n",
       "  'phone': '650-253-0000',\n",
       "  'address': '1600 Amphitheatre Parkway',\n",
       "  'city': 'Mountain View',\n",
       "  'state': 'CA',\n",
       "  'zip': '94043',\n",
       "  'dcfDiff': 376.88,\n",
       "  'dcf': 2426.68,\n",
       "  'image': 'https://financialmodelingprep.com/image-stock/GOOG.png',\n",
       "  'ipoDate': '2004-08-19',\n",
       "  'defaultImage': False,\n",
       "  'isEtf': False,\n",
       "  'isActivelyTrading': True}]"
      ]
     },
     "execution_count": 20,
     "metadata": {},
     "output_type": "execute_result"
    }
   ],
   "source": [
    "# Without further processing, the json is already quite well structured to read\n",
    "response.json()"
   ]
  },
  {
   "cell_type": "code",
   "execution_count": 21,
   "metadata": {},
   "outputs": [
    {
     "name": "stdout",
     "output_type": "stream",
     "text": [
      "200\n"
     ]
    }
   ],
   "source": [
    "filing = 'dowjones_constituent'\n",
    "response = re.get(base_url+filing, params=params)\n",
    "print(response.status_code)"
   ]
  },
  {
   "cell_type": "code",
   "execution_count": 22,
   "metadata": {},
   "outputs": [
    {
     "name": "stdout",
     "output_type": "stream",
     "text": [
      "  symbol                          name              sector  \\\n",
      "0    CRM            Salesforce.Com Inc          Technology   \n",
      "1    WBA  Walgreens Boots Alliance Inc          Healthcare   \n",
      "2      V                      Visa Inc  Financial Services   \n",
      "\n",
      "            subSector                headQuarter dateFirstAdded         cik  \\\n",
      "0          Technology  San Francisco, CALIFORNIA     2020-08-31  0001108524   \n",
      "1          Healthcare        Deerfield, ILLINOIS     2018-06-26  0001618921   \n",
      "2  Financial Services  San Francisco, CALIFORNIA     2013-09-23  0001403161   \n",
      "\n",
      "      founded  \n",
      "0  2004-06-23  \n",
      "1  2014-12-31  \n",
      "2  2008-03-19  \n"
     ]
    }
   ],
   "source": [
    "dji_df = pd.DataFrame.from_dict(response.json())\n",
    "print(dji_df.head(3))"
   ]
  },
  {
   "cell_type": "code",
   "execution_count": 23,
   "metadata": {},
   "outputs": [
    {
     "name": "stdout",
     "output_type": "stream",
     "text": [
      "['CRM', 'WBA', 'V', 'NKE', 'UNH', 'TRV', 'VZ', 'INTC', 'WMT', 'JNJ', 'DIS', 'MCD', 'JPM', 'CAT', 'BA', 'AMGN', 'DOW', 'AAPL', 'GS', 'CSCO', 'MSFT', 'HD', 'PG', 'MRK', 'IBM', 'HON', 'KO', 'CVX', 'AXP', 'MMM']\n"
     ]
    }
   ],
   "source": [
    "# extract symbol column and convert to list\n",
    "dji_symbols = dji_df.symbol.tolist()\n",
    "print(dji_symbols)"
   ]
  },
  {
   "cell_type": "code",
   "execution_count": 24,
   "metadata": {},
   "outputs": [],
   "source": [
    "# set the filing (from documentation)\n",
    "filing = 'historical-price-full'\n",
    "\n",
    "# create empty dataframe (before loop!) to collect data for every company in loop\n",
    "dji_hist = pd.DataFrame()\n",
    "\n",
    "# loop over first 5 symbols in the list\n",
    "for symbol in dji_symbols[:5]:\n",
    "    \n",
    "    # request data for every symbol \n",
    "    response = re.get(base_url+filing+'/'+symbol, params=params)\n",
    "    # break the loop if a response error occurs\n",
    "    if response.status_code != 200:\n",
    "        print('Error! Aborted')\n",
    "        break\n",
    "    # convert the response to json to temporary dataframe\n",
    "    temp_df = pd.DataFrame.from_dict(response.json()['historical'], orient='columns')\n",
    "    # add column with respective symbol\n",
    "    temp_df['symbol'] = symbol\n",
    "    # append temporary dataframe to collect dataframe \n",
    "    dji_hist = dji_hist.append(temp_df, ignore_index=True)\n",
    "    # delete temporary dataframe before next iteration\n",
    "    del temp_df"
   ]
  },
  {
   "cell_type": "code",
   "execution_count": 25,
   "metadata": {},
   "outputs": [
    {
     "name": "stdout",
     "output_type": "stream",
     "text": [
      "AxesSubplot(0.125,0.125;0.775x0.755)\n"
     ]
    },
    {
     "data": {
      "image/png": "[encoded data removed]",
      "text/plain": [
       "<Figure size 432x288 with 1 Axes>"
      ]
     },
     "metadata": {
      "needs_background": "light"
     },
     "output_type": "display_data"
    }
   ],
   "source": [
    "# just one example to show all companies' data made it to the collect dataframe: variance of opening price \n",
    "print(dji_hist.groupby('symbol').open.var().plot(kind='bar'))"
   ]
  }
 ],
 "metadata": {
  "celltoolbar": "Edit Metadata",
  "kernelspec": {
   "display_name": "Python 3",
   "language": "python",
   "name": "python3"
  },
  "language_info": {
   "codemirror_mode": {
    "name": "ipython",
    "version": 3
   },
   "file_extension": ".py",
   "mimetype": "text/x-python",
   "name": "python",
   "nbconvert_exporter": "python",
   "pygments_lexer": "ipython3",
   "version": "3.9.5"
  }
 },
 "nbformat": 4,
 "nbformat_minor": 4
}