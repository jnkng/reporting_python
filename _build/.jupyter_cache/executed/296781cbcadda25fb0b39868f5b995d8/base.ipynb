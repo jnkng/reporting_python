{
 "cells": [
  {
   "cell_type": "code",
   "execution_count": 1,
   "id": "86b67369",
   "metadata": {},
   "outputs": [],
   "source": [
    "from jupyter_dash import JupyterDash \n",
    "from dash import dcc\n",
    "from dash import html\n",
    "from dash.dependencies import Input, Output\n",
    "\n",
    "app = JupyterDash('myFirstReactive')\n",
    "\n",
    "app.layout = html.Div([\n",
    "    html.P(children=\"Input: \"),\n",
    "    dcc.Input(id='inum', value='', type='number'),\n",
    "    html.P(id='outext')\n",
    "])\n",
    "\n",
    "@app.callback(\n",
    "    Output(component_id='outext', component_property='children'),\n",
    "    Input(component_id='inum', component_property='value')\n",
    ")\n",
    "def div_outext(num):\n",
    "    return f'times two: {num*2}'\n",
    "\n",
    "#app.run_server(mode='inline')"
   ]
  },
  {
   "cell_type": "code",
   "execution_count": 2,
   "id": "19f160e4",
   "metadata": {},
   "outputs": [],
   "source": [
    "from dash.dependencies import Input, Output\n",
    "\n",
    "app = JupyterDash()\n",
    "\n",
    "app.layout = html.Div([\n",
    "    html.Div([\"Enter first and last name: \",\n",
    "    dcc.Input(id='fname_i', value='otto', type='text'),\n",
    "    dcc.Input(id='lname_i', value='renner', type='text')]),\n",
    "    html.Br(),\n",
    "    html.Div([html.P(id='fname_o', style={'float': 'left'}),\n",
    "    html.P(id='lname_o', style={'float': 'left','marginLeft': 4})] )\n",
    "])\n",
    "    \n",
    "@app.callback(\n",
    "    Output(component_id='fname_o', component_property='children'),\n",
    "    Output(component_id='lname_o', component_property='children'),\n",
    "    Input(component_id='fname_i', component_property='value'),\n",
    "    Input(component_id='lname_i', component_property='value')\n",
    ")\n",
    "def div_outext(fname, lname):\n",
    "    if fname:\n",
    "        return fname[::-1], lname[::-1]\n",
    "    \n",
    "#app.run_server(mode='inline')"
   ]
  },
  {
   "cell_type": "code",
   "execution_count": 3,
   "id": "2e6b3640",
   "metadata": {},
   "outputs": [],
   "source": [
    "import pandas as pd\n",
    "import datetime as dt\n",
    "import plotly.express as px\n",
    "df = pd.read_csv('data/dji_sector_prices.csv')\n",
    "df.date = pd.to_datetime(df.date)\n",
    "df = df[df.date.dt.year == 2021]\n",
    "df['month'] = [el.month for el in df.date]"
   ]
  },
  {
   "cell_type": "code",
   "execution_count": 4,
   "id": "cbfd3ece",
   "metadata": {},
   "outputs": [],
   "source": [
    "month_marks = {i+1:str(i+1) for i in range(df.month.max())}"
   ]
  },
  {
   "cell_type": "code",
   "execution_count": 5,
   "id": "c300764e",
   "metadata": {
    "scrolled": true
   },
   "outputs": [],
   "source": [
    "app = JupyterDash()\n",
    "\n",
    "app.layout = html.Div([\n",
    "    dcc.Slider(\n",
    "        id='comp_slider',\n",
    "        min= min(df.month),\n",
    "        max= max(df.month),\n",
    "        marks=month_marks,\n",
    "        value=5\n",
    "        ),\n",
    "    dcc.Dropdown(id='company_dd',\n",
    "                options = [{'label': i, 'value': i} for i in df.symbol.unique()],\n",
    "                value = df.symbol.unique()[0]),\n",
    "    dcc.Graph(id='outgraph')\n",
    "])\n",
    "\n",
    "@app.callback(\n",
    "    Output('outgraph', 'figure'),\n",
    "    Input('comp_slider', 'value'),\n",
    "    Input('company_dd', 'value')\n",
    ")\n",
    "def make_outgraph(month, sym):\n",
    "    dftemp = df[df.symbol == sym]\n",
    "    dftemp = dftemp[dftemp.month == month]\n",
    "    fig = px.line(dftemp, x='date', y='open')\n",
    "    return fig\n",
    "\n",
    "#app.run_server(mode='inline)"
   ]
  },
  {
   "cell_type": "code",
   "execution_count": 6,
   "id": "2f5a7483",
   "metadata": {
    "scrolled": false
   },
   "outputs": [],
   "source": [
    "from dash.dependencies import State\n",
    "\n",
    "app = JupyterDash()\n",
    "\n",
    "white_button_style = {'background-color': 'grey',\n",
    "                      'color': 'white',\n",
    "                      'height': '50px',\n",
    "                      'width': '100px',\n",
    "                      'margin-top': '5px',\n",
    "                      'margin-left': '5px'}\n",
    "\n",
    "app.layout = html.Div([\n",
    "    dcc.Slider(\n",
    "        id='comp_slider',\n",
    "        min= min(df.month),\n",
    "        max= max(df.month),\n",
    "        marks=month_marks,\n",
    "        value=5\n",
    "        ),\n",
    "    dcc.Dropdown(id='company_dd',\n",
    "                options = [{'label': i, 'value': i} for i in df.symbol.unique()],\n",
    "                value = df.symbol.unique()[0], style=dict(width='400px')),\n",
    "    html.Button('Update', id='update', n_clicks=0, style=white_button_style),\n",
    "    dcc.Graph(id='outgraph')\n",
    "])\n",
    "\n",
    "@app.callback(\n",
    "    Output('outgraph', 'figure'),\n",
    "    Input('update', 'n_clicks'),\n",
    "    State('comp_slider', 'value'),\n",
    "    State('company_dd', 'value')\n",
    ")\n",
    "def make_outgraph(n_clicks, month, sym):\n",
    "    dftemp = df[df.symbol == sym]\n",
    "    dftemp = dftemp[dftemp.month == month]\n",
    "    fig = px.line(dftemp, x='date', y='open')\n",
    "    return fig\n",
    "\n",
    "#app.run_server(mode='inline')"
   ]
  },
  {
   "cell_type": "code",
   "execution_count": 7,
   "id": "27aa7dde",
   "metadata": {
    "scrolled": true
   },
   "outputs": [],
   "source": [
    "app = JupyterDash()\n",
    "\n",
    "app.layout = html.Div([\n",
    "    dcc.Dropdown(id='sector_dd',\n",
    "                options = [{'label': i, 'value': i} for i in df.sector.unique()],\n",
    "                value = df.sector.unique()[0]),\n",
    "    dcc.Dropdown(id='company_dd',\n",
    "                value = df.symbol.unique()[0])\n",
    "])\n",
    "\n",
    "@app.callback(\n",
    "    Output('company_dd', 'options'),\n",
    "    Input('sector_dd', 'value')\n",
    ")\n",
    "def set_options_company_dd(sector):\n",
    "    return [{'label': i, 'value': i} for i in df[df.sector==sector].symbol.unique()]\n",
    "\n",
    "@app.callback(\n",
    "    Output('company_dd', 'value'),\n",
    "    Input('company_dd', 'options')\n",
    ")\n",
    "def set_default_company_dd(ops):\n",
    "    return ops[0]['value']\n",
    "    \n",
    "#app.run_server(mode='inline')"
   ]
  },
  {
   "cell_type": "code",
   "execution_count": 8,
   "id": "e870031d",
   "metadata": {},
   "outputs": [],
   "source": [
    "from dash import dash_table\n",
    "import plotly.graph_objects as go\n",
    "import dash"
   ]
  },
  {
   "cell_type": "code",
   "execution_count": 9,
   "id": "e19f7776",
   "metadata": {},
   "outputs": [],
   "source": [
    "app = JupyterDash()\n",
    "\n",
    "\n",
    "def build_figure(df):\n",
    "    fig = go.Figure(go.Scatter(x=df.open, y=df.change,\n",
    "                       marker={'color': 'gray'},\n",
    "                       mode='markers',\n",
    "                       selected={'marker': {'color': 'Crimson'}},\n",
    "                       unselected={'marker': {'opacity': 0.4}}),\n",
    "        )\n",
    "    fig.update_layout(dragmode='lasso')\n",
    "    return fig\n",
    "\n",
    "app.layout = html.Div([\n",
    "    dcc.Graph(id='graph', figure=build_figure(df[df.symbol == 'PG'])),\n",
    "    dash_table.DataTable(id='table',\n",
    "                         columns = [{'name': col, 'id': col} for col in df.columns])\n",
    "\n",
    "])\n",
    "\n",
    "@app.callback(\n",
    "    Output('table', 'data'),\n",
    "    [Input(\"graph\", \"selectedData\"),\n",
    "     Input(\"graph\", \"clickData\")])\n",
    "def update_table(selectedData, clickData):\n",
    "    selection = None\n",
    "    data = None\n",
    "    trigger = dash.callback_context.triggered[0][\"prop_id\"]\n",
    "    if trigger == 'graph.clickData':\n",
    "        selection = [point[\"pointIndex\"] for point in clickData[\"points\"]]\n",
    "        data=df.iloc[selection].to_dict(orient='records')\n",
    "\n",
    "    if trigger == 'graph.selectedData':\n",
    "        selection = [point[\"pointIndex\"] for point in selectedData[\"points\"]]\n",
    "        data=df.iloc[selection].to_dict(orient='records')\n",
    "        \n",
    "    print('\\n', dash.callback_context.triggered)\n",
    "    return data\n",
    "\n",
    "#app.run_server(mode='inline')"
   ]
  },
  {
   "cell_type": "code",
   "execution_count": 10,
   "id": "b8fd106d",
   "metadata": {},
   "outputs": [
    {
     "name": "stdout",
     "output_type": "stream",
     "text": [
      "my text\n"
     ]
    }
   ],
   "source": [
    "def text_to_wrap():\n",
    "    print('my text')\n",
    "    \n",
    "text_to_wrap()"
   ]
  },
  {
   "cell_type": "code",
   "execution_count": 11,
   "id": "9765dc45",
   "metadata": {},
   "outputs": [],
   "source": [
    "def emphasize_decorator(func):\n",
    "    def wrapper():\n",
    "        print('##################')\n",
    "        func()\n",
    "        print('!!!!!!!!!!!!!!!!!!')\n",
    "    return wrapper"
   ]
  },
  {
   "cell_type": "code",
   "execution_count": 12,
   "id": "ae36e4ff",
   "metadata": {},
   "outputs": [],
   "source": [
    "text_to_wrap = emphasize_decorator(text_to_wrap)"
   ]
  },
  {
   "cell_type": "code",
   "execution_count": 13,
   "id": "1d2166f3",
   "metadata": {
    "scrolled": true
   },
   "outputs": [
    {
     "name": "stdout",
     "output_type": "stream",
     "text": [
      "##################\n",
      "my text\n",
      "!!!!!!!!!!!!!!!!!!\n"
     ]
    }
   ],
   "source": [
    "text_to_wrap()"
   ]
  },
  {
   "cell_type": "code",
   "execution_count": 14,
   "id": "979e79e5",
   "metadata": {},
   "outputs": [],
   "source": [
    "# emphasize_decorator is being treated as already defined\n",
    "\n",
    "@emphasize_decorator\n",
    "def print_greeting():\n",
    "    print('Hello')"
   ]
  },
  {
   "cell_type": "code",
   "execution_count": 15,
   "id": "588bdb46",
   "metadata": {},
   "outputs": [
    {
     "name": "stdout",
     "output_type": "stream",
     "text": [
      "##################\n",
      "Hello\n",
      "!!!!!!!!!!!!!!!!!!\n"
     ]
    }
   ],
   "source": [
    "print_greeting()"
   ]
  },
  {
   "cell_type": "code",
   "execution_count": 16,
   "id": "56b2d53a",
   "metadata": {},
   "outputs": [],
   "source": [
    "def emphasize_decorator(func):\n",
    "    def wrapper(*args, **kwargs):\n",
    "        print('##################')\n",
    "        func(*args, **kwargs)\n",
    "        print('!!!!!!!!!!!!!!!!!!')\n",
    "    return wrapper"
   ]
  },
  {
   "cell_type": "code",
   "execution_count": 17,
   "id": "2b62dbbd",
   "metadata": {},
   "outputs": [],
   "source": [
    "@emphasize_decorator\n",
    "def text_to_wrap(w1, w2):\n",
    "    print(f\"{w1}\\n{w2}\")"
   ]
  },
  {
   "cell_type": "code",
   "execution_count": 18,
   "id": "362fb9dd",
   "metadata": {},
   "outputs": [
    {
     "name": "stdout",
     "output_type": "stream",
     "text": [
      "##################\n",
      "line1\n",
      "line2\n",
      "!!!!!!!!!!!!!!!!!!\n"
     ]
    }
   ],
   "source": [
    "text_to_wrap('line1', 'line2')"
   ]
  }
 ],
 "metadata": {
  "kernelspec": {
   "display_name": "Python 3 (ipykernel)",
   "language": "python",
   "name": "python3"
  },
  "language_info": {
   "codemirror_mode": {
    "name": "ipython",
    "version": 3
   },
   "file_extension": ".py",
   "mimetype": "text/x-python",
   "name": "python",
   "nbconvert_exporter": "python",
   "pygments_lexer": "ipython3",
   "version": "3.10.6"
  }
 },
 "nbformat": 4,
 "nbformat_minor": 5
}