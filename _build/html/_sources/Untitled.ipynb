{
 "cells": [
  {
   "cell_type": "code",
   "execution_count": null,
   "id": "ce3615eb",
   "metadata": {
    "scrolled": true
   },
   "outputs": [],
   "source": [
    "1 + 9.0"
   ]
  },
  {
   "cell_type": "code",
   "execution_count": null,
   "id": "964635a7",
   "metadata": {},
   "outputs": [],
   "source": [
    ".5"
   ]
  },
  {
   "cell_type": "code",
   "execution_count": null,
   "id": "e3f14fb6",
   "metadata": {},
   "outputs": [],
   "source": [
    "9 + 5"
   ]
  },
  {
   "cell_type": "code",
   "execution_count": null,
   "id": "fb9e525c",
   "metadata": {},
   "outputs": [],
   "source": [
    "5"
   ]
  },
  {
   "cell_type": "code",
   "execution_count": null,
   "id": "f926a3f6",
   "metadata": {},
   "outputs": [],
   "source": [
    "'9'"
   ]
  },
  {
   "cell_type": "code",
   "execution_count": null,
   "id": "5be5af85",
   "metadata": {
    "scrolled": true
   },
   "outputs": [],
   "source": [
    "print(\"ff 'einschub' \")"
   ]
  },
  {
   "cell_type": "code",
   "execution_count": null,
   "id": "e069488d",
   "metadata": {},
   "outputs": [],
   "source": [
    "print('ff \"einschub\" ')"
   ]
  },
  {
   "cell_type": "code",
   "execution_count": null,
   "id": "bd884af0",
   "metadata": {},
   "outputs": [],
   "source": [
    "print('hi', ', you')"
   ]
  },
  {
   "cell_type": "code",
   "execution_count": null,
   "id": "869f4eab",
   "metadata": {},
   "outputs": [],
   "source": [
    "5 + 5\n",
    "print(45)\n"
   ]
  },
  {
   "cell_type": "code",
   "execution_count": null,
   "id": "66ae915c",
   "metadata": {},
   "outputs": [],
   "source": [
    "help(max)"
   ]
  },
  {
   "cell_type": "code",
   "execution_count": null,
   "id": "23f3d54d",
   "metadata": {},
   "outputs": [],
   "source": [
    "False"
   ]
  },
  {
   "cell_type": "code",
   "execution_count": null,
   "id": "d5e17f14",
   "metadata": {},
   "outputs": [],
   "source": [
    "True"
   ]
  },
  {
   "cell_type": "code",
   "execution_count": null,
   "id": "6c4e8e34",
   "metadata": {},
   "outputs": [],
   "source": [
    "1 > 2"
   ]
  },
  {
   "cell_type": "code",
   "execution_count": null,
   "id": "822aa4a0",
   "metadata": {},
   "outputs": [],
   "source": [
    "a = 'b'"
   ]
  },
  {
   "cell_type": "code",
   "execution_count": null,
   "id": "2e043e87",
   "metadata": {},
   "outputs": [],
   "source": [
    "'to ' * 2"
   ]
  },
  {
   "cell_type": "code",
   "execution_count": null,
   "id": "f47cc4fa",
   "metadata": {},
   "outputs": [],
   "source": [
    "print('var_a_t_1')\n",
    "print('var' + '_' + 'a' + '_' + 't_1')"
   ]
  },
  {
   "cell_type": "code",
   "execution_count": null,
   "id": "2918705a",
   "metadata": {},
   "outputs": [],
   "source": [
    "'www.' + 'google' + '.com'"
   ]
  },
  {
   "cell_type": "code",
   "execution_count": null,
   "id": "d881be46",
   "metadata": {},
   "outputs": [],
   "source": []
  },
  {
   "cell_type": "code",
   "execution_count": null,
   "id": "2b361a82",
   "metadata": {},
   "outputs": [],
   "source": [
    "a = 1"
   ]
  },
  {
   "cell_type": "code",
   "execution_count": null,
   "id": "83749313",
   "metadata": {},
   "outputs": [],
   "source": [
    "b = 2"
   ]
  },
  {
   "cell_type": "code",
   "execution_count": null,
   "id": "97a5779f",
   "metadata": {
    "scrolled": true
   },
   "outputs": [],
   "source": [
    "a"
   ]
  },
  {
   "cell_type": "code",
   "execution_count": null,
   "id": "fe253c11",
   "metadata": {},
   "outputs": [],
   "source": [
    "a = 10"
   ]
  },
  {
   "cell_type": "code",
   "execution_count": null,
   "id": "d828d917",
   "metadata": {},
   "outputs": [],
   "source": [
    "a"
   ]
  },
  {
   "cell_type": "code",
   "execution_count": null,
   "id": "5876897e",
   "metadata": {},
   "outputs": [],
   "source": []
  },
  {
   "cell_type": "code",
   "execution_count": null,
   "id": "aa1bd1f2",
   "metadata": {},
   "outputs": [],
   "source": [
    "# mit präfix\n",
    "import math \n",
    "import math as mt"
   ]
  },
  {
   "cell_type": "code",
   "execution_count": null,
   "id": "ed80c24e",
   "metadata": {},
   "outputs": [],
   "source": [
    "pi"
   ]
  },
  {
   "cell_type": "code",
   "execution_count": null,
   "id": "6e0dbbb7",
   "metadata": {},
   "outputs": [],
   "source": [
    "from math import pi"
   ]
  },
  {
   "cell_type": "code",
   "execution_count": null,
   "id": "299eb917",
   "metadata": {},
   "outputs": [],
   "source": [
    "pi"
   ]
  },
  {
   "cell_type": "code",
   "execution_count": null,
   "id": "7c05cbb2",
   "metadata": {},
   "outputs": [],
   "source": [
    "math.cos(pi)"
   ]
  },
  {
   "cell_type": "code",
   "execution_count": null,
   "id": "11864569",
   "metadata": {},
   "outputs": [],
   "source": [
    "from math import cos"
   ]
  },
  {
   "cell_type": "code",
   "execution_count": null,
   "id": "fd0ce76c",
   "metadata": {},
   "outputs": [],
   "source": [
    "cos(pi)"
   ]
  },
  {
   "cell_type": "code",
   "execution_count": 1,
   "id": "32f7935b",
   "metadata": {},
   "outputs": [],
   "source": [
    "from math import *"
   ]
  },
  {
   "cell_type": "code",
   "execution_count": 2,
   "id": "9144bca9",
   "metadata": {},
   "outputs": [
    {
     "data": {
      "text/plain": [
       "-1.0"
      ]
     },
     "execution_count": 2,
     "metadata": {},
     "output_type": "execute_result"
    }
   ],
   "source": [
    "cos(pi)"
   ]
  },
  {
   "cell_type": "code",
   "execution_count": 15,
   "id": "29e5e6f9",
   "metadata": {},
   "outputs": [],
   "source": [
    "var_1 = 25"
   ]
  },
  {
   "cell_type": "code",
   "execution_count": 16,
   "id": "4cc90813",
   "metadata": {},
   "outputs": [],
   "source": [
    "var_1 = var_1*10"
   ]
  },
  {
   "cell_type": "code",
   "execution_count": 17,
   "id": "0633d2fc",
   "metadata": {},
   "outputs": [],
   "source": [
    "var_1 = var_1/5"
   ]
  },
  {
   "cell_type": "code",
   "execution_count": 18,
   "id": "4cb1bff0",
   "metadata": {},
   "outputs": [
    {
     "data": {
      "text/plain": [
       "50.0"
      ]
     },
     "execution_count": 18,
     "metadata": {},
     "output_type": "execute_result"
    }
   ],
   "source": [
    "var_1"
   ]
  },
  {
   "cell_type": "code",
   "execution_count": 19,
   "id": "401f7ad6",
   "metadata": {},
   "outputs": [
    {
     "data": {
      "text/plain": [
       "5.0"
      ]
     },
     "execution_count": 19,
     "metadata": {},
     "output_type": "execute_result"
    }
   ],
   "source": [
    "var_1 / 10"
   ]
  },
  {
   "cell_type": "code",
   "execution_count": 21,
   "id": "848d38c0",
   "metadata": {},
   "outputs": [
    {
     "data": {
      "text/plain": [
       "True"
      ]
     },
     "execution_count": 21,
     "metadata": {},
     "output_type": "execute_result"
    }
   ],
   "source": [
    "1 == 1"
   ]
  },
  {
   "cell_type": "code",
   "execution_count": 22,
   "id": "e4f48dbc",
   "metadata": {},
   "outputs": [
    {
     "data": {
      "text/plain": [
       "False"
      ]
     },
     "execution_count": 22,
     "metadata": {},
     "output_type": "execute_result"
    }
   ],
   "source": [
    "1 != 1"
   ]
  },
  {
   "cell_type": "code",
   "execution_count": 27,
   "id": "69ed06e1",
   "metadata": {},
   "outputs": [
    {
     "data": {
      "text/plain": [
       "['a', 1]"
      ]
     },
     "execution_count": 27,
     "metadata": {},
     "output_type": "execute_result"
    }
   ],
   "source": [
    "['a', 1]"
   ]
  },
  {
   "cell_type": "code",
   "execution_count": 28,
   "id": "fc224279",
   "metadata": {},
   "outputs": [
    {
     "data": {
      "text/plain": [
       "('a', 1)"
      ]
     },
     "execution_count": 28,
     "metadata": {},
     "output_type": "execute_result"
    }
   ],
   "source": [
    "('a', 1)"
   ]
  },
  {
   "cell_type": "code",
   "execution_count": 30,
   "id": "1f3e473e",
   "metadata": {},
   "outputs": [
    {
     "data": {
      "text/plain": [
       "[1, [1]]"
      ]
     },
     "execution_count": 30,
     "metadata": {},
     "output_type": "execute_result"
    }
   ],
   "source": [
    "[1, [1]]"
   ]
  },
  {
   "cell_type": "code",
   "execution_count": 31,
   "id": "176e10a9",
   "metadata": {},
   "outputs": [
    {
     "data": {
      "text/plain": [
       "[1, 1, 1]"
      ]
     },
     "execution_count": 31,
     "metadata": {},
     "output_type": "execute_result"
    }
   ],
   "source": [
    "[1, 1, 1]"
   ]
  },
  {
   "cell_type": "code",
   "execution_count": 32,
   "id": "d92b79ef",
   "metadata": {},
   "outputs": [],
   "source": [
    "my_list = [1, 2, 3] "
   ]
  },
  {
   "cell_type": "code",
   "execution_count": 33,
   "id": "62442111",
   "metadata": {},
   "outputs": [
    {
     "data": {
      "text/plain": [
       "[1, 2, 3]"
      ]
     },
     "execution_count": 33,
     "metadata": {},
     "output_type": "execute_result"
    }
   ],
   "source": [
    "my_list"
   ]
  },
  {
   "cell_type": "code",
   "execution_count": 35,
   "id": "13803529",
   "metadata": {},
   "outputs": [
    {
     "data": {
      "text/plain": [
       "3"
      ]
     },
     "execution_count": 35,
     "metadata": {},
     "output_type": "execute_result"
    }
   ],
   "source": [
    "my_list[2]"
   ]
  },
  {
   "cell_type": "code",
   "execution_count": 36,
   "id": "872607eb",
   "metadata": {},
   "outputs": [
    {
     "data": {
      "text/plain": [
       "('a', 'b', 'c')"
      ]
     },
     "execution_count": 36,
     "metadata": {},
     "output_type": "execute_result"
    }
   ],
   "source": [
    "my_tuple = ('a', 'b', 'c')\n",
    "my_tuple"
   ]
  },
  {
   "cell_type": "code",
   "execution_count": 37,
   "id": "b0c8737b",
   "metadata": {},
   "outputs": [
    {
     "data": {
      "text/plain": [
       "'b'"
      ]
     },
     "execution_count": 37,
     "metadata": {},
     "output_type": "execute_result"
    }
   ],
   "source": [
    "my_tuple[1]"
   ]
  },
  {
   "cell_type": "code",
   "execution_count": 38,
   "id": "da0bd5c7",
   "metadata": {},
   "outputs": [
    {
     "data": {
      "text/plain": [
       "[10, 2, 3]"
      ]
     },
     "execution_count": 38,
     "metadata": {},
     "output_type": "execute_result"
    }
   ],
   "source": [
    "my_list[0] = 10\n",
    "my_list"
   ]
  },
  {
   "cell_type": "code",
   "execution_count": 40,
   "id": "599c4e84",
   "metadata": {},
   "outputs": [
    {
     "ename": "TypeError",
     "evalue": "'tuple' object does not support item assignment",
     "output_type": "error",
     "traceback": [
      "\u001b[0;31m---------------------------------------------------------------------------\u001b[0m",
      "\u001b[0;31mTypeError\u001b[0m                                 Traceback (most recent call last)",
      "Input \u001b[0;32mIn [40]\u001b[0m, in \u001b[0;36m<cell line: 1>\u001b[0;34m()\u001b[0m\n\u001b[0;32m----> 1\u001b[0m my_tuple[\u001b[38;5;241m0\u001b[39m] \u001b[38;5;241m=\u001b[39m \u001b[38;5;124m'\u001b[39m\u001b[38;5;124m5\u001b[39m\u001b[38;5;124m'\u001b[39m\n",
      "\u001b[0;31mTypeError\u001b[0m: 'tuple' object does not support item assignment"
     ]
    }
   ],
   "source": [
    "my_tuple[0] = '5'"
   ]
  }
 ],
 "metadata": {
  "kernelspec": {
   "display_name": "Python 3 (ipykernel)",
   "language": "python",
   "name": "python3"
  },
  "language_info": {
   "codemirror_mode": {
    "name": "ipython",
    "version": 3
   },
   "file_extension": ".py",
   "mimetype": "text/x-python",
   "name": "python",
   "nbconvert_exporter": "python",
   "pygments_lexer": "ipython3",
   "version": "3.8.8"
  }
 },
 "nbformat": 4,
 "nbformat_minor": 5
}
