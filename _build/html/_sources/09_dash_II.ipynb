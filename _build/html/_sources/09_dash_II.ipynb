{
 "cells": [
  {
   "cell_type": "code",
   "execution_count": 2,
   "id": "612f142f",
   "metadata": {},
   "outputs": [],
   "source": [
    "from jupyter_dash import JupyterDash \n",
    "import dash_core_components as dcc\n",
    "import dash_html_components as html"
   ]
  },
  {
   "cell_type": "markdown",
   "id": "899dd41b",
   "metadata": {},
   "source": [
    "# Dash - advanced interactivity\n",
    "\n",
    "dependencies!\n",
    "\n",
    "To provide advanced interactivity and reactivity, we need to provide the content as a function. Dash then makes use of [decorators](Decorators) and callbacks:\n",
    "\n",
    "- decorators link the functions to the input and output of the UI\n",
    "\n",
    "- a callback ensures that every time an input changes (the element referenced with its **id**), the respective function is run to keep the content of the UI up-to-date, e.g. for a new selection of data points, or after clicking a button, etc.  \n",
    "\n",
    "The structure for building an advanced app is:\n",
    "- create a JupyterDash object\n",
    "\n",
    "- define the UI by using the `.layout()` method:\n",
    "    - static elements are defined here\n",
    "    - every interactive item gets an unique **id** which will identify the element as it is given to the server/UI. For example: An info text, which will not change during the use of the app would not need an id. A button to alter something must get an id.\n",
    "\n",
    "- define the server functions for the content and use the `app.callback` decorator (see [](Decorators))\n",
    "    - this part will do any calculations or assignments for interactive elements. The output created here also gets an **id** to address it in the UI in order to display it\n",
    "    \n",
    "- the app is run using the `.run_server()` method\n",
    "\n"
   ]
  },
  {
   "cell_type": "markdown",
   "id": "182b8719",
   "metadata": {},
   "source": [
    "\n",
    "\n",
    "To use the decorators and link input and output for server and UI, we need to import the respective functions from `dash.dependencies`."
   ]
  },
  {
   "cell_type": "code",
   "execution_count": 4,
   "id": "86b67369",
   "metadata": {},
   "outputs": [
    {
     "name": "stderr",
     "output_type": "stream",
     "text": [
      "/Users/jan/Desktop/Promotion/python_class/venv/lib/python3.9/site-packages/jupyter_dash/jupyter_app.py:139: UserWarning: The 'environ['werkzeug.server.shutdown']' function is deprecated and will be removed in Werkzeug 2.1.\n",
      "  func()\n"
     ]
    },
    {
     "data": {
      "text/html": [
       "\n",
       "        <iframe\n",
       "            width=\"100%\"\n",
       "            height=\"650\"\n",
       "            src=\"http://127.0.0.1:8050/\"\n",
       "            frameborder=\"0\"\n",
       "            allowfullscreen\n",
       "        ></iframe>\n",
       "        "
      ],
      "text/plain": [
       "<IPython.lib.display.IFrame at 0x10e642fa0>"
      ]
     },
     "metadata": {},
     "output_type": "display_data"
    }
   ],
   "source": [
    "from dash.dependencies import Input, Output\n",
    "\n",
    "app = JupyterDash('test')\n",
    "\n",
    "app.layout = html.Div([\n",
    "    html.H6(\"Change the value in the text box to see callbacks in action!\"),\n",
    "    html.Div(children=[\"Input: \",\n",
    "              dcc.Input(id='my-input', value='initial value', type='text')]),\n",
    "    html.Br(),\n",
    "    html.Div(id='my-output'),\n",
    "\n",
    "])\n",
    "\n",
    "@app.callback(\n",
    "    Output(component_id='my-output', component_property='children'),\n",
    "    Input(component_id='my-input', component_property='value')\n",
    ")\n",
    "def update_output_div(input_value):\n",
    "    return f'Output: {input_value}'\n",
    "\n",
    "app.run_server(mode='inline')"
   ]
  },
  {
   "cell_type": "code",
   "execution_count": null,
   "id": "17ed700b",
   "metadata": {},
   "outputs": [],
   "source": [
    "app.callback_map"
   ]
  },
  {
   "cell_type": "markdown",
   "id": "4ddfaac4",
   "metadata": {},
   "source": [
    "(Decorators)=\n",
    "## Decorators\n",
    "\n",
    "Functions which expand the functionality of another function are called decorators (or wrappers). However, these decorators do not change the underlying function, i.e. the one that *gets decorated*. \n",
    "\n",
    "This is possible since functions, just like anything in python, are objects and can get passed as arguments to other functions (we have seen this in the context of callbacks). Furthermore, functions may be defined inside other functions, using the the same syntax as usual.\n",
    "\n",
    "Let's look at a simple example of a function and a wrapper/decorator.\n",
    "The initial function `text_to_wrap` simply prints a string. The decorator returns the `wrapper()` function, which adds a line above and below the text, when printing."
   ]
  },
  {
   "cell_type": "code",
   "execution_count": null,
   "id": "b8fd106d",
   "metadata": {},
   "outputs": [],
   "source": [
    "def text_to_wrap():\n",
    "    print('my text')\n",
    "    \n",
    "text_to_wrap()"
   ]
  },
  {
   "cell_type": "code",
   "execution_count": null,
   "id": "9765dc45",
   "metadata": {},
   "outputs": [],
   "source": [
    "def emphasize_decorator(func):\n",
    "    def wrapper():\n",
    "        print('##################')\n",
    "        func()\n",
    "        print('!!!!!!!!!!!!!!!!!!')\n",
    "    return wrapper"
   ]
  },
  {
   "cell_type": "markdown",
   "id": "cb1d3124",
   "metadata": {},
   "source": [
    "To decorate `text_to_wrap`, we can assign the decorator with '`text_to_wrap`' as argument to the initial function name. Note that we pass the function name without parentheses."
   ]
  },
  {
   "cell_type": "code",
   "execution_count": null,
   "id": "ae36e4ff",
   "metadata": {},
   "outputs": [],
   "source": [
    "text_to_wrap = emphasize_decorator(text_to_wrap)"
   ]
  },
  {
   "cell_type": "code",
   "execution_count": null,
   "id": "1d2166f3",
   "metadata": {
    "scrolled": true
   },
   "outputs": [],
   "source": [
    "text_to_wrap()"
   ]
  },
  {
   "cell_type": "markdown",
   "id": "ca584cf8",
   "metadata": {},
   "source": [
    "To shorten this procedure, python includes a special syntax for decorators. With `@emphasize_decorator` (no parentheses!) before the definition of the inner function, we can achieve the same behaviour."
   ]
  },
  {
   "cell_type": "code",
   "execution_count": null,
   "id": "979e79e5",
   "metadata": {},
   "outputs": [],
   "source": [
    "# emphasize_decorator is being treated as already defined\n",
    "\n",
    "@emphasize_decorator\n",
    "def print_greeting():\n",
    "    print('Hello')"
   ]
  },
  {
   "cell_type": "code",
   "execution_count": null,
   "id": "588bdb46",
   "metadata": {},
   "outputs": [],
   "source": [
    "print_greeting()"
   ]
  },
  {
   "cell_type": "markdown",
   "id": "ced5f8a8",
   "metadata": {},
   "source": [
    "We see, that `print_greeting()` has initially been defined to print 'Hello'. With the decorator call using `@`, however, we have decorated it on the fly to add the emphasis lines around the text from `emphasize_decorator()`. Furthermore, decorators may be chained by subsequent calls of the decorator functions with the same `@`-syntax before the definition of the inner function.  "
   ]
  },
  {
   "cell_type": "markdown",
   "id": "9e36b28b",
   "metadata": {},
   "source": [
    "To pass arguments through the decorator, we can use `*args` and `**kwargs` as placeholder for an arbitrary number of positional arguments and keyword arguments. Note that this is not unique for decorators, but can be used for the definition of any function! We will now update the first two examples from above:\n",
    "    - `text_to_wrap` will get two arguments to print\n",
    "    - `wrapper` inside `emphasize_decorator` will get the placeholders in it's definition "
   ]
  },
  {
   "cell_type": "code",
   "execution_count": null,
   "id": "56b2d53a",
   "metadata": {},
   "outputs": [],
   "source": [
    "def emphasize_decorator(func):\n",
    "    def wrapper(*args, **kwargs):\n",
    "        print('##################')\n",
    "        func(*args, **kwargs)\n",
    "        print('!!!!!!!!!!!!!!!!!!')\n",
    "    return wrapper"
   ]
  },
  {
   "cell_type": "code",
   "execution_count": null,
   "id": "2b62dbbd",
   "metadata": {},
   "outputs": [],
   "source": [
    "@emphasize_decorator\n",
    "def text_to_wrap(w1, w2):\n",
    "    print(f\"{w1}\\n{w2}\")"
   ]
  },
  {
   "cell_type": "code",
   "execution_count": null,
   "id": "362fb9dd",
   "metadata": {},
   "outputs": [],
   "source": [
    "text_to_wrap('line1', 'line2')"
   ]
  },
  {
   "cell_type": "markdown",
   "id": "f37d532d",
   "metadata": {},
   "source": [
    "This is what dash does with the functions defined in the server part: These functions get wrapped to be linked automatically to the UI and to get called every time, the respective input changes."
   ]
  },
  {
   "cell_type": "code",
   "execution_count": null,
   "id": "f6918885",
   "metadata": {},
   "outputs": [],
   "source": []
  },
  {
   "cell_type": "code",
   "execution_count": null,
   "id": "f0d1e209",
   "metadata": {},
   "outputs": [],
   "source": []
  },
  {
   "cell_type": "code",
   "execution_count": null,
   "id": "7bae413e",
   "metadata": {},
   "outputs": [],
   "source": []
  },
  {
   "cell_type": "code",
   "execution_count": null,
   "id": "471fcbf9",
   "metadata": {},
   "outputs": [],
   "source": [
    "import dash\n",
    "import numpy as np\n",
    "import pandas as pd\n",
    "import plotly.graph_objects as go\n",
    "import dash_core_components as dcc\n",
    "import dash_html_components as html\n",
    "\n",
    "from dash.dependencies import Input, Output, State\n",
    "\n",
    "cars_df = pd.read_csv('https://raw.githubusercontent.com/plotly/datasets/master/imports-85.csv')\n",
    "# Build parcats dimensions\n",
    "categorical_dimensions = ['body-style', 'drive-wheels', 'fuel-type']\n",
    "dimensions = [dict(values=cars_df[label], label=label) for label in categorical_dimensions]\n",
    "# Build colorscale.\n",
    "color = np.zeros(len(cars_df), dtype='uint8')\n",
    "colorscale = [[0, '#167b7e'], [1, '#4b3268']]\n",
    "\n",
    "\n",
    "def build_figure():\n",
    "    fig = go.Figure(\n",
    "        data=[\n",
    "            go.Scatter(x=cars_df.horsepower, y=cars_df['highway-mpg'],\n",
    "                       marker={'color': 'gray'}, mode='markers', selected={'marker': {'color': 'firebrick'}},\n",
    "                       unselected={'marker': {'opacity': 0.4}}),\n",
    "            go.Parcats(\n",
    "                domain={'y': [0, 0.4]}, dimensions=dimensions,\n",
    "                line={'colorscale': colorscale, 'cmin': 0,\n",
    "                      'cmax': 1, 'color': color, 'shape': 'hspline'})\n",
    "        ])\n",
    "    fig.update_layout(\n",
    "        height=800,\n",
    "        xaxis={'title': 'Horsepower'},\n",
    "        yaxis={'title': 'MPG', 'domain': [0.6, 1]},\n",
    "        dragmode='lasso',\n",
    "        hovermode='closest',\n",
    "        # plot_bgcolor='rgba(0, 0, 0, 0)',\n",
    "        paper_bgcolor='rgba(0, 0, 0, 0)',\n",
    "        autosize=False,\n",
    "        bargap=0.35,\n",
    "        font={\"family\": \"Questrial\", \"size\": 10})\n",
    "    return fig\n",
    "\n",
    "\n",
    "app =JupyterDash(prevent_initial_callbacks=True)\n",
    "app.layout = html.Div([dcc.Graph(figure=build_figure(), id=\"graph\")])\n",
    "\n",
    "\n",
    "@app.callback(Output(\"graph\", \"figure\"), [Input(\"graph\", \"selectedData\"), Input(\"graph\", \"clickData\")],\n",
    "              [State(\"graph\", \"figure\")])\n",
    "def update_color(selectedData, clickData, fig):\n",
    "    selection = None\n",
    "    # Update selection based on which event triggered the update.\n",
    "    trigger = dash.callback_context.triggered[0][\"prop_id\"]\n",
    "    if trigger == 'graph.clickData':\n",
    "        selection = [point[\"pointNumber\"] for point in clickData[\"points\"]]\n",
    "    if trigger == 'graph.selectedData':\n",
    "        selection = [point[\"pointIndex\"] for point in selectedData[\"points\"]]\n",
    "    # Update scatter selection\n",
    "    fig[\"data\"][0][\"selectedpoints\"] = selection\n",
    "    # Update parcats colors\n",
    "    new_color = np.zeros(len(cars_df), dtype='uint8')\n",
    "    new_color[selection] = 1\n",
    "    fig[\"data\"][1][\"line\"][\"color\"] = new_color\n",
    "    return fig\n",
    "\n",
    "\n",
    "\n",
    "app.run_server()"
   ]
  },
  {
   "cell_type": "code",
   "execution_count": null,
   "id": "35d7a65f",
   "metadata": {},
   "outputs": [],
   "source": [
    "say_whee()"
   ]
  },
  {
   "cell_type": "code",
   "execution_count": null,
   "id": "5cdd3083",
   "metadata": {},
   "outputs": [],
   "source": []
  }
 ],
 "metadata": {
  "kernelspec": {
   "display_name": "Python 3",
   "language": "python",
   "name": "python3"
  },
  "language_info": {
   "codemirror_mode": {
    "name": "ipython",
    "version": 3
   },
   "file_extension": ".py",
   "mimetype": "text/x-python",
   "name": "python",
   "nbconvert_exporter": "python",
   "pygments_lexer": "ipython3",
   "version": "3.9.5"
  }
 },
 "nbformat": 4,
 "nbformat_minor": 5
}
